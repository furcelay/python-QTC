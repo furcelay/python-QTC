{
 "cells": [
  {
   "cell_type": "markdown",
   "id": "caee3bf3",
   "metadata": {},
   "source": [
    "# Jupyter Notebooks"
   ]
  },
  {
   "cell_type": "markdown",
   "id": "9c3594dd",
   "metadata": {},
   "source": [
    "* Los Jupyter Notebooks son una forma de ejecutar python de forma interactiva en celdas. \n",
    "\n",
    "* Cada celda puede tener código (code) o texto (markdown)\n",
    "\n",
    "* Las celdas de código incluyen la salida justo abajo.\n",
    "\n",
    "* Pueden crear nuevas celdas con '+' o usando atajos de teclado (ver help)\n",
    "\n",
    "* Las celdas se ejecutan con el botón 'Run' o con 'shift+enter' / 'ctrl+enter'"
   ]
  },
  {
   "cell_type": "code",
   "execution_count": null,
   "id": "177dfcc1",
   "metadata": {
    "scrolled": true
   },
   "outputs": [],
   "source": [
    "3 + 7"
   ]
  },
  {
   "cell_type": "code",
   "execution_count": null,
   "id": "e50c94c2",
   "metadata": {},
   "outputs": [],
   "source": [
    "print(\"Hola Mundo\")"
   ]
  },
  {
   "cell_type": "markdown",
   "id": "7e08e666",
   "metadata": {},
   "source": [
    "# Clase 1: Variables, tipos básicos, I/O básico"
   ]
  },
  {
   "cell_type": "markdown",
   "id": "b750fe68",
   "metadata": {},
   "source": [
    "## Nombrando variables"
   ]
  },
  {
   "cell_type": "markdown",
   "id": "4367534b",
   "metadata": {},
   "source": [
    "* Una variable guarda un valor bajo un nombre\n",
    "* Las variables se asignan con ‘=’ (__operador de asignación__)\n",
    "* No es necesario especificar el tipo de variable"
   ]
  },
  {
   "cell_type": "code",
   "execution_count": null,
   "id": "f90e1f45",
   "metadata": {},
   "outputs": [],
   "source": [
    "x = 7"
   ]
  },
  {
   "cell_type": "code",
   "execution_count": null,
   "id": "09159934",
   "metadata": {},
   "outputs": [],
   "source": [
    "x"
   ]
  },
  {
   "cell_type": "markdown",
   "id": "5d33b62e",
   "metadata": {},
   "source": [
    "* El nombre de la variable debe tener solo caracteres alfanuméricos o ‘_’ y no puede comenzar con un número\n",
    "* No debe incluir acentos (á, ü, ñ, etc)\n",
    "* Por consenso se usan solo minúsculas y ‘_’ en vez de espacios (snake_case)\n",
    "* No usar nombres de variables o funciones predefinidas en Python (veremos algunos más adelante)"
   ]
  },
  {
   "cell_type": "markdown",
   "id": "11ce9d73",
   "metadata": {},
   "source": [
    "Nombres correctos:"
   ]
  },
  {
   "cell_type": "code",
   "execution_count": null,
   "id": "6fee4381",
   "metadata": {},
   "outputs": [],
   "source": [
    "variable = 5\n",
    "variable_2 = \"Hola Mundo\"\n",
    "_mi_variable = 123"
   ]
  },
  {
   "cell_type": "markdown",
   "id": "b7137aab",
   "metadata": {},
   "source": [
    "Nombres incorrectos:"
   ]
  },
  {
   "cell_type": "code",
   "execution_count": null,
   "id": "76152509",
   "metadata": {},
   "outputs": [],
   "source": [
    "1_variable = 5"
   ]
  },
  {
   "cell_type": "markdown",
   "id": "cf9067eb",
   "metadata": {},
   "source": [
    "acentos o ñ: esta puede dar error dependiendo del dispositivo, no usar aunque no de error:"
   ]
  },
  {
   "cell_type": "code",
   "execution_count": null,
   "id": "fe70dc37",
   "metadata": {},
   "outputs": [],
   "source": [
    "inválida = 5\n",
    "con_ñ = \"esto tiene un caracter no estandar\""
   ]
  },
  {
   "cell_type": "markdown",
   "id": "75e05d84",
   "metadata": {},
   "source": [
    "mayúsculas: esta no da error alguno pero no es correcto usarla (al menos en lo que cubre el curso)"
   ]
  },
  {
   "cell_type": "code",
   "execution_count": null,
   "id": "b098ac87",
   "metadata": {},
   "outputs": [],
   "source": [
    "Mi_Variable = 123"
   ]
  },
  {
   "cell_type": "markdown",
   "id": "c76f6f0d",
   "metadata": {},
   "source": [
    "nombres predefinidos: no da error pero ya no podremos usar la variable/función predefinida (veremos algunos más adelante)"
   ]
  },
  {
   "cell_type": "markdown",
   "id": "6caa63bb",
   "metadata": {},
   "source": [
    "## Comentarios\n",
    "\n",
    "Los comentarios ayudan a explicar el código de forma que quien lo lea pueda entender lo que hace y nuestras decisiones\n",
    "\n",
    "Podemos añadir comentarios con `#`, todo lo que venga despúes es parte del comentario y no se ejecuta\n",
    "Ej:\n",
    "```python\n",
    "# definimos la variable numero que usaremos para ...\n",
    "numero = 3 # es 3 porque ...\n",
    "```\n",
    "\n",
    "también podemos añadir comentarios extensos con tres comillas dobles:\n",
    "```python\n",
    "\"\"\"\n",
    "Todo esto \n",
    "es un comentario\n",
    "de varias líneas\n",
    "\"\"\"\n",
    "numero = 3\n",
    "```"
   ]
  },
  {
   "cell_type": "markdown",
   "id": "57407cff",
   "metadata": {},
   "source": [
    "## Tipos de Variables"
   ]
  },
  {
   "cell_type": "markdown",
   "id": "76e0edc0",
   "metadata": {},
   "source": [
    "### Números"
   ]
  },
  {
   "cell_type": "markdown",
   "id": "46a5252a",
   "metadata": {},
   "source": [
    "#### int:\n",
    "* Representa un número entero\n",
    "* Puede tener signo"
   ]
  },
  {
   "cell_type": "code",
   "execution_count": null,
   "id": "55c96a7d",
   "metadata": {},
   "outputs": [],
   "source": [
    "x = 0\n",
    "numero = -12"
   ]
  },
  {
   "cell_type": "markdown",
   "id": "a9df5ce2",
   "metadata": {},
   "source": [
    "#### float:\n",
    "* Representa un número decimal\n",
    "* No es exacto, el número de decimales está limitado por la precisión"
   ]
  },
  {
   "cell_type": "code",
   "execution_count": null,
   "id": "8bcaa918",
   "metadata": {},
   "outputs": [],
   "source": [
    "pi = 3.14\n",
    "numero_decimal = -71.123"
   ]
  },
  {
   "cell_type": "markdown",
   "id": "aeb27860",
   "metadata": {},
   "source": [
    "### Aritmética"
   ]
  },
  {
   "cell_type": "markdown",
   "id": "c3f66925",
   "metadata": {},
   "source": [
    "#### Operadores aritméticos:\n",
    "* suma: `+`\n",
    "* resta: `-`\n",
    "* multiplicación: `*`\n",
    "* división: `/`\n",
    "* potencia: `**`"
   ]
  },
  {
   "cell_type": "markdown",
   "id": "fa4abd3d",
   "metadata": {},
   "source": [
    "Ejemplos:"
   ]
  },
  {
   "cell_type": "code",
   "execution_count": null,
   "id": "bb5f2533",
   "metadata": {},
   "outputs": [],
   "source": [
    "6 + 7"
   ]
  },
  {
   "cell_type": "code",
   "execution_count": null,
   "id": "be743ba8",
   "metadata": {},
   "outputs": [],
   "source": [
    "5 + -3"
   ]
  },
  {
   "cell_type": "code",
   "execution_count": null,
   "id": "ddded582",
   "metadata": {},
   "outputs": [],
   "source": [
    "4.13 - 6.0"
   ]
  },
  {
   "cell_type": "code",
   "execution_count": null,
   "id": "9b820003",
   "metadata": {},
   "outputs": [],
   "source": [
    "3 * 2"
   ]
  },
  {
   "cell_type": "code",
   "execution_count": null,
   "id": "a6c88f6e",
   "metadata": {},
   "outputs": [],
   "source": [
    "3 / 2"
   ]
  },
  {
   "cell_type": "code",
   "execution_count": null,
   "id": "200ee5b7",
   "metadata": {},
   "outputs": [],
   "source": [
    "3 ** 2"
   ]
  },
  {
   "cell_type": "markdown",
   "id": "3a213151",
   "metadata": {},
   "source": [
    "__Veamos un ejemplo con variables__"
   ]
  },
  {
   "cell_type": "code",
   "execution_count": null,
   "id": "4a50bc18",
   "metadata": {},
   "outputs": [],
   "source": [
    "a = 5\n",
    "b = -3\n",
    "c = a + b"
   ]
  },
  {
   "cell_type": "markdown",
   "id": "40762e89",
   "metadata": {},
   "source": [
    "¿cuánto vale `c`?"
   ]
  },
  {
   "cell_type": "code",
   "execution_count": null,
   "id": "32ca4e44",
   "metadata": {},
   "outputs": [],
   "source": [
    "c"
   ]
  },
  {
   "cell_type": "markdown",
   "id": "c833975b",
   "metadata": {},
   "source": [
    "__redefinir variables__"
   ]
  },
  {
   "cell_type": "code",
   "execution_count": null,
   "id": "61c5c736",
   "metadata": {},
   "outputs": [],
   "source": [
    "a = 5\n",
    "b = a\n",
    "a = a + 2"
   ]
  },
  {
   "cell_type": "markdown",
   "id": "fd278f0a",
   "metadata": {},
   "source": [
    "¿cuánto valen `a` y `b`?"
   ]
  },
  {
   "cell_type": "code",
   "execution_count": null,
   "id": "9ee98dd5",
   "metadata": {},
   "outputs": [],
   "source": [
    "a"
   ]
  },
  {
   "cell_type": "code",
   "execution_count": null,
   "id": "17824c08",
   "metadata": {},
   "outputs": [],
   "source": [
    "b"
   ]
  },
  {
   "cell_type": "markdown",
   "id": "03faf780",
   "metadata": {},
   "source": [
    "__operación aritmética + re-asignación__\n",
    "\n",
    "Vimos que podemos hacer la operación `a = a + 2` si ya habíamos definido `a`. Podemos resumir esta operación como `a += 2`"
   ]
  },
  {
   "cell_type": "code",
   "execution_count": null,
   "id": "657d302b",
   "metadata": {},
   "outputs": [],
   "source": [
    "a = 5\n",
    "a += 2\n",
    "\n",
    "a"
   ]
  },
  {
   "cell_type": "markdown",
   "id": "e1484d70",
   "metadata": {},
   "source": [
    "Lo mismo aplica a los otros operadores (`-=`, `*=`, `/=`, etc.) "
   ]
  },
  {
   "cell_type": "code",
   "execution_count": null,
   "id": "1b08676f",
   "metadata": {},
   "outputs": [],
   "source": [
    "a = 5\n",
    "a *= 2\n",
    "\n",
    "a"
   ]
  },
  {
   "cell_type": "markdown",
   "id": "8f7d1b1b",
   "metadata": {},
   "source": [
    "#### Múltiples operaciones"
   ]
  },
  {
   "cell_type": "markdown",
   "id": "88a12ed7",
   "metadata": {},
   "source": [
    "La combinación de operaciones sigue las reglas del álgebra"
   ]
  },
  {
   "cell_type": "code",
   "execution_count": null,
   "id": "26ff9aac",
   "metadata": {},
   "outputs": [],
   "source": [
    "6 + 7 * 2"
   ]
  },
  {
   "cell_type": "code",
   "execution_count": null,
   "id": "ecb279c3",
   "metadata": {},
   "outputs": [],
   "source": [
    "6 + 7 * 2 ** 3"
   ]
  },
  {
   "cell_type": "markdown",
   "id": "2b5db917",
   "metadata": {},
   "source": [
    "Se puede alterar el orden con paréntesis redondos `(` y `)`"
   ]
  },
  {
   "cell_type": "code",
   "execution_count": null,
   "id": "07e3fa85",
   "metadata": {},
   "outputs": [],
   "source": [
    "((6 + 7) * 2) ** 3"
   ]
  },
  {
   "cell_type": "markdown",
   "id": "a803f4a1",
   "metadata": {},
   "source": [
    "#### División con resto"
   ]
  },
  {
   "cell_type": "markdown",
   "id": "1a2b0cd9",
   "metadata": {},
   "source": [
    "Además existen dos operaciones que definen la división con resto"
   ]
  },
  {
   "cell_type": "markdown",
   "id": "7799833c",
   "metadata": {},
   "source": [
    "* división entera: `//` (división truncada)"
   ]
  },
  {
   "cell_type": "code",
   "execution_count": null,
   "id": "0ccdae63",
   "metadata": {},
   "outputs": [],
   "source": [
    "6 // 2"
   ]
  },
  {
   "cell_type": "code",
   "execution_count": null,
   "id": "e1966ddc",
   "metadata": {
    "scrolled": true
   },
   "outputs": [],
   "source": [
    "7 // 2"
   ]
  },
  {
   "cell_type": "markdown",
   "id": "340f5f19",
   "metadata": {},
   "source": [
    "* resto: `%`"
   ]
  },
  {
   "cell_type": "code",
   "execution_count": null,
   "id": "50f01273",
   "metadata": {},
   "outputs": [],
   "source": [
    "6 % 2"
   ]
  },
  {
   "cell_type": "code",
   "execution_count": null,
   "id": "7fa45b6a",
   "metadata": {},
   "outputs": [],
   "source": [
    "7 % 2"
   ]
  },
  {
   "cell_type": "markdown",
   "id": "432e5029",
   "metadata": {},
   "source": [
    "### Texto"
   ]
  },
  {
   "cell_type": "markdown",
   "id": "e16f8203",
   "metadata": {},
   "source": [
    "__str__ (string):\n",
    "* Representa una cadena de texto\n",
    "* Pueden contener todo tipo de caracteres\n",
    "* Se generan con comillas dobles “ o simples ‘"
   ]
  },
  {
   "cell_type": "code",
   "execution_count": null,
   "id": "40a90625",
   "metadata": {},
   "outputs": [],
   "source": [
    "a = \"Hola Mundo\"\n",
    "b = 'Python'"
   ]
  },
  {
   "cell_type": "markdown",
   "id": "844d8fb4",
   "metadata": {},
   "source": [
    "Más adelante veremos las propiedades de los string"
   ]
  },
  {
   "cell_type": "markdown",
   "id": "bb9133fd",
   "metadata": {},
   "source": [
    "### Conversión de tipos"
   ]
  },
  {
   "cell_type": "markdown",
   "id": "dce403bd",
   "metadata": {},
   "source": [
    "Podemos convertir de un tipo a otro con las siguientes funciones"
   ]
  },
  {
   "cell_type": "markdown",
   "id": "f7ba76fd",
   "metadata": {},
   "source": [
    "`int()`: \n",
    "* función que convierte a un int\n",
    "* la entrada puede ser un float (se trunca) o un string que represente a un int"
   ]
  },
  {
   "cell_type": "code",
   "execution_count": null,
   "id": "70ccd6e8",
   "metadata": {},
   "outputs": [],
   "source": [
    "int(3.14)"
   ]
  },
  {
   "cell_type": "code",
   "execution_count": null,
   "id": "a4dccb33",
   "metadata": {},
   "outputs": [],
   "source": [
    "int(\"3\")"
   ]
  },
  {
   "cell_type": "markdown",
   "id": "119b726c",
   "metadata": {},
   "source": [
    "No puede ser un string que no represente a un int"
   ]
  },
  {
   "cell_type": "code",
   "execution_count": null,
   "id": "568bda75",
   "metadata": {},
   "outputs": [],
   "source": [
    "int(\"3.14\")"
   ]
  },
  {
   "cell_type": "markdown",
   "id": "0b50ec70",
   "metadata": {},
   "source": [
    "`float()`: \n",
    "* función que convierte a un float\n",
    "* la entrada puede ser un int o string que represente a un float o un int"
   ]
  },
  {
   "cell_type": "code",
   "execution_count": null,
   "id": "85fe070f",
   "metadata": {},
   "outputs": [],
   "source": [
    "float(3)"
   ]
  },
  {
   "cell_type": "code",
   "execution_count": null,
   "id": "359071e8",
   "metadata": {},
   "outputs": [],
   "source": [
    "float(\"3.14\")"
   ]
  },
  {
   "cell_type": "code",
   "execution_count": null,
   "id": "54ed3554",
   "metadata": {},
   "outputs": [],
   "source": [
    "float(\"3\")"
   ]
  },
  {
   "cell_type": "markdown",
   "id": "02af3723",
   "metadata": {},
   "source": [
    "`str()`:\n",
    "* función que convierte a un string\n",
    "* puede tener cualquier entrada"
   ]
  },
  {
   "cell_type": "code",
   "execution_count": null,
   "id": "49f8e99d",
   "metadata": {},
   "outputs": [],
   "source": [
    "str(3)"
   ]
  },
  {
   "cell_type": "code",
   "execution_count": null,
   "id": "99efb727",
   "metadata": {},
   "outputs": [],
   "source": [
    "str(3.14)"
   ]
  },
  {
   "cell_type": "markdown",
   "id": "575d0b74",
   "metadata": {},
   "source": [
    "`type()`:\n",
    "* función que entrega el tipo (clase) de variable"
   ]
  },
  {
   "cell_type": "code",
   "execution_count": null,
   "id": "819b6505",
   "metadata": {},
   "outputs": [],
   "source": [
    "type(3)"
   ]
  },
  {
   "cell_type": "code",
   "execution_count": null,
   "id": "0adc0651",
   "metadata": {},
   "outputs": [],
   "source": [
    "type(3.14)"
   ]
  },
  {
   "cell_type": "code",
   "execution_count": null,
   "id": "91cf5f97",
   "metadata": {},
   "outputs": [],
   "source": [
    "type(\"Hola Mundo\")"
   ]
  },
  {
   "cell_type": "markdown",
   "id": "7c24c2c1",
   "metadata": {},
   "source": [
    "Esto es útil para saber de qué tipo es una variable que nosotros no hemos definido o para encontrar errores en nuestro programa"
   ]
  },
  {
   "cell_type": "markdown",
   "id": "7c24fa42",
   "metadata": {},
   "source": [
    "Como Python es un lenguaje dinámico podemos cambiar el tipo de una variable durante la ejecución"
   ]
  },
  {
   "cell_type": "code",
   "execution_count": null,
   "id": "62f176f5",
   "metadata": {},
   "outputs": [],
   "source": [
    "a = 3\n",
    "type(a)"
   ]
  },
  {
   "cell_type": "code",
   "execution_count": null,
   "id": "192ef0aa",
   "metadata": {},
   "outputs": [],
   "source": [
    "a = float(a)\n",
    "type(a)"
   ]
  },
  {
   "cell_type": "markdown",
   "id": "2a29cb67",
   "metadata": {},
   "source": [
    "### Variables Lógicas (booleanas)"
   ]
  },
  {
   "cell_type": "markdown",
   "id": "7bc0d2a5",
   "metadata": {},
   "source": [
    "__bool__\n",
    "* Representa una variable lógica\n",
    "* Solo puede tomar dos valores `True` o `False`"
   ]
  },
  {
   "cell_type": "code",
   "execution_count": null,
   "id": "a092dd36",
   "metadata": {},
   "outputs": [],
   "source": [
    "a = True\n",
    "type(a)"
   ]
  },
  {
   "cell_type": "markdown",
   "id": "ea2c04e7",
   "metadata": {},
   "source": [
    "__Operadores Lógicos__\n",
    "* and: True si ambos son True\n",
    "* or: True si al menos uno es True\n",
    "* not: Invierte el valor"
   ]
  },
  {
   "cell_type": "markdown",
   "id": "204aa277",
   "metadata": {},
   "source": [
    "¿Cuál es el resultado de las siguientes operaciones lógicas?"
   ]
  },
  {
   "cell_type": "code",
   "execution_count": null,
   "id": "181eacbd",
   "metadata": {},
   "outputs": [],
   "source": [
    "True and True"
   ]
  },
  {
   "cell_type": "code",
   "execution_count": null,
   "id": "73f8df40",
   "metadata": {},
   "outputs": [],
   "source": [
    "True and False"
   ]
  },
  {
   "cell_type": "code",
   "execution_count": null,
   "id": "27c0c31d",
   "metadata": {},
   "outputs": [],
   "source": [
    "False and False"
   ]
  },
  {
   "cell_type": "code",
   "execution_count": null,
   "id": "4b3ccd08",
   "metadata": {},
   "outputs": [],
   "source": [
    "True or True"
   ]
  },
  {
   "cell_type": "code",
   "execution_count": null,
   "id": "d76c1287",
   "metadata": {},
   "outputs": [],
   "source": [
    "True or False"
   ]
  },
  {
   "cell_type": "code",
   "execution_count": null,
   "id": "6dec1883",
   "metadata": {},
   "outputs": [],
   "source": [
    "False or False"
   ]
  },
  {
   "cell_type": "code",
   "execution_count": null,
   "id": "2880f9ae",
   "metadata": {},
   "outputs": [],
   "source": [
    "not True"
   ]
  },
  {
   "cell_type": "code",
   "execution_count": null,
   "id": "6cb8a0d0",
   "metadata": {},
   "outputs": [],
   "source": [
    "not False"
   ]
  },
  {
   "cell_type": "markdown",
   "id": "52dcac68",
   "metadata": {},
   "source": [
    "Podemos combinar operaciones usando paréntesis redondos"
   ]
  },
  {
   "cell_type": "code",
   "execution_count": null,
   "id": "6da3738a",
   "metadata": {},
   "outputs": [],
   "source": [
    "not ((True and False) or True)"
   ]
  },
  {
   "cell_type": "markdown",
   "id": "bd832b55",
   "metadata": {},
   "source": [
    "__Operaciones lógicas con otros tipos__\n",
    "\n",
    "además de las operaciones lógicas booleanas podemos realizar operaciones lógicas con otros tipos de variables"
   ]
  },
  {
   "cell_type": "markdown",
   "id": "bfab101a",
   "metadata": {},
   "source": [
    "Para varios tipos tenemos los siguientes operadores:\n",
    "* `==` igual lógico: `True` si ambos contienen el mismo valor\n",
    "* `!=` desigualdad lógica: `True` si ambos contienen valores distintos\n",
    "* `<` / `>`: menor / mayor\n",
    "* `<=` / `>=`: menor o igual/ mayor o igual"
   ]
  },
  {
   "cell_type": "code",
   "execution_count": null,
   "id": "3446fe3c",
   "metadata": {},
   "outputs": [],
   "source": [
    "a = 3\n",
    "b = \"Hola Mundo\""
   ]
  },
  {
   "cell_type": "markdown",
   "id": "77e801de",
   "metadata": {},
   "source": [
    "`==` igual lógico: `True` si ambos contienen el mismo valor"
   ]
  },
  {
   "cell_type": "code",
   "execution_count": null,
   "id": "47344092",
   "metadata": {},
   "outputs": [],
   "source": [
    "a == 3"
   ]
  },
  {
   "cell_type": "markdown",
   "id": "d51aae97",
   "metadata": {},
   "source": [
    "Puede haber igualdad entre un `float` y un `int` si son iguales hasta cierta precisión"
   ]
  },
  {
   "cell_type": "code",
   "execution_count": null,
   "id": "632410e4",
   "metadata": {},
   "outputs": [],
   "source": [
    "a == 3.0"
   ]
  },
  {
   "cell_type": "code",
   "execution_count": null,
   "id": "1dd69a7a",
   "metadata": {},
   "outputs": [],
   "source": [
    "a == 3.00001"
   ]
  },
  {
   "cell_type": "code",
   "execution_count": null,
   "id": "20ec8452",
   "metadata": {},
   "outputs": [],
   "source": [
    "a == 3.000000000000000000001"
   ]
  },
  {
   "cell_type": "code",
   "execution_count": null,
   "id": "fddf409e",
   "metadata": {},
   "outputs": [],
   "source": [
    "b == \"Hola Mundo\""
   ]
  },
  {
   "cell_type": "markdown",
   "id": "83dc7a17",
   "metadata": {},
   "source": [
    "Hay distinción de mayúsculas y minúsculas"
   ]
  },
  {
   "cell_type": "code",
   "execution_count": null,
   "id": "82932e0a",
   "metadata": {},
   "outputs": [],
   "source": [
    "b == \"hola mundo\""
   ]
  },
  {
   "cell_type": "markdown",
   "id": "24c112dd",
   "metadata": {},
   "source": [
    "`!=` desigualdad lógica: `True` si ambos contienen valores distintos"
   ]
  },
  {
   "cell_type": "code",
   "execution_count": null,
   "id": "77ef472a",
   "metadata": {},
   "outputs": [],
   "source": [
    "a != 3"
   ]
  },
  {
   "cell_type": "code",
   "execution_count": null,
   "id": "214ad9f9",
   "metadata": {},
   "outputs": [],
   "source": [
    "b != \"python\""
   ]
  },
  {
   "cell_type": "markdown",
   "id": "cd413e81",
   "metadata": {},
   "source": [
    "`<` / `>`: menor / mayor"
   ]
  },
  {
   "cell_type": "code",
   "execution_count": null,
   "id": "25a1c13b",
   "metadata": {},
   "outputs": [],
   "source": [
    "a"
   ]
  },
  {
   "cell_type": "code",
   "execution_count": null,
   "id": "0a6ad4c0",
   "metadata": {},
   "outputs": [],
   "source": [
    "a < 5"
   ]
  },
  {
   "cell_type": "code",
   "execution_count": null,
   "id": "d293a7b8",
   "metadata": {
    "scrolled": true
   },
   "outputs": [],
   "source": [
    "a > 4"
   ]
  },
  {
   "cell_type": "markdown",
   "id": "8c6f43c4",
   "metadata": {},
   "source": [
    "Podemos comparar con un intervalo usando dos veces el operador"
   ]
  },
  {
   "cell_type": "code",
   "execution_count": null,
   "id": "6a6b2829",
   "metadata": {},
   "outputs": [],
   "source": [
    "1 < a < 5"
   ]
  },
  {
   "cell_type": "markdown",
   "id": "36912921",
   "metadata": {},
   "source": [
    "En el caso de strings se compara caracter a caracter en orden alfabético"
   ]
  },
  {
   "cell_type": "code",
   "execution_count": null,
   "id": "602e179e",
   "metadata": {},
   "outputs": [],
   "source": [
    "\"a\" < \"b\""
   ]
  },
  {
   "cell_type": "markdown",
   "id": "7093ef56",
   "metadata": {},
   "source": [
    "En este caso primero se comparan los primeros caracteres, luego los segundos, ..."
   ]
  },
  {
   "cell_type": "code",
   "execution_count": null,
   "id": "33042d8d",
   "metadata": {},
   "outputs": [],
   "source": [
    "\"aa\" < \"ab\""
   ]
  },
  {
   "cell_type": "code",
   "execution_count": null,
   "id": "907920cd",
   "metadata": {
    "scrolled": true
   },
   "outputs": [],
   "source": [
    "\"ba\" > \"ab\""
   ]
  },
  {
   "cell_type": "markdown",
   "id": "4e8088ef",
   "metadata": {},
   "source": [
    "`<=` / `>=`: menor o igual / mayor o igual"
   ]
  },
  {
   "cell_type": "code",
   "execution_count": null,
   "id": "f4e31b39",
   "metadata": {},
   "outputs": [],
   "source": [
    "a <= 5"
   ]
  },
  {
   "cell_type": "code",
   "execution_count": null,
   "id": "cf9ea3eb",
   "metadata": {},
   "outputs": [],
   "source": [
    "a <= 3"
   ]
  },
  {
   "cell_type": "markdown",
   "id": "e8cc9dfe",
   "metadata": {},
   "source": [
    "Además tenemos el operador `in` que verifica si el término de la izquierda se encuentra contenido en la secuencia de la derecha, podemos usarlo en strings"
   ]
  },
  {
   "cell_type": "code",
   "execution_count": null,
   "id": "aaa6907c",
   "metadata": {},
   "outputs": [],
   "source": [
    "b"
   ]
  },
  {
   "cell_type": "code",
   "execution_count": null,
   "id": "2e870101",
   "metadata": {},
   "outputs": [],
   "source": [
    "\"o\" in b"
   ]
  },
  {
   "cell_type": "code",
   "execution_count": null,
   "id": "07e8872b",
   "metadata": {},
   "outputs": [],
   "source": [
    "\"Hola\" in b"
   ]
  },
  {
   "cell_type": "code",
   "execution_count": null,
   "id": "8287882b",
   "metadata": {},
   "outputs": [],
   "source": [
    "\"python\" in b"
   ]
  },
  {
   "cell_type": "markdown",
   "id": "4f78805f",
   "metadata": {},
   "source": [
    "Podemos combinar operaciones con paréntesis y operadores boleanos"
   ]
  },
  {
   "cell_type": "code",
   "execution_count": null,
   "id": "dd854ce3",
   "metadata": {},
   "outputs": [],
   "source": [
    "(a < 5) and (b == \"Hola Mundo\")"
   ]
  },
  {
   "cell_type": "markdown",
   "id": "f6bbc694",
   "metadata": {},
   "source": [
    "## Input y Output (I/O) básico"
   ]
  },
  {
   "cell_type": "markdown",
   "id": "971777dc",
   "metadata": {},
   "source": [
    "`print()`\n",
    "* Función de salida desde el programa al terminal\n",
    "* Convierte la entrada a un string y lo muestra en el terminal"
   ]
  },
  {
   "cell_type": "code",
   "execution_count": null,
   "id": "daff8824",
   "metadata": {},
   "outputs": [],
   "source": [
    "print(\"Hola Mundo\")"
   ]
  },
  {
   "cell_type": "code",
   "execution_count": null,
   "id": "d0568223",
   "metadata": {},
   "outputs": [],
   "source": [
    "a = 3.14\n",
    "print(a)\n",
    "\n",
    "a *=2\n",
    "print(a)"
   ]
  },
  {
   "cell_type": "markdown",
   "id": "822d4fbd",
   "metadata": {},
   "source": [
    "Puede tomar varias entradas separadas por coma y las imprime separadas por espacios "
   ]
  },
  {
   "cell_type": "code",
   "execution_count": null,
   "id": "10a34573",
   "metadata": {},
   "outputs": [],
   "source": [
    "print(\"el valor de a es\", a)"
   ]
  },
  {
   "cell_type": "markdown",
   "id": "2ec9deae",
   "metadata": {},
   "source": [
    "`input()`\n",
    "* Función de entrada desde el terminal al programa\n",
    "* Toda la entrada se convierte a un string\n",
    "* Se queda esperando hasta recibir la entrada del usuario"
   ]
  },
  {
   "cell_type": "code",
   "execution_count": null,
   "id": "a8976902",
   "metadata": {},
   "outputs": [],
   "source": [
    "b = input()\n",
    "print(\"el tipo de b es\", type(b), \"con valor\", b)"
   ]
  },
  {
   "cell_type": "markdown",
   "id": "e0fb3de9",
   "metadata": {},
   "source": [
    "* Además podemos mostrar un string (usa print internamente) usando `input(\"texto a mostrar\")`\n",
    "* Esto es útil para indicarle al usuario qué esperamos que ingrese\n",
    "* Luego podemos convertir el string al tipo deseado"
   ]
  },
  {
   "cell_type": "code",
   "execution_count": null,
   "id": "e6be8a3f",
   "metadata": {},
   "outputs": [],
   "source": [
    "b = input(\"ingrese un número entero: \")\n",
    "b = int(b)\n",
    "print(\"el tipo de b es\", type(b), \"con valor\", b)"
   ]
  },
  {
   "cell_type": "markdown",
   "id": "9ee35995",
   "metadata": {},
   "source": [
    "## Ejercicio\n",
    "\n",
    "vamos a [Mimir](https://www.mimirhq.com/)!"
   ]
  }
 ],
 "metadata": {
  "kernelspec": {
   "display_name": "astro",
   "language": "python",
   "name": "astro"
  },
  "language_info": {
   "codemirror_mode": {
    "name": "ipython",
    "version": 3
   },
   "file_extension": ".py",
   "mimetype": "text/x-python",
   "name": "python",
   "nbconvert_exporter": "python",
   "pygments_lexer": "ipython3",
   "version": "3.9.12"
  }
 },
 "nbformat": 4,
 "nbformat_minor": 5
}
