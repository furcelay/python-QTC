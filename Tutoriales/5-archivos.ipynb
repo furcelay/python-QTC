{
 "cells": [
  {
   "cell_type": "markdown",
   "id": "7e08e666",
   "metadata": {
    "slideshow": {
     "slide_type": "slide"
    }
   },
   "source": [
    "# Clase 5: I/O con Archivos"
   ]
  },
  {
   "cell_type": "markdown",
   "id": "8d084a20",
   "metadata": {
    "slideshow": {
     "slide_type": "fragment"
    }
   },
   "source": [
    "* Ya hemos visto como recibir entradas de usuario con `input` y salidas con `print`.\n",
    "\n",
    "* En muchas circunstancias querremos un input/output (I/O) con archivos.\n",
    "\n",
    "* Nuestro programa podrá leer de un archivo y escribir en otro"
   ]
  },
  {
   "cell_type": "markdown",
   "id": "b1f9bba5",
   "metadata": {},
   "source": [
    "# Descargar los archivos\n",
    "\n",
    "Usaremos algunos archivos previamente hechos, para acceder a ellos tienes que descargarlos, puedes hacerlo ejecutando la siguiente celda \n",
    "\n",
    "(este código no es de python, es de terminal bash, por eso anteponemos un ! en la celda)\n",
    "\n",
    "**Ejecuta esta celda para empezar**"
   ]
  },
  {
   "cell_type": "code",
   "execution_count": null,
   "id": "1ef34023",
   "metadata": {
    "scrolled": true
   },
   "outputs": [],
   "source": [
    "!git clone https://github.com/furcelay/python-QTC.git\n",
    "%cd python-QTC/Tutoriales/archivos"
   ]
  },
  {
   "cell_type": "markdown",
   "id": "f946bfad",
   "metadata": {
    "slideshow": {
     "slide_type": "slide"
    }
   },
   "source": [
    "## Abrir archivos"
   ]
  },
  {
   "cell_type": "markdown",
   "id": "06927445",
   "metadata": {
    "slideshow": {
     "slide_type": "fragment"
    }
   },
   "source": [
    "Podemos abrir un archivo con la función `open()` que recibe el nombre del archivo (o ruta completa a este) y el modo en que se abre el archivo.\n",
    "\n",
    "```python\n",
    "mi_archivo = open(\"ruta/archivo.formato\", 'modo')\n",
    "```\n",
    "\n",
    "El modo puede ser uno de los siguientes:\n",
    "* `'r'`: lectura (read), **solo permite leer el archivo**\n",
    "* `'w'`: escritura (write): **crea un archivo en blanco** (borrando el anterior si es que existía) y **permite escribir** en él\n",
    "* `'a'`: añadir (append): **abre un archivo ya existente** y **permite escribir** añadiendo líneas al final"
   ]
  },
  {
   "cell_type": "markdown",
   "id": "2e73d2ba",
   "metadata": {
    "slideshow": {
     "slide_type": "slide"
    }
   },
   "source": [
    "## Cerrar archivos"
   ]
  },
  {
   "cell_type": "markdown",
   "id": "db245f71",
   "metadata": {
    "slideshow": {
     "slide_type": "fragment"
    }
   },
   "source": [
    "Una vez terminamos de usar el archivo debemos cerrarlo (por ejemplo para que otras aplicaciones puedan acceder a él)\n",
    "\n",
    "Esto se hace con el método `close`\n",
    "\n",
    "```python\n",
    "# cerramos el archivo\n",
    "mi_archivo.close()\n",
    "```"
   ]
  },
  {
   "cell_type": "markdown",
   "id": "c07ee049",
   "metadata": {
    "slideshow": {
     "slide_type": "slide"
    }
   },
   "source": [
    "## Trabajando con archivos"
   ]
  },
  {
   "cell_type": "markdown",
   "id": "acd1ca4e",
   "metadata": {
    "slideshow": {
     "slide_type": "fragment"
    }
   },
   "source": [
    "El esquema general al trabajar con archivos es el siguiente:\n",
    "\n",
    "```python\n",
    "\n",
    "mi_archivo = open(\"ruta/archivo.formato\", 'modo')\n",
    "\n",
    "# leemos o escribimos en mi_archivo\n",
    "...\n",
    "\n",
    "mi_archivo.close()\n",
    "```"
   ]
  },
  {
   "cell_type": "markdown",
   "id": "30e40d89",
   "metadata": {
    "slideshow": {
     "slide_type": "fragment"
    }
   },
   "source": [
    "Otra sintaxis conveniente para esto es usando un *context manager* de la siguiente manera con `with`:\n",
    "\n",
    "```python\n",
    "with open(\"ruta/archivo.formato\", 'modo') as mi_archivo:\n",
    "    # leemos o escribimos en mi_archivo\n",
    "    ...\n",
    "\n",
    "# el archivo se cierra automáticamente al salir del bloque identado\n",
    "```\n",
    "\n",
    "De esta manera no olvidamos cerrar el archivo y además nos aseguramos de que se cierre aunque ocurra algún error en el programa"
   ]
  },
  {
   "cell_type": "markdown",
   "id": "048d2b30",
   "metadata": {
    "slideshow": {
     "slide_type": "slide"
    }
   },
   "source": [
    "## Leer archivos"
   ]
  },
  {
   "cell_type": "markdown",
   "id": "c8b2b071",
   "metadata": {
    "slideshow": {
     "slide_type": "fragment"
    }
   },
   "source": [
    "Para leer un archivo debemos abrirlo en modo lectura (`'r'`):\n",
    "\n",
    "```python\n",
    "mi_archivo = open(\"ruta/archivo.formato\", 'r')\n",
    "```\n",
    "\n",
    "Luego podemos acceder al contenido del archivo de muchas maneras, en este curso veremos dos:\n",
    "\n",
    "* `mi_archivo.readlines()`: lee todo el archivo y lo retorna como una lista. Cada elemento de la lista es una línea como string.\n",
    "* `for linea in mi_archivo`: también podemos iterar sobre las líneas del archivo con un loop for.\n",
    "* Para más formas de leer un archivo ver la [documentación](https://docs.python.org/3/tutorial/inputoutput.html#methods-of-file-objects)"
   ]
  },
  {
   "cell_type": "markdown",
   "id": "52ebc07b",
   "metadata": {
    "slideshow": {
     "slide_type": "subslide"
    }
   },
   "source": [
    "### readlines()"
   ]
  },
  {
   "cell_type": "code",
   "execution_count": null,
   "id": "2f202910",
   "metadata": {
    "slideshow": {
     "slide_type": "fragment"
    }
   },
   "outputs": [],
   "source": [
    "ejemplo_1 = open(\"ejemplos/ejemplo_1.txt\", 'r')\n",
    "\n",
    "lineas_archivo = ejemplo_1.readlines()"
   ]
  },
  {
   "cell_type": "code",
   "execution_count": null,
   "id": "551bc7f8",
   "metadata": {
    "slideshow": {
     "slide_type": "fragment"
    }
   },
   "outputs": [],
   "source": [
    "lineas_archivo"
   ]
  },
  {
   "cell_type": "code",
   "execution_count": null,
   "id": "fb0d8d35",
   "metadata": {
    "slideshow": {
     "slide_type": "fragment"
    }
   },
   "outputs": [],
   "source": [
    "lineas_archivo[0]"
   ]
  },
  {
   "cell_type": "markdown",
   "id": "b8a49463",
   "metadata": {
    "slideshow": {
     "slide_type": "fragment"
    }
   },
   "source": [
    "Todas las líneas del archivo terminan con un salto de línea `\\n`, si queremos quitarla usamos el método `strip()` de los string:"
   ]
  },
  {
   "cell_type": "code",
   "execution_count": null,
   "id": "728b4b03",
   "metadata": {
    "slideshow": {
     "slide_type": "fragment"
    }
   },
   "outputs": [],
   "source": [
    "lineas_archivo[0].strip()"
   ]
  },
  {
   "cell_type": "markdown",
   "id": "23956ee0",
   "metadata": {
    "slideshow": {
     "slide_type": "fragment"
    }
   },
   "source": [
    "También remueve espacios al comienzo y al final"
   ]
  },
  {
   "cell_type": "code",
   "execution_count": null,
   "id": "66c071f0",
   "metadata": {
    "slideshow": {
     "slide_type": "fragment"
    }
   },
   "outputs": [],
   "source": [
    "lineas_archivo[-1]"
   ]
  },
  {
   "cell_type": "code",
   "execution_count": null,
   "id": "12fc8454",
   "metadata": {
    "slideshow": {
     "slide_type": "fragment"
    }
   },
   "outputs": [],
   "source": [
    "lineas_archivo[-1].strip()"
   ]
  },
  {
   "cell_type": "markdown",
   "id": "2b653aa3",
   "metadata": {
    "slideshow": {
     "slide_type": "fragment"
    }
   },
   "source": [
    "**no debemos olvidarnos de cerrar el archivo**"
   ]
  },
  {
   "cell_type": "code",
   "execution_count": null,
   "id": "d21edfde",
   "metadata": {
    "slideshow": {
     "slide_type": "fragment"
    }
   },
   "outputs": [],
   "source": [
    "ejemplo_1.close()"
   ]
  },
  {
   "cell_type": "markdown",
   "id": "688c5e38",
   "metadata": {
    "slideshow": {
     "slide_type": "subslide"
    }
   },
   "source": [
    "Luego podemos por ejemplo trabajar con esta lista en un loop for:"
   ]
  },
  {
   "cell_type": "code",
   "execution_count": null,
   "id": "a22c20fc",
   "metadata": {
    "slideshow": {
     "slide_type": "fragment"
    }
   },
   "outputs": [],
   "source": [
    "for linea in lineas_archivo:\n",
    "    # quitamos \\n y espacios\n",
    "    linea = linea.strip()\n",
    "    print(linea)"
   ]
  },
  {
   "cell_type": "markdown",
   "id": "4b1c6991",
   "metadata": {
    "slideshow": {
     "slide_type": "subslide"
    }
   },
   "source": [
    "Podemos hacer lo mismo con la sentencia `with`"
   ]
  },
  {
   "cell_type": "code",
   "execution_count": null,
   "id": "1d6dbb59",
   "metadata": {
    "slideshow": {
     "slide_type": "fragment"
    }
   },
   "outputs": [],
   "source": [
    "with open(\"ejemplos/ejemplo_1.txt\", 'r') as ejemplo_1:\n",
    "    lineas_archivo = ejemplo_1.readlines()\n",
    "\n",
    "for linea in lineas_archivo:\n",
    "    # quitamos \\n y espacios\n",
    "    linea = linea.strip()\n",
    "    print(linea)"
   ]
  },
  {
   "cell_type": "markdown",
   "id": "295e8cb1",
   "metadata": {
    "slideshow": {
     "slide_type": "subslide"
    }
   },
   "source": [
    "### for linea in archivo:\n",
    "\n",
    "Podemos hacer lo mismo que antes con un loop for directamente sobre el archivo ya que este es un iterable:"
   ]
  },
  {
   "cell_type": "code",
   "execution_count": null,
   "id": "9b6f14fa",
   "metadata": {
    "slideshow": {
     "slide_type": "fragment"
    }
   },
   "outputs": [],
   "source": [
    "ejemplo_1 = open(\"ejemplos/ejemplo_1.txt\", 'r')\n",
    "\n",
    "for linea in ejemplo_1:\n",
    "    # quitamos \\n y espacios\n",
    "    linea = linea.strip()\n",
    "    print(linea)\n",
    "\n",
    "ejemplo_1.close()"
   ]
  },
  {
   "cell_type": "markdown",
   "id": "40f7d729",
   "metadata": {
    "slideshow": {
     "slide_type": "fragment"
    }
   },
   "source": [
    "Podemos hacer lo mismo con la sentencia `with`"
   ]
  },
  {
   "cell_type": "code",
   "execution_count": null,
   "id": "dab8b206",
   "metadata": {
    "slideshow": {
     "slide_type": "fragment"
    }
   },
   "outputs": [],
   "source": [
    "with open(\"ejemplos/ejemplo_1.txt\", 'r') as ejemplo_1:\n",
    "    for linea in ejemplo_1:\n",
    "        # quitamos \\n y espacios\n",
    "        linea = linea.strip()\n",
    "        print(linea)"
   ]
  },
  {
   "cell_type": "markdown",
   "id": "040c77bb",
   "metadata": {
    "slideshow": {
     "slide_type": "slide"
    }
   },
   "source": [
    "## Escribir archivos"
   ]
  },
  {
   "cell_type": "markdown",
   "id": "b86f9ed1",
   "metadata": {
    "slideshow": {
     "slide_type": "fragment"
    }
   },
   "source": [
    "Para crear un archivo nuevo abrimos un archivo en modo escritura (`'w'`):\n",
    "\n",
    "```python\n",
    "mi_archivo = open(\"ruta/archivo.formato\", 'w')\n",
    "```\n",
    "\n",
    "Luego podemos escribir un string en el archivo con \n",
    "\n",
    "```python\n",
    "mi_archivo.write(string)\n",
    "```\n",
    "\n",
    "El string debe terminar con '\\n' para poder escribir una nueva línea después"
   ]
  },
  {
   "cell_type": "code",
   "execution_count": null,
   "id": "ffe7e44a",
   "metadata": {
    "slideshow": {
     "slide_type": "fragment"
    }
   },
   "outputs": [],
   "source": [
    "ejemplo_2 = open(\"ejemplos/ejemplo_2.txt\", 'w')"
   ]
  },
  {
   "cell_type": "code",
   "execution_count": null,
   "id": "2ae45c13",
   "metadata": {
    "slideshow": {
     "slide_type": "fragment"
    }
   },
   "outputs": [],
   "source": [
    "texto = \"vamos a escribir un archivo\"\n",
    "\n",
    "ejemplo_2.write(texto + \"\\n\")"
   ]
  },
  {
   "cell_type": "code",
   "execution_count": null,
   "id": "30206edb",
   "metadata": {
    "slideshow": {
     "slide_type": "fragment"
    }
   },
   "outputs": [],
   "source": [
    "texto = \"cada vez que usamos write se genera una nueva línea\"\n",
    "\n",
    "ejemplo_2.write(texto + \"\\n\")"
   ]
  },
  {
   "cell_type": "code",
   "execution_count": null,
   "id": "5145110f",
   "metadata": {
    "slideshow": {
     "slide_type": "fragment"
    }
   },
   "outputs": [],
   "source": [
    "ejemplo_2.close()"
   ]
  },
  {
   "cell_type": "markdown",
   "id": "1af5ca56",
   "metadata": {
    "slideshow": {
     "slide_type": "subslide"
    }
   },
   "source": [
    "Si queremos escribir strings de una lista podemos hacerlo en un loop for:"
   ]
  },
  {
   "cell_type": "code",
   "execution_count": null,
   "id": "80d5e33f",
   "metadata": {
    "slideshow": {
     "slide_type": "fragment"
    }
   },
   "outputs": [],
   "source": [
    "lista_texto = [\"primera linea\", \"segunda linea\", \"tercera linea\"]\n",
    "\n",
    "with open(\"ejemplos/ejemplo_3.txt\", 'w') as ejemplo_3:\n",
    "    for linea in lista_texto:\n",
    "        ejemplo_3.write(linea + \"\\n\")"
   ]
  },
  {
   "cell_type": "markdown",
   "id": "648361bc",
   "metadata": {
    "slideshow": {
     "slide_type": "subslide"
    }
   },
   "source": [
    "Por ejemplo si queremos escribir datos de una tabla:"
   ]
  },
  {
   "cell_type": "code",
   "execution_count": null,
   "id": "a6b1e43a",
   "metadata": {
    "slideshow": {
     "slide_type": "fragment"
    }
   },
   "outputs": [],
   "source": [
    "tabla = [[0.651, 0.071, 0.803],\n",
    "         [0.751, 0.086, 0.498],\n",
    "         [0.668, 0.943, 0.304],\n",
    "         [0.080, 0.936, 0.797],\n",
    "         [0.777, 0.035, 0.350]]"
   ]
  },
  {
   "cell_type": "markdown",
   "id": "217b53b2",
   "metadata": {
    "slideshow": {
     "slide_type": "fragment"
    }
   },
   "source": [
    "En este caso debemos trabajar más los datos para convertirlos a un string, tomemos como ejemplo una fila y luego lo haremos para toda la tabla"
   ]
  },
  {
   "cell_type": "code",
   "execution_count": null,
   "id": "a8abc677",
   "metadata": {
    "slideshow": {
     "slide_type": "fragment"
    }
   },
   "outputs": [],
   "source": [
    "fila = tabla[0]\n",
    "\n",
    "fila"
   ]
  },
  {
   "cell_type": "markdown",
   "id": "6535b447",
   "metadata": {
    "slideshow": {
     "slide_type": "fragment"
    }
   },
   "source": [
    "primero convertimos los datos a string"
   ]
  },
  {
   "cell_type": "code",
   "execution_count": null,
   "id": "ca3757ee",
   "metadata": {
    "scrolled": true,
    "slideshow": {
     "slide_type": "fragment"
    }
   },
   "outputs": [],
   "source": [
    "# hacemos un loop en los índices de la fila para poder modificarla\n",
    "for i in range(len(fila)):\n",
    "    # convertimos los números a str\n",
    "    fila[i] = str(fila[i])\n",
    "    \n",
    "fila"
   ]
  },
  {
   "cell_type": "markdown",
   "id": "b3056698",
   "metadata": {
    "slideshow": {
     "slide_type": "fragment"
    }
   },
   "source": [
    "luego convertimos la fila en un string separando los elementos por coma"
   ]
  },
  {
   "cell_type": "code",
   "execution_count": null,
   "id": "fcb1e3d4",
   "metadata": {
    "slideshow": {
     "slide_type": "fragment"
    }
   },
   "outputs": [],
   "source": [
    "fila = ','.join(fila)\n",
    "\n",
    "fila"
   ]
  },
  {
   "cell_type": "markdown",
   "id": "dcad65e0",
   "metadata": {
    "slideshow": {
     "slide_type": "fragment"
    }
   },
   "source": [
    "Este es un string que podría escribirse en un archivo\n",
    "\n",
    "Hagámoslo con todas las filas en on loop:"
   ]
  },
  {
   "cell_type": "code",
   "execution_count": null,
   "id": "5e1ac17c",
   "metadata": {
    "slideshow": {
     "slide_type": "fragment"
    }
   },
   "outputs": [],
   "source": [
    "# abrimos el archivo en modo escritura\n",
    "with open(\"ejemplos/ejemplo_4.txt\", 'w') as ejemplo_4:\n",
    "    # recorremos las filas en un loop y las convertimos a string\n",
    "    for fila in tabla:\n",
    "        # convertimos los números a string\n",
    "        for i in range(len(fila)):\n",
    "            fila[i] = str(fila[i])\n",
    "        \n",
    "        # convertimos la línea a un string de números separados por coma\n",
    "        fila = ','.join(fila)\n",
    "        \n",
    "        # escribimos la línea en el archivo\n",
    "        ejemplo_4.write(fila + \"\\n\")"
   ]
  },
  {
   "cell_type": "markdown",
   "id": "71e87d4a",
   "metadata": {
    "slideshow": {
     "slide_type": "slide"
    }
   },
   "source": [
    "# Extra: break"
   ]
  },
  {
   "cell_type": "markdown",
   "id": "5ccb813b",
   "metadata": {
    "slideshow": {
     "slide_type": "fragment"
    }
   },
   "source": [
    "`break` sirve para \"romper\" un loop for o while. Cuando aparece break el loop termina\n",
    "\n",
    "Se usa generalmente dentro de una condición `if` (o `elif`, `else`)"
   ]
  },
  {
   "cell_type": "markdown",
   "id": "0d4ac4dd",
   "metadata": {
    "slideshow": {
     "slide_type": "fragment"
    }
   },
   "source": [
    "Por ejemplo en un loop for podemos usarlo para salir del loop cuando se cumpla una condición:"
   ]
  },
  {
   "cell_type": "code",
   "execution_count": null,
   "id": "cb2ca749",
   "metadata": {
    "slideshow": {
     "slide_type": "fragment"
    }
   },
   "outputs": [],
   "source": [
    "palabra_clave = \"miau\"\n",
    "\n",
    "archivo = \"ejemplos/texto_break.txt\"\n",
    "\n",
    "lista_texto = []\n",
    "\n",
    "with open(archivo, 'r') as archivo_break:\n",
    "    for linea in archivo_break:\n",
    "        \n",
    "        lista_texto.append(linea)\n",
    "        \n",
    "        if palabra_clave in linea:\n",
    "            break"
   ]
  },
  {
   "cell_type": "code",
   "execution_count": null,
   "id": "405f58a5",
   "metadata": {
    "scrolled": false,
    "slideshow": {
     "slide_type": "fragment"
    }
   },
   "outputs": [],
   "source": [
    "lista_texto"
   ]
  },
  {
   "cell_type": "markdown",
   "id": "c0ea64bd",
   "metadata": {
    "slideshow": {
     "slide_type": "slide"
    }
   },
   "source": [
    "# Ejercicios en conjunto\n",
    "\n",
    "**Objetivos:**\n",
    "1. Aprender a trabajar con archivos\n",
    "2. Extraer información relevante contenida en tablas de Gaussian\n",
    "3. Escribir los resultados en un archivo fácil de leer con otros programas\n",
    "\n",
    "**Caso de estudio:**\n",
    "Intentaremos obtener las energías de los orbirales de un sistema químico y en particuar de los orbitales frontera HOMO y LUMO desde un archivo de salida da Gaussian"
   ]
  },
  {
   "cell_type": "markdown",
   "id": "9b62cc47",
   "metadata": {
    "slideshow": {
     "slide_type": "subslide"
    }
   },
   "source": [
    "## Ejercicio 1\n",
    "\n",
    "### a)\n",
    "\n",
    "En este ejercicio trabajaremos solo con la tabla de orbitales alpha, **ver ejercicio_1.txt**.\n",
    "\n",
    "Objetivo:\n",
    "1. Definir una función que lea un archivo y retorne una lista con las\n",
    "   líneas del archivo\n",
    "2. Definir una función que reciba una lista con las líneas del archivo\n",
    "   y entregue una lista con los orbitales alpha ocupados \n",
    "   y otra con los orbitales alpha desocupados\n",
    "3. El código debe ser genérico tal que funcione también con orbitales beta"
   ]
  },
  {
   "cell_type": "code",
   "execution_count": null,
   "id": "dfe7de85",
   "metadata": {
    "slideshow": {
     "slide_type": "fragment"
    }
   },
   "outputs": [],
   "source": []
  },
  {
   "cell_type": "code",
   "execution_count": null,
   "id": "ae4c0dc7",
   "metadata": {
    "slideshow": {
     "slide_type": "fragment"
    }
   },
   "outputs": [],
   "source": []
  },
  {
   "cell_type": "markdown",
   "id": "c5628d12",
   "metadata": {
    "slideshow": {
     "slide_type": "subslide"
    }
   },
   "source": [
    "### b)\n",
    "En este ejercicio trabajaremos solo con la tabla de orbitales alpha, **ver ejercicio_1.txt**.\n",
    "\n",
    "Objetivo:\n",
    "1. Obtener las energías de los orbitales frontera HOMO y LUMO (alpha)"
   ]
  },
  {
   "cell_type": "code",
   "execution_count": null,
   "id": "bb5d86ed",
   "metadata": {
    "slideshow": {
     "slide_type": "fragment"
    }
   },
   "outputs": [],
   "source": []
  },
  {
   "cell_type": "code",
   "execution_count": null,
   "id": "dea6b3b5",
   "metadata": {
    "slideshow": {
     "slide_type": "fragment"
    }
   },
   "outputs": [],
   "source": []
  },
  {
   "cell_type": "markdown",
   "id": "b6d7f08b",
   "metadata": {
    "slideshow": {
     "slide_type": "subslide"
    }
   },
   "source": [
    "## Ejercicio 2\n",
    "En este ejercicio trabajaremos con la tabla de orbitales alpha y beta, **ver ejercicio_2.txt**\n",
    "\n",
    "Objetivos:\n",
    "1. Definir una función que reciba las líneas de un archivo \n",
    "   con los orbitales alpha y beta y las separe en una de orbitales\n",
    "   alpha y otra de orbitales beta\n",
    "\n",
    "2. Obtener orbitales frontera para alpha y beta"
   ]
  },
  {
   "cell_type": "code",
   "execution_count": null,
   "id": "aab01d54",
   "metadata": {
    "slideshow": {
     "slide_type": "fragment"
    }
   },
   "outputs": [],
   "source": []
  },
  {
   "cell_type": "code",
   "execution_count": null,
   "id": "88c0c0d2",
   "metadata": {
    "slideshow": {
     "slide_type": "fragment"
    }
   },
   "outputs": [],
   "source": []
  },
  {
   "cell_type": "markdown",
   "id": "a9d06988",
   "metadata": {
    "slideshow": {
     "slide_type": "subslide"
    }
   },
   "source": [
    "## Ejercicio 3\n",
    "En este ejercicio trabajaremos con la salida de un cálculo de energía de Gaussian, **ver ejercicio_3.txt**\n",
    "\n",
    "Objetivos:\n",
    "1. Encontrar un patrón de inicio y fin para extraer la tabla de orbitales alpha y beta\n",
    "2. Obtener una lista que contenga las líneas del archivo que corresponden a la tabla de orbitales alpha y beta\n",
    "3. Usar las funciones anteriores para obtener los orbitales frontera"
   ]
  },
  {
   "cell_type": "code",
   "execution_count": null,
   "id": "b0a01572",
   "metadata": {
    "slideshow": {
     "slide_type": "fragment"
    }
   },
   "outputs": [],
   "source": []
  },
  {
   "cell_type": "code",
   "execution_count": null,
   "id": "441ab9bd",
   "metadata": {
    "slideshow": {
     "slide_type": "fragment"
    }
   },
   "outputs": [],
   "source": []
  },
  {
   "cell_type": "markdown",
   "id": "80747859",
   "metadata": {
    "slideshow": {
     "slide_type": "subslide"
    }
   },
   "source": [
    "## Ejercicio 4\n",
    "Ahora usaremos un archivo con múltiples cálculos de energía, uno por cada punto de una reacción dada por un IRC, **ver ejercicio_4.txt**\n",
    "\n",
    "Objetivos:\n",
    "1. Encontrar un patrón que permita separar los archivos\n",
    "2. Separar los archivos creando una lista con el texto de cada uno y guardarlos en una lista\n",
    "3. Obtener los orbitales frontera de cada uno"
   ]
  },
  {
   "cell_type": "code",
   "execution_count": null,
   "id": "a37480a4",
   "metadata": {
    "slideshow": {
     "slide_type": "fragment"
    }
   },
   "outputs": [],
   "source": []
  },
  {
   "cell_type": "code",
   "execution_count": null,
   "id": "0155339c",
   "metadata": {
    "slideshow": {
     "slide_type": "fragment"
    }
   },
   "outputs": [],
   "source": []
  },
  {
   "cell_type": "markdown",
   "id": "c3709454",
   "metadata": {
    "slideshow": {
     "slide_type": "subslide"
    }
   },
   "source": [
    "## Ejercicio 5\n",
    "Objetivos:\n",
    "1. Escribir los resultados del ejercicio anteriore en un archivo .dat (separado por tab)\n",
    "2. Debe incluir headers indicando los nombres de cada columna"
   ]
  },
  {
   "cell_type": "code",
   "execution_count": null,
   "id": "99a3d152",
   "metadata": {
    "slideshow": {
     "slide_type": "fragment"
    }
   },
   "outputs": [],
   "source": []
  },
  {
   "cell_type": "code",
   "execution_count": null,
   "id": "6bdfcf24",
   "metadata": {
    "slideshow": {
     "slide_type": "fragment"
    }
   },
   "outputs": [],
   "source": []
  },
  {
   "cell_type": "markdown",
   "id": "9ee35995",
   "metadata": {
    "slideshow": {
     "slide_type": "slide"
    }
   },
   "source": [
    "# Ejercicios individuales\n",
    "\n",
    "[Coding Rooms](https://app.codingrooms.com/app)!"
   ]
  }
 ],
 "metadata": {
  "hide_input": false,
  "kernelspec": {
   "display_name": "astro",
   "language": "python",
   "name": "astro"
  },
  "language_info": {
   "codemirror_mode": {
    "name": "ipython",
    "version": 3
   },
   "file_extension": ".py",
   "mimetype": "text/x-python",
   "name": "python",
   "nbconvert_exporter": "python",
   "pygments_lexer": "ipython3",
   "version": "3.9.12"
  },
  "toc": {
   "base_numbering": 1,
   "nav_menu": {},
   "number_sections": true,
   "sideBar": true,
   "skip_h1_title": false,
   "title_cell": "Table of Contents",
   "title_sidebar": "Contents",
   "toc_cell": false,
   "toc_position": {
    "height": "calc(100% - 180px)",
    "left": "10px",
    "top": "150px",
    "width": "165px"
   },
   "toc_section_display": true,
   "toc_window_display": false
  }
 },
 "nbformat": 4,
 "nbformat_minor": 5
}
