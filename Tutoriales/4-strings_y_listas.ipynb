{
 "cells": [
  {
   "cell_type": "markdown",
   "id": "7e08e666",
   "metadata": {
    "slideshow": {
     "slide_type": "slide"
    }
   },
   "source": [
    "# Clase 4: Iterables strings y listas"
   ]
  },
  {
   "cell_type": "markdown",
   "id": "c064ac35",
   "metadata": {
    "slideshow": {
     "slide_type": "slide"
    }
   },
   "source": [
    "# Caracteres especiales en strings"
   ]
  },
  {
   "cell_type": "markdown",
   "id": "971d1ed6",
   "metadata": {
    "slideshow": {
     "slide_type": "fragment"
    }
   },
   "source": [
    "* Podemos incluir algunos caracteres especiales en strings que se mostrarán al imprimirlos\n",
    "* los caracteres especiales llevan un `\\` seguido de otro caracter\n",
    "\n",
    "Algunos caracteres especiales:"
   ]
  },
  {
   "cell_type": "markdown",
   "id": "f0eded2c",
   "metadata": {
    "slideshow": {
     "slide_type": "fragment"
    }
   },
   "source": [
    "Salto de línea `\\n`"
   ]
  },
  {
   "cell_type": "code",
   "execution_count": null,
   "id": "10c7de72",
   "metadata": {
    "slideshow": {
     "slide_type": "fragment"
    }
   },
   "outputs": [],
   "source": [
    "print(\"Hola\\nMundo\")"
   ]
  },
  {
   "cell_type": "markdown",
   "id": "0db96279",
   "metadata": {
    "slideshow": {
     "slide_type": "fragment"
    }
   },
   "source": [
    "Tabulación `\\t`"
   ]
  },
  {
   "cell_type": "code",
   "execution_count": null,
   "id": "3cba88c6",
   "metadata": {
    "slideshow": {
     "slide_type": "fragment"
    }
   },
   "outputs": [],
   "source": [
    "print(\"Col1\\tCol2\")\n",
    "print(\"1.1\\t2.5\")\n",
    "print(\"1.3\\t2.1\")"
   ]
  },
  {
   "cell_type": "markdown",
   "id": "a615b6c0",
   "metadata": {
    "slideshow": {
     "slide_type": "fragment"
    }
   },
   "source": [
    "Comillas `\\\"` y `\\'`"
   ]
  },
  {
   "cell_type": "code",
   "execution_count": null,
   "id": "e5c0aab7",
   "metadata": {
    "slideshow": {
     "slide_type": "fragment"
    }
   },
   "outputs": [],
   "source": [
    "print(\"\\\"Hola Mundo\\\"\")\n",
    "print('\\'a\\'')"
   ]
  },
  {
   "cell_type": "markdown",
   "id": "b42ebf72",
   "metadata": {
    "slideshow": {
     "slide_type": "fragment"
    }
   },
   "source": [
    "Backslash `\\\\`"
   ]
  },
  {
   "cell_type": "code",
   "execution_count": null,
   "id": "35799870",
   "metadata": {
    "slideshow": {
     "slide_type": "fragment"
    }
   },
   "outputs": [],
   "source": [
    "print(\"\\\\\")"
   ]
  },
  {
   "cell_type": "markdown",
   "id": "ce41bd6e",
   "metadata": {
    "slideshow": {
     "slide_type": "slide"
    }
   },
   "source": [
    "# Listas"
   ]
  },
  {
   "cell_type": "markdown",
   "id": "f6d97870",
   "metadata": {
    "slideshow": {
     "slide_type": "subslide"
    }
   },
   "source": [
    "Una lista representa un conjunto ordenado de elementos, con este tipo de variable podemos representar por ejemplo:\n",
    "\n",
    "* una lista de compras (lista de strings)\n",
    "* una secuencia de números (lista de ints/float)\n",
    "* vectores\n",
    "* matrices\n",
    "* etc"
   ]
  },
  {
   "cell_type": "markdown",
   "id": "3fe5300d",
   "metadata": {
    "slideshow": {
     "slide_type": "fragment"
    }
   },
   "source": [
    "* Las listas se crean con corchetes cuadrados [ ] y separando cada elemento por coma (y un espacio)\n",
    "* Cada elemento puede ser cualquier tipo de objeto, no es necesario que sean del mismo tipo\n",
    "* No hay límite para el tamaño de las listas"
   ]
  },
  {
   "cell_type": "markdown",
   "id": "b06325ac",
   "metadata": {
    "slideshow": {
     "slide_type": "subslide"
    }
   },
   "source": [
    "Ejemplos"
   ]
  },
  {
   "cell_type": "code",
   "execution_count": null,
   "id": "64ca6931",
   "metadata": {
    "slideshow": {
     "slide_type": "fragment"
    }
   },
   "outputs": [],
   "source": [
    "lista_compras = [\"huevos\", \"azúcar\", \"harina\", \"chocolate\"]\n",
    "\n",
    "type(lista_compras)"
   ]
  },
  {
   "cell_type": "code",
   "execution_count": null,
   "id": "82cac101",
   "metadata": {
    "slideshow": {
     "slide_type": "fragment"
    }
   },
   "outputs": [],
   "source": [
    "abecedario = ['a', 'b', 'c', 'd']"
   ]
  },
  {
   "cell_type": "code",
   "execution_count": null,
   "id": "8340047b",
   "metadata": {
    "slideshow": {
     "slide_type": "fragment"
    }
   },
   "outputs": [],
   "source": [
    "secuencia = [0, 1, 1, 2, 3, 5, 8, 13, 21, 34]"
   ]
  },
  {
   "cell_type": "code",
   "execution_count": null,
   "id": "07190f1e",
   "metadata": {
    "slideshow": {
     "slide_type": "fragment"
    }
   },
   "outputs": [],
   "source": [
    "lista_variada = [0.3, \"hola\", 9, \"mundo\", True]"
   ]
  },
  {
   "cell_type": "markdown",
   "id": "c1c99307",
   "metadata": {
    "slideshow": {
     "slide_type": "subslide"
    }
   },
   "source": [
    "También podemos usar variables para crear listas"
   ]
  },
  {
   "cell_type": "code",
   "execution_count": null,
   "id": "0df6fc61",
   "metadata": {
    "slideshow": {
     "slide_type": "fragment"
    }
   },
   "outputs": [],
   "source": [
    "a = 1\n",
    "b = 2\n",
    "c = 3\n",
    "\n",
    "lista_variables = [a, b, c]\n",
    "\n",
    "print(lista_variables)"
   ]
  },
  {
   "cell_type": "markdown",
   "id": "c29872b1",
   "metadata": {
    "slideshow": {
     "slide_type": "subslide"
    }
   },
   "source": [
    "También podemos crear una lista vacía con `[]` o con `list()`"
   ]
  },
  {
   "cell_type": "code",
   "execution_count": null,
   "id": "94850563",
   "metadata": {
    "slideshow": {
     "slide_type": "fragment"
    }
   },
   "outputs": [],
   "source": [
    "lista_vacia = []  # o list()"
   ]
  },
  {
   "cell_type": "markdown",
   "id": "ab558239",
   "metadata": {
    "slideshow": {
     "slide_type": "subslide"
    }
   },
   "source": [
    "Podemos convertir otro iterable (ej: string) a una lista con `list(variable)`"
   ]
  },
  {
   "cell_type": "code",
   "execution_count": null,
   "id": "fbdbbc0f",
   "metadata": {
    "slideshow": {
     "slide_type": "fragment"
    }
   },
   "outputs": [],
   "source": [
    "list(\"Hola Mundo\")"
   ]
  },
  {
   "cell_type": "markdown",
   "id": "d1b69b32",
   "metadata": {
    "slideshow": {
     "slide_type": "subslide"
    }
   },
   "source": [
    "## Iterando en listas"
   ]
  },
  {
   "cell_type": "markdown",
   "id": "e9360862",
   "metadata": {
    "slideshow": {
     "slide_type": "fragment"
    }
   },
   "source": [
    "Las listas son objetos iterables, por lo que podemos iterar sobre sus elementos en un loop `for`\n",
    "\n",
    "\n",
    "```python\n",
    "for elemento in lista:\n",
    "    hacemos algo con elemento \n",
    "    (...)\n",
    "```"
   ]
  },
  {
   "cell_type": "markdown",
   "id": "f2ae0f17",
   "metadata": {
    "slideshow": {
     "slide_type": "fragment"
    }
   },
   "source": [
    "Por ejemplo:"
   ]
  },
  {
   "cell_type": "code",
   "execution_count": null,
   "id": "ac572536",
   "metadata": {
    "slideshow": {
     "slide_type": "fragment"
    }
   },
   "outputs": [],
   "source": [
    "lista_compras = [\"huevos\", \"azúcar\", \"harina\", \"chocolate\"]\n",
    "\n",
    "for elemento in lista_compras:\n",
    "    print(elemento)"
   ]
  },
  {
   "cell_type": "markdown",
   "id": "3102d319",
   "metadata": {
    "slideshow": {
     "slide_type": "subslide"
    }
   },
   "source": [
    "## Listas de listas"
   ]
  },
  {
   "cell_type": "markdown",
   "id": "9ef65455",
   "metadata": {
    "slideshow": {
     "slide_type": "fragment"
    }
   },
   "source": [
    "Las listas también pueden contener listas, esto permite por ejemplo representar una matriz"
   ]
  },
  {
   "cell_type": "code",
   "execution_count": null,
   "id": "2efe631d",
   "metadata": {
    "slideshow": {
     "slide_type": "fragment"
    }
   },
   "outputs": [],
   "source": [
    "matriz = [[1, 2, 3], [4, 5, 6], [7, 8, 9]]"
   ]
  },
  {
   "cell_type": "code",
   "execution_count": null,
   "id": "cc99208d",
   "metadata": {
    "slideshow": {
     "slide_type": "fragment"
    }
   },
   "outputs": [],
   "source": [
    "matriz = [[1, 2, 3],  # fila 1\n",
    "          [4, 5, 6],  # fila 2\n",
    "          [7, 8, 9]]  # fila 3"
   ]
  },
  {
   "cell_type": "markdown",
   "id": "2510772c",
   "metadata": {
    "slideshow": {
     "slide_type": "slide"
    }
   },
   "source": [
    "# Operador in"
   ]
  },
  {
   "cell_type": "markdown",
   "id": "fe3dbe47",
   "metadata": {
    "slideshow": {
     "slide_type": "fragment"
    }
   },
   "source": [
    "Si usamos el operador `in` entre un iterable otra variable obtenermos un booleano que es `True` si la variable es un elemento del iterable:\n",
    "\n",
    "```python\n",
    "elemento in iterable\n",
    "```\n",
    "\n",
    "Nota: no confundir con el `in` del loop `for` que tiene otra función"
   ]
  },
  {
   "cell_type": "markdown",
   "id": "b64b27fa",
   "metadata": {
    "slideshow": {
     "slide_type": "subslide"
    }
   },
   "source": [
    "Ejemplos:"
   ]
  },
  {
   "cell_type": "code",
   "execution_count": null,
   "id": "4509c2d2",
   "metadata": {
    "slideshow": {
     "slide_type": "fragment"
    }
   },
   "outputs": [],
   "source": [
    "secuencia = [0, 1, 1, 2, 3, 5, 8, 13, 21, 34]"
   ]
  },
  {
   "cell_type": "code",
   "execution_count": null,
   "id": "072fb51d",
   "metadata": {
    "slideshow": {
     "slide_type": "fragment"
    }
   },
   "outputs": [],
   "source": [
    "3 in secuencia"
   ]
  },
  {
   "cell_type": "code",
   "execution_count": null,
   "id": "7a3981e5",
   "metadata": {
    "slideshow": {
     "slide_type": "fragment"
    }
   },
   "outputs": [],
   "source": [
    "4 in secuencia"
   ]
  },
  {
   "cell_type": "code",
   "execution_count": null,
   "id": "97be428a",
   "metadata": {
    "slideshow": {
     "slide_type": "fragment"
    }
   },
   "outputs": [],
   "source": [
    "print(\"números en la secuencia\")\n",
    "\n",
    "for numero in range(30):\n",
    "    if numero in secuencia:\n",
    "        print(numero, \"sí\")\n",
    "    else:\n",
    "        print(numero, \"no\")"
   ]
  },
  {
   "cell_type": "code",
   "execution_count": null,
   "id": "19241759",
   "metadata": {
    "slideshow": {
     "slide_type": "fragment"
    }
   },
   "outputs": [],
   "source": [
    "\"Hola\" in \"Hola Mundo\""
   ]
  },
  {
   "cell_type": "markdown",
   "id": "37f15eb4",
   "metadata": {
    "slideshow": {
     "slide_type": "slide"
    }
   },
   "source": [
    "# Función len()"
   ]
  },
  {
   "cell_type": "markdown",
   "id": "189dfc87",
   "metadata": {
    "slideshow": {
     "slide_type": "fragment"
    }
   },
   "source": [
    "La función `len()` nos da el largo de un iterable (ej: listas, strings)"
   ]
  },
  {
   "cell_type": "code",
   "execution_count": null,
   "id": "584cd158",
   "metadata": {
    "slideshow": {
     "slide_type": "fragment"
    }
   },
   "outputs": [],
   "source": [
    "secuencia = [0, 1, 1, 2, 3, 5, 8, 13, 21, 34]\n",
    "len(secuencia)"
   ]
  },
  {
   "cell_type": "code",
   "execution_count": null,
   "id": "bd6acd2d",
   "metadata": {
    "slideshow": {
     "slide_type": "fragment"
    }
   },
   "outputs": [],
   "source": [
    "len(\"hola\")"
   ]
  },
  {
   "cell_type": "markdown",
   "id": "ea210b8e",
   "metadata": {
    "slideshow": {
     "slide_type": "slide"
    }
   },
   "source": [
    "# Indexación"
   ]
  },
  {
   "cell_type": "markdown",
   "id": "7e58e56f",
   "metadata": {
    "slideshow": {
     "slide_type": "fragment"
    }
   },
   "source": [
    "* Las listas y los strings son secuencias ordenadas\n",
    "* A cada elemento podemos asignarle un número entero\n",
    "* Este número se llama índice (index)\n",
    "* En Python los índices parten de cero (como en range)\n",
    "\n",
    "Ejemplo indices lista:\n",
    "\n",
    "```\n",
    "indices:     0    1    2    3\n",
    "elementos: ['a', 'b', 'c', 'd']\n",
    "```\n",
    "\n",
    "Ejemplo indices string:\n",
    "\n",
    "```\n",
    "indices:    0123456789\n",
    "elementos: 'hola mundo'\n",
    "```"
   ]
  },
  {
   "cell_type": "markdown",
   "id": "a1aaa6f7",
   "metadata": {
    "slideshow": {
     "slide_type": "fragment"
    }
   },
   "source": [
    "Podemos acceder al elemento con índice `i` de un iterable con el operador de indexación `[i]`:\n",
    "\n",
    "```python\n",
    "iterable[i]\n",
    "```"
   ]
  },
  {
   "cell_type": "markdown",
   "id": "1be4cdcf",
   "metadata": {
    "slideshow": {
     "slide_type": "subslide"
    }
   },
   "source": [
    "Ejemplos:"
   ]
  },
  {
   "cell_type": "code",
   "execution_count": null,
   "id": "72a86004",
   "metadata": {
    "slideshow": {
     "slide_type": "fragment"
    }
   },
   "outputs": [],
   "source": [
    "#              0    1    2    3\n",
    "abecedario = ['a', 'b', 'c', 'd']"
   ]
  },
  {
   "cell_type": "code",
   "execution_count": null,
   "id": "3fd15635",
   "metadata": {
    "slideshow": {
     "slide_type": "fragment"
    }
   },
   "outputs": [],
   "source": [
    "abecedario[0]"
   ]
  },
  {
   "cell_type": "code",
   "execution_count": null,
   "id": "4a3407c1",
   "metadata": {
    "slideshow": {
     "slide_type": "fragment"
    }
   },
   "outputs": [],
   "source": [
    "abecedario[2]"
   ]
  },
  {
   "cell_type": "code",
   "execution_count": null,
   "id": "d2f31fdd",
   "metadata": {
    "slideshow": {
     "slide_type": "fragment"
    }
   },
   "outputs": [],
   "source": [
    "texto = \"hola mundo\""
   ]
  },
  {
   "cell_type": "code",
   "execution_count": null,
   "id": "311833be",
   "metadata": {
    "slideshow": {
     "slide_type": "fragment"
    }
   },
   "outputs": [],
   "source": [
    "texto[1]"
   ]
  },
  {
   "cell_type": "code",
   "execution_count": null,
   "id": "e73cbfd3",
   "metadata": {
    "scrolled": true,
    "slideshow": {
     "slide_type": "fragment"
    }
   },
   "outputs": [],
   "source": [
    "texto[4]"
   ]
  },
  {
   "cell_type": "code",
   "execution_count": null,
   "id": "98fe5cb3",
   "metadata": {
    "slideshow": {
     "slide_type": "fragment"
    }
   },
   "outputs": [],
   "source": [
    "matriz = [[1, 2, 3],  # fila 1\n",
    "          [4, 5, 6],  # fila 2\n",
    "          [7, 8, 9]]  # fila 3"
   ]
  },
  {
   "cell_type": "code",
   "execution_count": null,
   "id": "860781a1",
   "metadata": {
    "slideshow": {
     "slide_type": "fragment"
    }
   },
   "outputs": [],
   "source": [
    "matriz[0]"
   ]
  },
  {
   "cell_type": "code",
   "execution_count": null,
   "id": "f3d83047",
   "metadata": {
    "slideshow": {
     "slide_type": "fragment"
    }
   },
   "outputs": [],
   "source": [
    "matriz[0][1]"
   ]
  },
  {
   "cell_type": "markdown",
   "id": "5bb403ca",
   "metadata": {
    "slideshow": {
     "slide_type": "subslide"
    }
   },
   "source": [
    "### Índices negativos\n",
    "\n",
    "* también podemos usar índices negativos\n",
    "* Si usamos índices negativos se cuenta de el final hacia el principio\n",
    "* El último elemento tiene índice `-1`\n",
    "\n",
    "Ejemplo:\n",
    "```\n",
    "indices:    -4   -3   -2   -1\n",
    "elementos: ['a', 'b', 'c', 'd']\n",
    "```"
   ]
  },
  {
   "cell_type": "code",
   "execution_count": null,
   "id": "576e0f16",
   "metadata": {
    "slideshow": {
     "slide_type": "fragment"
    }
   },
   "outputs": [],
   "source": [
    "#             -4   -3   -2   -1\n",
    "abecedario = ['a', 'b', 'c', 'd']"
   ]
  },
  {
   "cell_type": "code",
   "execution_count": null,
   "id": "78244a11",
   "metadata": {
    "slideshow": {
     "slide_type": "fragment"
    }
   },
   "outputs": [],
   "source": [
    "abecedario[-1]"
   ]
  },
  {
   "cell_type": "code",
   "execution_count": null,
   "id": "f5447154",
   "metadata": {
    "slideshow": {
     "slide_type": "fragment"
    }
   },
   "outputs": [],
   "source": [
    "abecedario[-3]"
   ]
  },
  {
   "cell_type": "code",
   "execution_count": null,
   "id": "2efece84",
   "metadata": {
    "slideshow": {
     "slide_type": "fragment"
    }
   },
   "outputs": [],
   "source": [
    "texto = \"hola mundo\""
   ]
  },
  {
   "cell_type": "code",
   "execution_count": null,
   "id": "e38d6322",
   "metadata": {
    "slideshow": {
     "slide_type": "fragment"
    }
   },
   "outputs": [],
   "source": [
    "texto[-2]"
   ]
  },
  {
   "cell_type": "code",
   "execution_count": null,
   "id": "b72c9aa6",
   "metadata": {
    "scrolled": true,
    "slideshow": {
     "slide_type": "fragment"
    }
   },
   "outputs": [],
   "source": [
    "texto[-4]"
   ]
  },
  {
   "cell_type": "markdown",
   "id": "c0279566",
   "metadata": {
    "slideshow": {
     "slide_type": "slide"
    }
   },
   "source": [
    "## loop for con idices"
   ]
  },
  {
   "cell_type": "markdown",
   "id": "4a9bb2f9",
   "metadata": {
    "slideshow": {
     "slide_type": "fragment"
    }
   },
   "source": [
    "Podemos hacer un loop sobre los índices de un iterable usando `range(len(iterable))`"
   ]
  },
  {
   "cell_type": "code",
   "execution_count": null,
   "id": "f3287ae0",
   "metadata": {
    "slideshow": {
     "slide_type": "fragment"
    }
   },
   "outputs": [],
   "source": [
    "abecedario = ['a', 'b', 'c', 'd']\n",
    "\n",
    "for i in range(len(abecedario)):\n",
    "    print(i, abecedario[i])"
   ]
  },
  {
   "cell_type": "markdown",
   "id": "30a71c78",
   "metadata": {
    "slideshow": {
     "slide_type": "slide"
    }
   },
   "source": [
    "# Slicing"
   ]
  },
  {
   "cell_type": "markdown",
   "id": "f61e707c",
   "metadata": {
    "slideshow": {
     "slide_type": "fragment"
    }
   },
   "source": [
    "* Un slice corresponde a un *trozo* o fragmento de un iterable\n",
    "* La operación de slicing nos permite obtener un fragmento\n",
    "* Para esto usamos el operador de slicing `[start:stop]`\n",
    "\n",
    "```python\n",
    "iterable[start:stop]\n",
    "```\n",
    "\n",
    "* Esto nos entrega el fragmento desde el índice `start` hasta el índice `stop - 1` (no incluye stop al igual que range)"
   ]
  },
  {
   "cell_type": "markdown",
   "id": "ce9471ee",
   "metadata": {
    "slideshow": {
     "slide_type": "subslide"
    }
   },
   "source": [
    "Ejemplo:"
   ]
  },
  {
   "cell_type": "code",
   "execution_count": null,
   "id": "adcf9b3d",
   "metadata": {
    "slideshow": {
     "slide_type": "fragment"
    }
   },
   "outputs": [],
   "source": [
    "numeros = [0, 1, 2, 3, 4, 5, 6]"
   ]
  },
  {
   "cell_type": "code",
   "execution_count": null,
   "id": "fa5faa84",
   "metadata": {
    "scrolled": true,
    "slideshow": {
     "slide_type": "fragment"
    }
   },
   "outputs": [],
   "source": [
    "numeros[0:3]"
   ]
  },
  {
   "cell_type": "code",
   "execution_count": null,
   "id": "cd844bf7",
   "metadata": {
    "slideshow": {
     "slide_type": "fragment"
    }
   },
   "outputs": [],
   "source": [
    "numeros[3:7]"
   ]
  },
  {
   "cell_type": "code",
   "execution_count": null,
   "id": "959fb991",
   "metadata": {
    "slideshow": {
     "slide_type": "fragment"
    }
   },
   "outputs": [],
   "source": [
    "numeros[2:3]"
   ]
  },
  {
   "cell_type": "code",
   "execution_count": null,
   "id": "f7508c8a",
   "metadata": {
    "slideshow": {
     "slide_type": "fragment"
    }
   },
   "outputs": [],
   "source": [
    "#        0123456789\n",
    "texto = \"Hola Mundo\""
   ]
  },
  {
   "cell_type": "code",
   "execution_count": null,
   "id": "42a190b9",
   "metadata": {
    "slideshow": {
     "slide_type": "fragment"
    }
   },
   "outputs": [],
   "source": [
    "texto[-5:-1]"
   ]
  },
  {
   "cell_type": "code",
   "execution_count": null,
   "id": "fd30fb4b",
   "metadata": {
    "slideshow": {
     "slide_type": "fragment"
    }
   },
   "outputs": [],
   "source": [
    "texto[5:len(texto)]"
   ]
  },
  {
   "cell_type": "code",
   "execution_count": null,
   "id": "c0d9ff9f",
   "metadata": {
    "slideshow": {
     "slide_type": "fragment"
    }
   },
   "outputs": [],
   "source": [
    "matriz = [[1, 2, 3],  # fila 1\n",
    "          [4, 5, 6],  # fila 2\n",
    "          [7, 8, 9]]  # fila 3"
   ]
  },
  {
   "cell_type": "code",
   "execution_count": null,
   "id": "181e8dc2",
   "metadata": {
    "slideshow": {
     "slide_type": "fragment"
    }
   },
   "outputs": [],
   "source": [
    "matriz[0:2]"
   ]
  },
  {
   "cell_type": "markdown",
   "id": "fc33ce37",
   "metadata": {
    "slideshow": {
     "slide_type": "subslide"
    }
   },
   "source": [
    "## Más sobre slicing"
   ]
  },
  {
   "cell_type": "markdown",
   "id": "3392459b",
   "metadata": {
    "slideshow": {
     "slide_type": "fragment"
    }
   },
   "source": [
    "* podemos omitir `start` o `stop` en un slice\n",
    "* si se omite `start` partirá desde el comienzo (ídice 0)\n",
    "* si se omite `stop` llegará hasta el final (índice `len(iterable)`)"
   ]
  },
  {
   "cell_type": "code",
   "execution_count": null,
   "id": "65dbb36b",
   "metadata": {
    "slideshow": {
     "slide_type": "fragment"
    }
   },
   "outputs": [],
   "source": [
    "numeros = [0, 1, 2, 3, 4, 5, 6]"
   ]
  },
  {
   "cell_type": "code",
   "execution_count": null,
   "id": "2ed6a6c7",
   "metadata": {
    "slideshow": {
     "slide_type": "fragment"
    }
   },
   "outputs": [],
   "source": [
    "numeros[:3]"
   ]
  },
  {
   "cell_type": "code",
   "execution_count": null,
   "id": "142e3aba",
   "metadata": {
    "slideshow": {
     "slide_type": "fragment"
    }
   },
   "outputs": [],
   "source": [
    "numeros[4:]"
   ]
  },
  {
   "cell_type": "code",
   "execution_count": null,
   "id": "861279cb",
   "metadata": {
    "slideshow": {
     "slide_type": "fragment"
    }
   },
   "outputs": [],
   "source": [
    "numeros[:]"
   ]
  },
  {
   "cell_type": "markdown",
   "id": "061389ff",
   "metadata": {
    "slideshow": {
     "slide_type": "slide"
    }
   },
   "source": [
    "# \"Álgebra\" de strings y listas"
   ]
  },
  {
   "cell_type": "markdown",
   "id": "ab5dc418",
   "metadata": {
    "slideshow": {
     "slide_type": "subslide"
    }
   },
   "source": [
    "## suma (+):\n",
    "\n",
    "la suma de dos strings o listas corresponde a la concatenación de estos"
   ]
  },
  {
   "cell_type": "code",
   "execution_count": null,
   "id": "a8eb2662",
   "metadata": {
    "scrolled": true,
    "slideshow": {
     "slide_type": "fragment"
    }
   },
   "outputs": [],
   "source": [
    "\"Hola\" + \"Mundo\""
   ]
  },
  {
   "cell_type": "code",
   "execution_count": null,
   "id": "c90f9254",
   "metadata": {
    "slideshow": {
     "slide_type": "fragment"
    }
   },
   "outputs": [],
   "source": [
    "\"Hola\" + \" \" + \"Mundo\""
   ]
  },
  {
   "cell_type": "code",
   "execution_count": null,
   "id": "ec764c9d",
   "metadata": {
    "slideshow": {
     "slide_type": "fragment"
    }
   },
   "outputs": [],
   "source": [
    "lista_1 = [1, 2, 3]\n",
    "lista_2 = [4, 5, 6]\n",
    "\n",
    "lista_1 + lista_2"
   ]
  },
  {
   "cell_type": "markdown",
   "id": "b94e02e3",
   "metadata": {
    "slideshow": {
     "slide_type": "subslide"
    }
   },
   "source": [
    "## producto (*):\n",
    "\n",
    "el producto de **un int por un string o lista** es el string o lista repetido n veces"
   ]
  },
  {
   "cell_type": "code",
   "execution_count": null,
   "id": "412ce770",
   "metadata": {
    "scrolled": true,
    "slideshow": {
     "slide_type": "fragment"
    }
   },
   "outputs": [],
   "source": [
    "5 * \"Hola \""
   ]
  },
  {
   "cell_type": "code",
   "execution_count": null,
   "id": "88562f88",
   "metadata": {
    "slideshow": {
     "slide_type": "fragment"
    }
   },
   "outputs": [],
   "source": [
    "a = 3 * [1, 2, 3]\n",
    "a"
   ]
  },
  {
   "cell_type": "markdown",
   "id": "d64512df",
   "metadata": {
    "slideshow": {
     "slide_type": "slide"
    }
   },
   "source": [
    "# Modificando listas"
   ]
  },
  {
   "cell_type": "markdown",
   "id": "bc7c74d5",
   "metadata": {
    "slideshow": {
     "slide_type": "fragment"
    }
   },
   "source": [
    "* Existe una diferencia importante entre las listas y los otros tipos de objeto\n",
    "* Las listas son **mutables**, mientras que los string, int, float y bool son **inmutables**"
   ]
  },
  {
   "cell_type": "markdown",
   "id": "f18aa329",
   "metadata": {
    "slideshow": {
     "slide_type": "subslide"
    }
   },
   "source": [
    "**objetos inmutables**:\n",
    "* Una vez creados no se pueden cambiar\n",
    "* Podemos reemplazar el objeto dentro de la variable por uno **nuevo** con otro valor\n",
    "* El objeto en sí no cambia"
   ]
  },
  {
   "cell_type": "markdown",
   "id": "2fb199f5",
   "metadata": {
    "slideshow": {
     "slide_type": "fragment"
    }
   },
   "source": [
    "Ejemplo:"
   ]
  },
  {
   "cell_type": "code",
   "execution_count": null,
   "id": "0d3a15df",
   "metadata": {
    "slideshow": {
     "slide_type": "fragment"
    }
   },
   "outputs": [],
   "source": [
    "a = 2\n",
    "b = a\n",
    "\n",
    "a = 3 * a\n",
    "\n",
    "print(\"a =\", a, \", b =\", b)"
   ]
  },
  {
   "cell_type": "markdown",
   "id": "56210b64",
   "metadata": {
    "slideshow": {
     "slide_type": "fragment"
    }
   },
   "source": [
    "En un diagrama tendríamos:\n",
    "\n",
    "```\n",
    "inicial:\n",
    "a ─┐\n",
    "   ├─ int 2\n",
    "b ─┘      \n",
    "\n",
    "final:\n",
    "a ─ int 6\n",
    "b ─ int 2\n",
    "```"
   ]
  },
  {
   "cell_type": "markdown",
   "id": "b40c4837",
   "metadata": {
    "slideshow": {
     "slide_type": "fragment"
    }
   },
   "source": [
    "En este caso el objeto guardado en `a` pasó de ser el int `2` a ser el int `6`, pero el objeto `2` no cambió y sigue guardado en `b`"
   ]
  },
  {
   "cell_type": "markdown",
   "id": "75660262",
   "metadata": {
    "slideshow": {
     "slide_type": "subslide"
    }
   },
   "source": [
    "**objetos mutables**:\n",
    "* pueden ser alterados después de haber sido creados\n",
    "* podemos modificarlos internamente sin cambiar de un objeto a otro"
   ]
  },
  {
   "cell_type": "markdown",
   "id": "0be5c0b2",
   "metadata": {
    "slideshow": {
     "slide_type": "fragment"
    }
   },
   "source": [
    "Las listas son similares a tener una serie de variables, podemos cambiar el valor de las variables contenidas en la lista sin cambiar de una lista a otra.\n",
    "\n",
    "Una forma de hacerlo es con indexación, pensemos en `lista[indice]` como una variable, podemos hacer lo mismo que con ellas."
   ]
  },
  {
   "cell_type": "code",
   "execution_count": null,
   "id": "06200aa3",
   "metadata": {
    "slideshow": {
     "slide_type": "fragment"
    }
   },
   "outputs": [],
   "source": [
    "numeros = [1, 2, 3, 4]"
   ]
  },
  {
   "cell_type": "code",
   "execution_count": null,
   "id": "d43d71a8",
   "metadata": {
    "slideshow": {
     "slide_type": "fragment"
    }
   },
   "outputs": [],
   "source": [
    "# cambiamos el valor en la posición 0\n",
    "numeros[0] = 5\n",
    "numeros"
   ]
  },
  {
   "cell_type": "code",
   "execution_count": null,
   "id": "aa7f7e0a",
   "metadata": {
    "slideshow": {
     "slide_type": "fragment"
    }
   },
   "outputs": [],
   "source": [
    "# multiplicamos el elemento en posición 2 por 4\n",
    "numeros[2] *= 4\n",
    "numeros"
   ]
  },
  {
   "cell_type": "markdown",
   "id": "a34cbf67",
   "metadata": {
    "slideshow": {
     "slide_type": "fragment"
    }
   },
   "source": [
    "A diferencia de los otros casos esta sigue siendo la misma lista, una prueba de ello es que la misma operación no está permitida en strings:"
   ]
  },
  {
   "cell_type": "code",
   "execution_count": null,
   "id": "9d26177d",
   "metadata": {
    "slideshow": {
     "slide_type": "fragment"
    }
   },
   "outputs": [],
   "source": [
    "texto = \"Hola Mundo\"\n",
    "\n",
    "texto[0] = \"L\""
   ]
  },
  {
   "cell_type": "markdown",
   "id": "23958c4d",
   "metadata": {
    "slideshow": {
     "slide_type": "subslide"
    }
   },
   "source": [
    "**¿Qué ocurrirá con el siguiente código?**"
   ]
  },
  {
   "cell_type": "code",
   "execution_count": null,
   "id": "eb8c9671",
   "metadata": {
    "slideshow": {
     "slide_type": "fragment"
    }
   },
   "outputs": [],
   "source": [
    "a = [1, 2, 3, 4]\n",
    "b = a\n",
    "\n",
    "a[0] = 5\n",
    "\n",
    "print(a)\n",
    "print(b)"
   ]
  },
  {
   "cell_type": "markdown",
   "id": "6eb5668f",
   "metadata": {
    "slideshow": {
     "slide_type": "fragment"
    }
   },
   "source": [
    "El diagrama sería:\n",
    "\n",
    "inicial:\n",
    "```\n",
    "a ─┐\n",
    "   ├─lista─┐\n",
    "b ─┘       ├ int 1\n",
    "           ├ int 2\n",
    "           ├ int 3\n",
    "           └ int 4\n",
    "``` \n",
    "\n",
    "final:\n",
    "```\n",
    "a ─┐\n",
    "   ├─lista─┐\n",
    "b ─┘       ├ int 5\n",
    "           ├ int 2\n",
    "           ├ int 3\n",
    "           └ int 4\n",
    "``` "
   ]
  },
  {
   "cell_type": "markdown",
   "id": "0095b625",
   "metadata": {
    "slideshow": {
     "slide_type": "fragment"
    }
   },
   "source": [
    "Mucho cuidado con asignar una lista a más de una variable, podemos obtener resultados inesperados"
   ]
  },
  {
   "cell_type": "markdown",
   "id": "bc997df7",
   "metadata": {
    "slideshow": {
     "slide_type": "subslide"
    }
   },
   "source": [
    "## Modificando listas en loops"
   ]
  },
  {
   "cell_type": "markdown",
   "id": "e24f8ec0",
   "metadata": {
    "slideshow": {
     "slide_type": "fragment"
    }
   },
   "source": [
    "Para modificar todos los elementos de una lista conviene hacerlo en un **loop for sobre los índices**\n",
    "\n",
    "```python\n",
    "for i in range(len(lista)):\n",
    "    lista[i] = algo\n",
    "```"
   ]
  },
  {
   "cell_type": "code",
   "execution_count": null,
   "id": "ac8d5113",
   "metadata": {
    "slideshow": {
     "slide_type": "fragment"
    }
   },
   "outputs": [],
   "source": [
    "numeros = [1, 2, 3, 4]\n",
    "\n",
    "for i in range(len(numeros)):\n",
    "    numeros[i] *= 10\n",
    "    \n",
    "numeros"
   ]
  },
  {
   "cell_type": "markdown",
   "id": "61307d5d",
   "metadata": {
    "slideshow": {
     "slide_type": "slide"
    }
   },
   "source": [
    "# Métodos"
   ]
  },
  {
   "cell_type": "markdown",
   "id": "92e5217d",
   "metadata": {
    "slideshow": {
     "slide_type": "fragment"
    }
   },
   "source": [
    "* **Un método es una función** que se aplica internamente sobre un objeto. \n",
    "* Cada tipo de objeto tiene métodos propios de su tipo\n",
    "\n",
    "Se usan de la siguiente manera:\n",
    "\n",
    "```python\n",
    "variable.metodo(argumentos)\n",
    "```\n",
    "\n",
    "A continuación veremos algunos métodos de strings y listas"
   ]
  },
  {
   "cell_type": "markdown",
   "id": "c1d70951",
   "metadata": {
    "slideshow": {
     "slide_type": "subslide"
    }
   },
   "source": [
    "## Métodos de strings\n",
    "\n",
    "A continuación veremos algunos métodos comúnes"
   ]
  },
  {
   "cell_type": "markdown",
   "id": "334d0de3",
   "metadata": {
    "slideshow": {
     "slide_type": "fragment"
    }
   },
   "source": [
    "### upper y lower\n",
    "\n",
    "Estos métodos cambian un string a mayúsculas o minúsculas, estas son funciones sin argumentos"
   ]
  },
  {
   "cell_type": "code",
   "execution_count": null,
   "id": "6554f3ff",
   "metadata": {
    "slideshow": {
     "slide_type": "fragment"
    }
   },
   "outputs": [],
   "source": [
    "a = \"Hola Mundo\""
   ]
  },
  {
   "cell_type": "code",
   "execution_count": null,
   "id": "ee0be808",
   "metadata": {
    "slideshow": {
     "slide_type": "fragment"
    }
   },
   "outputs": [],
   "source": [
    "a.upper()"
   ]
  },
  {
   "cell_type": "code",
   "execution_count": null,
   "id": "2ca452ec",
   "metadata": {
    "slideshow": {
     "slide_type": "fragment"
    }
   },
   "outputs": [],
   "source": [
    "a.lower()"
   ]
  },
  {
   "cell_type": "markdown",
   "id": "67e198f0",
   "metadata": {
    "slideshow": {
     "slide_type": "fragment"
    }
   },
   "source": [
    "Es importante notar que los strings son **inmutables**, esto quiere decir que **el string original no cambia** sino que los **métodos retornan un nuevo string modificados**"
   ]
  },
  {
   "cell_type": "code",
   "execution_count": null,
   "id": "b88d0c62",
   "metadata": {
    "slideshow": {
     "slide_type": "fragment"
    }
   },
   "outputs": [],
   "source": [
    "a"
   ]
  },
  {
   "cell_type": "markdown",
   "id": "a55b71d4",
   "metadata": {
    "slideshow": {
     "slide_type": "fragment"
    }
   },
   "source": [
    "### replace\n",
    "\n",
    "Este método reemplaza un texto (substring) por otro, lleva dos argumentos, el texto original y el nuevo"
   ]
  },
  {
   "cell_type": "code",
   "execution_count": null,
   "id": "a129cafc",
   "metadata": {
    "slideshow": {
     "slide_type": "fragment"
    }
   },
   "outputs": [],
   "source": [
    "b = \"Hola Mundo, Chao Mundo\""
   ]
  },
  {
   "cell_type": "code",
   "execution_count": null,
   "id": "21d1da70",
   "metadata": {
    "slideshow": {
     "slide_type": "fragment"
    }
   },
   "outputs": [],
   "source": [
    "b.replace(\"Mundo\", \"Chile\")"
   ]
  },
  {
   "cell_type": "code",
   "execution_count": null,
   "id": "29c01cbe",
   "metadata": {
    "slideshow": {
     "slide_type": "fragment"
    }
   },
   "outputs": [],
   "source": [
    "b.replace('a', 'o')"
   ]
  },
  {
   "cell_type": "markdown",
   "id": "11818431",
   "metadata": {
    "slideshow": {
     "slide_type": "fragment"
    }
   },
   "source": [
    "###  find\n",
    "\n",
    "* Este método sirve para encontrar un texto dentro de otro \n",
    "* Retorna el índice de la posición donde comienza el texto a buscar\n",
    "* Si el texto aparece más de una vez solo encuentra la primera aparición\n",
    "* Si no aparece retorna -1"
   ]
  },
  {
   "cell_type": "code",
   "execution_count": null,
   "id": "e74cfb1d",
   "metadata": {
    "slideshow": {
     "slide_type": "fragment"
    }
   },
   "outputs": [],
   "source": [
    "b = \"Hola Mundo, Chao Mundo\""
   ]
  },
  {
   "cell_type": "code",
   "execution_count": null,
   "id": "b8179db7",
   "metadata": {
    "slideshow": {
     "slide_type": "fragment"
    }
   },
   "outputs": [],
   "source": [
    "b.find(\"Mundo\")"
   ]
  },
  {
   "cell_type": "code",
   "execution_count": null,
   "id": "9d5ed166",
   "metadata": {},
   "outputs": [],
   "source": [
    "b.find(\"Python\")"
   ]
  },
  {
   "cell_type": "markdown",
   "id": "348f0e40",
   "metadata": {
    "slideshow": {
     "slide_type": "fragment"
    }
   },
   "source": [
    "### strip\n",
    "\n",
    "* Se usa para remover caracteres al comienzo y al final de un string\n",
    "* El uso que le daremos es el estandar que es sin argumentos\n",
    "* Remueve saltos de líneas y espacios\n",
    "* **Se usa al leer archivos**"
   ]
  },
  {
   "cell_type": "code",
   "execution_count": null,
   "id": "f5b4146d",
   "metadata": {
    "slideshow": {
     "slide_type": "fragment"
    }
   },
   "outputs": [],
   "source": [
    "\"   Hola Mundo  \\n\".strip()"
   ]
  },
  {
   "cell_type": "markdown",
   "id": "fcf57026",
   "metadata": {
    "slideshow": {
     "slide_type": "fragment"
    }
   },
   "source": [
    "### split\n",
    "\n",
    "* **Convierte un string en una lista** usando un separador `sep` que es otro string\n",
    "* El argumento corresponde al separador `texto.split(sep)`\n",
    "* Sin argumentos usa espacios como separador `texto.split()`\n",
    "* Útil para **separar las palabras de un texto**\n",
    "* También para **leer tablas**"
   ]
  },
  {
   "cell_type": "code",
   "execution_count": null,
   "id": "0c0f9ef7",
   "metadata": {
    "scrolled": false,
    "slideshow": {
     "slide_type": "fragment"
    }
   },
   "outputs": [],
   "source": [
    "texto = \"Este es un texto que quiero convertir a una lista de palabras\"\n",
    "texto.split()"
   ]
  },
  {
   "cell_type": "code",
   "execution_count": null,
   "id": "31f15266",
   "metadata": {
    "slideshow": {
     "slide_type": "fragment"
    }
   },
   "outputs": [],
   "source": [
    "numeros = \"123.1123, 41.1234, 5.1233, -3.2411\"\n",
    "numeros.split(', ')"
   ]
  },
  {
   "cell_type": "markdown",
   "id": "e4d2567c",
   "metadata": {
    "slideshow": {
     "slide_type": "fragment"
    }
   },
   "source": [
    "### join\n",
    "\n",
    "* Éste método es la operación inversa de split\n",
    "* El string es el separador y toma una lista como argumento\n",
    "* **Une los elementos de la lista usando el separador** `sep.join(lista)`\n",
    "* **Los elementos de la lista deben ser strings**"
   ]
  },
  {
   "cell_type": "code",
   "execution_count": null,
   "id": "2e3564fb",
   "metadata": {
    "slideshow": {
     "slide_type": "fragment"
    }
   },
   "outputs": [],
   "source": [
    "lista = [\"Hola\", \"Mundo\"]\n",
    "\n",
    "' '.join(lista)"
   ]
  },
  {
   "cell_type": "code",
   "execution_count": null,
   "id": "45ca59c6",
   "metadata": {
    "slideshow": {
     "slide_type": "fragment"
    }
   },
   "outputs": [],
   "source": [
    "fila_numeros = [12.124, 64.145, 1.525]\n",
    "\n",
    "# convertimos los elementos a string\n",
    "for i in range(len(fila_numeros)):\n",
    "    fila_numeros[i] = str(fila_numeros[i])\n",
    "\n",
    "','.join(fila_numeros)"
   ]
  },
  {
   "cell_type": "markdown",
   "id": "311828ae",
   "metadata": {
    "slideshow": {
     "slide_type": "fragment"
    }
   },
   "source": [
    "Más metodos de strings: [documentación](https://docs.python.org/3/library/stdtypes.html#string-methods)"
   ]
  },
  {
   "cell_type": "markdown",
   "id": "150df73b",
   "metadata": {
    "slideshow": {
     "slide_type": "subslide"
    }
   },
   "source": [
    "## Métodos de listas\n",
    "\n",
    "Ya que las listas son **mutables**, algunos métodos no retornan nada porque modifican la lista internamente"
   ]
  },
  {
   "cell_type": "markdown",
   "id": "912184ba",
   "metadata": {
    "slideshow": {
     "slide_type": "fragment"
    }
   },
   "source": [
    "### append\n",
    "\n",
    "`lista.append(valor)` añade el valor al final de la lista"
   ]
  },
  {
   "cell_type": "code",
   "execution_count": null,
   "id": "c2f90e10",
   "metadata": {
    "slideshow": {
     "slide_type": "fragment"
    }
   },
   "outputs": [],
   "source": [
    "numeros = [1, 2, 3, 4]"
   ]
  },
  {
   "cell_type": "code",
   "execution_count": null,
   "id": "fca45701",
   "metadata": {
    "slideshow": {
     "slide_type": "fragment"
    }
   },
   "outputs": [],
   "source": [
    "numeros.append(5)"
   ]
  },
  {
   "cell_type": "code",
   "execution_count": null,
   "id": "869e6adf",
   "metadata": {
    "slideshow": {
     "slide_type": "fragment"
    }
   },
   "outputs": [],
   "source": [
    "numeros"
   ]
  },
  {
   "cell_type": "markdown",
   "id": "04c773f0",
   "metadata": {
    "slideshow": {
     "slide_type": "fragment"
    }
   },
   "source": [
    "Podemos partir de una lista vacía e ir añadiendo elementos:"
   ]
  },
  {
   "cell_type": "code",
   "execution_count": null,
   "id": "a814cbe8",
   "metadata": {},
   "outputs": [],
   "source": [
    "entrada = \"\"\n",
    "\n",
    "lista = []\n",
    "\n",
    "while entrada != \"end\":\n",
    "    \n",
    "    entrada = input()\n",
    "    \n",
    "    if entrada != \"end\":\n",
    "        lista.append(entrada)\n",
    "        \n",
    "lista"
   ]
  },
  {
   "cell_type": "markdown",
   "id": "1509d8a3",
   "metadata": {
    "slideshow": {
     "slide_type": "fragment"
    }
   },
   "source": [
    "### reverse\n",
    "\n",
    "invierte el orden de la lista"
   ]
  },
  {
   "cell_type": "code",
   "execution_count": null,
   "id": "d30dee4c",
   "metadata": {
    "slideshow": {
     "slide_type": "fragment"
    }
   },
   "outputs": [],
   "source": [
    "numeros = [1, 2, 3, 4]"
   ]
  },
  {
   "cell_type": "code",
   "execution_count": null,
   "id": "5e127e61",
   "metadata": {
    "slideshow": {
     "slide_type": "fragment"
    }
   },
   "outputs": [],
   "source": [
    "numeros.reverse()"
   ]
  },
  {
   "cell_type": "code",
   "execution_count": null,
   "id": "5caa4a0b",
   "metadata": {
    "slideshow": {
     "slide_type": "fragment"
    }
   },
   "outputs": [],
   "source": [
    "numeros"
   ]
  },
  {
   "cell_type": "markdown",
   "id": "6e40aafd",
   "metadata": {
    "slideshow": {
     "slide_type": "fragment"
    }
   },
   "source": [
    "Más metodos de listas: [documentación](https://docs.python.org/3/tutorial/datastructures.html#more-on-lists)"
   ]
  },
  {
   "cell_type": "markdown",
   "id": "9ee35995",
   "metadata": {
    "slideshow": {
     "slide_type": "slide"
    }
   },
   "source": [
    "## Ejercicios\n",
    "\n",
    "[Coding Rooms](https://app.codingrooms.com/app)!"
   ]
  }
 ],
 "metadata": {
  "hide_input": false,
  "kernelspec": {
   "display_name": "astro",
   "language": "python",
   "name": "astro"
  },
  "language_info": {
   "codemirror_mode": {
    "name": "ipython",
    "version": 3
   },
   "file_extension": ".py",
   "mimetype": "text/x-python",
   "name": "python",
   "nbconvert_exporter": "python",
   "pygments_lexer": "ipython3",
   "version": "3.9.12"
  },
  "toc": {
   "base_numbering": 1,
   "nav_menu": {},
   "number_sections": true,
   "sideBar": true,
   "skip_h1_title": false,
   "title_cell": "Table of Contents",
   "title_sidebar": "Contents",
   "toc_cell": false,
   "toc_position": {
    "height": "calc(100% - 180px)",
    "left": "10px",
    "top": "150px",
    "width": "165px"
   },
   "toc_section_display": true,
   "toc_window_display": true
  }
 },
 "nbformat": 4,
 "nbformat_minor": 5
}
