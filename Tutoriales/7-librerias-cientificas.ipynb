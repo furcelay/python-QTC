{
 "cells": [
  {
   "cell_type": "code",
   "execution_count": 1,
   "id": "a310df67",
   "metadata": {
    "slideshow": {
     "slide_type": "skip"
    }
   },
   "outputs": [
    {
     "name": "stdout",
     "output_type": "stream",
     "text": [
      "/home/felipe/Documents/python-QTC/Tutoriales/archivos\n"
     ]
    }
   ],
   "source": [
    "%cd ../Tutoriales/archivos"
   ]
  },
  {
   "cell_type": "markdown",
   "id": "1336ea8b",
   "metadata": {
    "slideshow": {
     "slide_type": "slide"
    }
   },
   "source": [
    "# Librerías Científicas"
   ]
  },
  {
   "cell_type": "markdown",
   "id": "6b080a0e",
   "metadata": {
    "slideshow": {
     "slide_type": "slide"
    }
   },
   "source": [
    "# Librerías "
   ]
  },
  {
   "cell_type": "markdown",
   "id": "4adb8184",
   "metadata": {
    "slideshow": {
     "slide_type": "fragment"
    }
   },
   "source": [
    " Las librerías corresponden a un conjunto de herramientas como variables y funciones que no se encuentran originalmente en la base de python (a diferencia de funciones como `print`, `import`, `range`, etc). Para utilizarlas tenemos que **importarlas** a nuestro programa."
   ]
  },
  {
   "cell_type": "markdown",
   "id": "b866dfb6",
   "metadata": {
    "slideshow": {
     "slide_type": "subslide"
    }
   },
   "source": [
    "## Importar librerías"
   ]
  },
  {
   "cell_type": "markdown",
   "id": "52a05a90",
   "metadata": {
    "slideshow": {
     "slide_type": "fragment"
    }
   },
   "source": [
    "Para importar una librería debemos hacerlo con la sentencia `import` **al comienzo del programa**. Podemos importar la librería completa o parte de ella, y también podemos darle un alias."
   ]
  },
  {
   "cell_type": "markdown",
   "id": "0aa9593f",
   "metadata": {
    "slideshow": {
     "slide_type": "fragment"
    }
   },
   "source": [
    "Como ejemplo importaremos la librería `random` que sirve para generar números aleatorios"
   ]
  },
  {
   "cell_type": "markdown",
   "id": "ddaf7902",
   "metadata": {
    "slideshow": {
     "slide_type": "subslide"
    }
   },
   "source": [
    "### Importar la librería completa\n",
    "\n",
    "Importamos la librería completa para usar varias de sus herramientas, para eso utilizamos la siguiente sintáxis\n",
    "\n",
    "```python\n",
    "import libreria\n",
    "```\n",
    "\n",
    "por ejemplo:"
   ]
  },
  {
   "cell_type": "code",
   "execution_count": 2,
   "id": "79b9297c",
   "metadata": {
    "slideshow": {
     "slide_type": "fragment"
    }
   },
   "outputs": [],
   "source": [
    "import random"
   ]
  },
  {
   "cell_type": "markdown",
   "id": "c6ad5e1c",
   "metadata": {
    "slideshow": {
     "slide_type": "fragment"
    }
   },
   "source": [
    "Luego podemos acceder a funciones dentro de `random`"
   ]
  },
  {
   "cell_type": "code",
   "execution_count": 3,
   "id": "8d39b764",
   "metadata": {
    "slideshow": {
     "slide_type": "fragment"
    }
   },
   "outputs": [
    {
     "data": {
      "text/plain": [
       "0.3627497033057172"
      ]
     },
     "execution_count": 3,
     "metadata": {},
     "output_type": "execute_result"
    }
   ],
   "source": [
    "# genera un número aleatorio entre 0 y 1\n",
    "\n",
    "random.random()"
   ]
  },
  {
   "cell_type": "code",
   "execution_count": 4,
   "id": "68b04336",
   "metadata": {
    "slideshow": {
     "slide_type": "fragment"
    }
   },
   "outputs": [
    {
     "data": {
      "text/plain": [
       "2"
      ]
     },
     "execution_count": 4,
     "metadata": {},
     "output_type": "execute_result"
    }
   ],
   "source": [
    "# genera un número entero aleatorio entre a y b\n",
    "\n",
    "random.randint(1, 10)"
   ]
  },
  {
   "cell_type": "markdown",
   "id": "0d8e6c69",
   "metadata": {
    "slideshow": {
     "slide_type": "subslide"
    }
   },
   "source": [
    "### Importar solo las herramientas que necesitamos\n",
    "\n",
    "En muchos casos solo usamos pocas herramientas de la librería, en este caso es más conveniente importar solo esas funciones, para eso usamos\n",
    "\n",
    "```python\n",
    "from libreria import herramienta_1, herramienta_2, ...\n",
    "```\n",
    "\n",
    "Por ejemplo:"
   ]
  },
  {
   "cell_type": "code",
   "execution_count": 5,
   "id": "20419125",
   "metadata": {
    "slideshow": {
     "slide_type": "fragment"
    }
   },
   "outputs": [],
   "source": [
    "from random import randint"
   ]
  },
  {
   "cell_type": "markdown",
   "id": "583fbd0c",
   "metadata": {
    "slideshow": {
     "slide_type": "fragment"
    }
   },
   "source": [
    "Luego podemos usar randint directamente"
   ]
  },
  {
   "cell_type": "code",
   "execution_count": 6,
   "id": "7c059f22",
   "metadata": {
    "slideshow": {
     "slide_type": "fragment"
    }
   },
   "outputs": [
    {
     "data": {
      "text/plain": [
       "3"
      ]
     },
     "execution_count": 6,
     "metadata": {},
     "output_type": "execute_result"
    }
   ],
   "source": [
    "randint(1, 10)"
   ]
  },
  {
   "cell_type": "markdown",
   "id": "c1d73308",
   "metadata": {
    "slideshow": {
     "slide_type": "subslide"
    }
   },
   "source": [
    "### Importar la librería con un alias"
   ]
  },
  {
   "cell_type": "markdown",
   "id": "fc446250",
   "metadata": {
    "slideshow": {
     "slide_type": "fragment"
    }
   },
   "source": [
    "En ocasiones el nombre de la librería puede ser algo largo, en estos casos es común usar un alias para la librería\n",
    "\n",
    "```\n",
    "import libreria as alias_libreria\n",
    "```\n",
    "\n",
    "Por ejemplo:"
   ]
  },
  {
   "cell_type": "code",
   "execution_count": 7,
   "id": "34100fff",
   "metadata": {
    "slideshow": {
     "slide_type": "fragment"
    }
   },
   "outputs": [],
   "source": [
    "import random as rand"
   ]
  },
  {
   "cell_type": "markdown",
   "id": "a6b75174",
   "metadata": {
    "slideshow": {
     "slide_type": "fragment"
    }
   },
   "source": [
    "Luego podemos usar `rand` de la misma manera que random:"
   ]
  },
  {
   "cell_type": "code",
   "execution_count": 8,
   "id": "52f2812e",
   "metadata": {
    "slideshow": {
     "slide_type": "fragment"
    }
   },
   "outputs": [
    {
     "data": {
      "text/plain": [
       "0.24343988501397507"
      ]
     },
     "execution_count": 8,
     "metadata": {},
     "output_type": "execute_result"
    }
   ],
   "source": [
    "rand.random()"
   ]
  },
  {
   "cell_type": "markdown",
   "id": "f9ce1ea9",
   "metadata": {
    "slideshow": {
     "slide_type": "subslide"
    }
   },
   "source": [
    "## Instalar librerías"
   ]
  },
  {
   "cell_type": "markdown",
   "id": "e133eec6",
   "metadata": {
    "slideshow": {
     "slide_type": "fragment"
    }
   },
   "source": [
    "Hay algunas librerías incluidas en python como `random`, pero otras de ellas son librerías desarrolladas por otros que deben ser instaladas antes de usarse. Este es el caso de la mayoría de las librerías científicas.\n",
    "\n",
    "Para instalarlas debemos abrir un **terminal** (no desde python) y usar el programa **pip** incluido en la instalación de python. Además **en algunos casos se requieren permisos de administrador**.\n",
    "\n",
    "* En **Windows**: abrir cmd o powershell como administrador (buscar el programa, click derecho y abrir como administrador)\n",
    "\n",
    "* En Linux y Mac abrir terminal normalmente pero anteponer sudo al comando pip\n",
    "\n",
    "Luego se debe ejecutar:\n",
    "\n",
    "```\n",
    "pip install libreria\n",
    "```\n",
    "\n",
    "Por ejemplo para instalar la librería scipy (scientific python)\n",
    "\n",
    "```\n",
    "pip install scipy\n",
    "```"
   ]
  },
  {
   "cell_type": "markdown",
   "id": "6528dc6a",
   "metadata": {
    "slideshow": {
     "slide_type": "fragment"
    }
   },
   "source": [
    "En **Google Colab** y Jupyter se pueden ejecutar comandos de terminal usando un ! al comienzo, para instalar una librería en Colab usamos\n",
    "\n",
    "```\n",
    "!pip install libreria\n",
    "```\n",
    "\n",
    "Por ejemplo:"
   ]
  },
  {
   "cell_type": "code",
   "execution_count": 9,
   "id": "ce53bf10",
   "metadata": {
    "slideshow": {
     "slide_type": "fragment"
    }
   },
   "outputs": [
    {
     "name": "stdout",
     "output_type": "stream",
     "text": [
      "Requirement already satisfied: scipy in /home/felipe/miniconda3/envs/astro/lib/python3.9/site-packages (1.7.3)\r\n",
      "Requirement already satisfied: numpy<1.23.0,>=1.16.5 in /home/felipe/miniconda3/envs/astro/lib/python3.9/site-packages (from scipy) (1.21.5)\r\n"
     ]
    }
   ],
   "source": [
    "!pip install scipy"
   ]
  },
  {
   "cell_type": "markdown",
   "id": "2d543639",
   "metadata": {
    "slideshow": {
     "slide_type": "fragment"
    }
   },
   "source": [
    "Nota: En colab puede ser necesario reiniciar el kernel (entorno de ejecucion -> reiniciar entorno de ejecución) para hacer efectiva la instalación"
   ]
  },
  {
   "cell_type": "markdown",
   "id": "c8ac7411",
   "metadata": {
    "slideshow": {
     "slide_type": "slide"
    }
   },
   "source": [
    "# Numpy"
   ]
  },
  {
   "cell_type": "markdown",
   "id": "d8b9638d",
   "metadata": {
    "slideshow": {
     "slide_type": "fragment"
    }
   },
   "source": [
    "Numpy (numerical python) es una librería incluida dentro de la librería Scipy (scientific python), así que para instalarla basta instalar scipy (`pip install scipy`)"
   ]
  },
  {
   "cell_type": "markdown",
   "id": "c886c2ee",
   "metadata": {
    "slideshow": {
     "slide_type": "fragment"
    }
   },
   "source": [
    "Esta librería permite hacer cálculos numéricos de todo tipo y se compone de un conjunto enorme de herramientas y ordenadas en sub-librerías (módulos)\n",
    "\n",
    "Para importar numpy se suele usar el alias `np`:"
   ]
  },
  {
   "cell_type": "code",
   "execution_count": 10,
   "id": "6b6ee4cc",
   "metadata": {
    "slideshow": {
     "slide_type": "fragment"
    }
   },
   "outputs": [],
   "source": [
    "import numpy as np"
   ]
  },
  {
   "cell_type": "markdown",
   "id": "88f898bb",
   "metadata": {
    "slideshow": {
     "slide_type": "subslide"
    }
   },
   "source": [
    "## Arrays"
   ]
  },
  {
   "cell_type": "markdown",
   "id": "b14beeda",
   "metadata": {
    "slideshow": {
     "slide_type": "fragment"
    }
   },
   "source": [
    "Lo más impoortante en numpy es que incluye un **nuevo tipo de dato** llamado **array**. Un array es similar a una lista, pero se compone de solo un tipo de dato, en general números, y permite hacer cálculos matemáticos con ellos.\n",
    "\n",
    "Se pueden crear a partir de una lista:"
   ]
  },
  {
   "cell_type": "code",
   "execution_count": 11,
   "id": "2444fb7b",
   "metadata": {
    "slideshow": {
     "slide_type": "fragment"
    }
   },
   "outputs": [
    {
     "data": {
      "text/plain": [
       "array([1, 2, 3, 4])"
      ]
     },
     "execution_count": 11,
     "metadata": {},
     "output_type": "execute_result"
    }
   ],
   "source": [
    "x = np.array([1, 2, 3, 4])\n",
    "\n",
    "x"
   ]
  },
  {
   "cell_type": "markdown",
   "id": "7b2836f3",
   "metadata": {
    "slideshow": {
     "slide_type": "subslide"
    }
   },
   "source": [
    "Luego podemos hacer **cálculos como si x fuese un vector**"
   ]
  },
  {
   "cell_type": "code",
   "execution_count": 12,
   "id": "b7b135e0",
   "metadata": {
    "slideshow": {
     "slide_type": "fragment"
    }
   },
   "outputs": [
    {
     "data": {
      "text/plain": [
       "array([2, 4, 6, 8])"
      ]
     },
     "execution_count": 12,
     "metadata": {},
     "output_type": "execute_result"
    }
   ],
   "source": [
    "x * 2"
   ]
  },
  {
   "cell_type": "code",
   "execution_count": 13,
   "id": "fc0d6496",
   "metadata": {
    "slideshow": {
     "slide_type": "fragment"
    }
   },
   "outputs": [
    {
     "data": {
      "text/plain": [
       "array([4, 5, 6, 7])"
      ]
     },
     "execution_count": 13,
     "metadata": {},
     "output_type": "execute_result"
    }
   ],
   "source": [
    "x + 3"
   ]
  },
  {
   "cell_type": "code",
   "execution_count": 14,
   "id": "b113b478",
   "metadata": {
    "slideshow": {
     "slide_type": "fragment"
    }
   },
   "outputs": [
    {
     "data": {
      "text/plain": [
       "array([ 10,  40,  90, 160])"
      ]
     },
     "execution_count": 14,
     "metadata": {},
     "output_type": "execute_result"
    }
   ],
   "source": [
    "y = np.array([10, 20, 30, 40])\n",
    "\n",
    "x * y"
   ]
  },
  {
   "cell_type": "markdown",
   "id": "d349f326",
   "metadata": {
    "slideshow": {
     "slide_type": "subslide"
    }
   },
   "source": [
    "También podemos hacer **matrices con listas de listas**:"
   ]
  },
  {
   "cell_type": "code",
   "execution_count": 15,
   "id": "aa9bbb09",
   "metadata": {
    "slideshow": {
     "slide_type": "fragment"
    }
   },
   "outputs": [
    {
     "data": {
      "text/plain": [
       "array([[1, 2, 3],\n",
       "       [4, 5, 6],\n",
       "       [7, 8, 9]])"
      ]
     },
     "execution_count": 15,
     "metadata": {},
     "output_type": "execute_result"
    }
   ],
   "source": [
    "m = np.array([[1, 2, 3],\n",
    "              [4, 5, 6],\n",
    "              [7, 8, 9]])\n",
    "\n",
    "m"
   ]
  },
  {
   "cell_type": "code",
   "execution_count": 16,
   "id": "e721deb7",
   "metadata": {
    "slideshow": {
     "slide_type": "fragment"
    }
   },
   "outputs": [
    {
     "data": {
      "text/plain": [
       "array([[ 2,  4,  6],\n",
       "       [ 8, 10, 12],\n",
       "       [14, 16, 18]])"
      ]
     },
     "execution_count": 16,
     "metadata": {},
     "output_type": "execute_result"
    }
   ],
   "source": [
    "m * 2"
   ]
  },
  {
   "cell_type": "markdown",
   "id": "39fdeeff",
   "metadata": {
    "slideshow": {
     "slide_type": "subslide"
    }
   },
   "source": [
    "Las dimensiones de un array se pueden obtener con `array.shape`"
   ]
  },
  {
   "cell_type": "code",
   "execution_count": 17,
   "id": "0da38f80",
   "metadata": {
    "slideshow": {
     "slide_type": "fragment"
    }
   },
   "outputs": [
    {
     "data": {
      "text/plain": [
       "(4,)"
      ]
     },
     "execution_count": 17,
     "metadata": {},
     "output_type": "execute_result"
    }
   ],
   "source": [
    "x.shape"
   ]
  },
  {
   "cell_type": "code",
   "execution_count": 18,
   "id": "640c1a5b",
   "metadata": {
    "slideshow": {
     "slide_type": "fragment"
    }
   },
   "outputs": [
    {
     "data": {
      "text/plain": [
       "(3, 3)"
      ]
     },
     "execution_count": 18,
     "metadata": {},
     "output_type": "execute_result"
    }
   ],
   "source": [
    "m.shape"
   ]
  },
  {
   "cell_type": "markdown",
   "id": "6c478f6b",
   "metadata": {
    "slideshow": {
     "slide_type": "subslide"
    }
   },
   "source": [
    "Hay otras formas de crear arrays, por ejemplo:"
   ]
  },
  {
   "cell_type": "code",
   "execution_count": 19,
   "id": "c3482aef",
   "metadata": {
    "slideshow": {
     "slide_type": "fragment"
    }
   },
   "outputs": [
    {
     "data": {
      "text/plain": [
       "array([0, 1, 2, 3, 4, 5, 6, 7, 8, 9])"
      ]
     },
     "execution_count": 19,
     "metadata": {},
     "output_type": "execute_result"
    }
   ],
   "source": [
    "# np.arange(a, b, s) hace un rango entre a y b con paso s similar a range\n",
    "\n",
    "np.arange(0, 10, 1)"
   ]
  },
  {
   "cell_type": "code",
   "execution_count": 20,
   "id": "5bb9dedb",
   "metadata": {
    "slideshow": {
     "slide_type": "fragment"
    }
   },
   "outputs": [
    {
     "data": {
      "text/plain": [
       "array([ 0. ,  0.5,  1. ,  1.5,  2. ,  2.5,  3. ,  3.5,  4. ,  4.5,  5. ,\n",
       "        5.5,  6. ,  6.5,  7. ,  7.5,  8. ,  8.5,  9. ,  9.5, 10. ])"
      ]
     },
     "execution_count": 20,
     "metadata": {},
     "output_type": "execute_result"
    }
   ],
   "source": [
    "# np.linspace(a, b, n) hace un rango entre a y b dividido en n pasos\n",
    "\n",
    "np.linspace(0, 10, 21)"
   ]
  },
  {
   "cell_type": "code",
   "execution_count": 21,
   "id": "b5c8829a",
   "metadata": {
    "slideshow": {
     "slide_type": "fragment"
    }
   },
   "outputs": [
    {
     "data": {
      "text/plain": [
       "array([[0., 0., 0.],\n",
       "       [0., 0., 0.],\n",
       "       [0., 0., 0.],\n",
       "       [0., 0., 0.]])"
      ]
     },
     "execution_count": 21,
     "metadata": {},
     "output_type": "execute_result"
    }
   ],
   "source": [
    "# np.zeros(shape) crea un array de ceros con forma shape\n",
    "\n",
    "np.zeros((4, 3))"
   ]
  },
  {
   "cell_type": "markdown",
   "id": "13b1c227",
   "metadata": {
    "slideshow": {
     "slide_type": "subslide"
    }
   },
   "source": [
    "## funciones y constantes\n",
    "\n",
    "Además numpy incluye muchas funciones y constantes matemáticas:"
   ]
  },
  {
   "cell_type": "code",
   "execution_count": 22,
   "id": "67af3a20",
   "metadata": {
    "slideshow": {
     "slide_type": "fragment"
    }
   },
   "outputs": [
    {
     "data": {
      "text/plain": [
       "3.141592653589793"
      ]
     },
     "execution_count": 22,
     "metadata": {},
     "output_type": "execute_result"
    }
   ],
   "source": [
    "np.pi"
   ]
  },
  {
   "cell_type": "code",
   "execution_count": 23,
   "id": "6a073a12",
   "metadata": {
    "slideshow": {
     "slide_type": "fragment"
    }
   },
   "outputs": [
    {
     "data": {
      "text/plain": [
       "2.718281828459045"
      ]
     },
     "execution_count": 23,
     "metadata": {},
     "output_type": "execute_result"
    }
   ],
   "source": [
    "np.e"
   ]
  },
  {
   "cell_type": "code",
   "execution_count": 24,
   "id": "f4b25e90",
   "metadata": {
    "slideshow": {
     "slide_type": "fragment"
    }
   },
   "outputs": [
    {
     "data": {
      "text/plain": [
       "2.0"
      ]
     },
     "execution_count": 24,
     "metadata": {},
     "output_type": "execute_result"
    }
   ],
   "source": [
    "np.sqrt(4)"
   ]
  },
  {
   "cell_type": "code",
   "execution_count": 25,
   "id": "7a9694f8",
   "metadata": {
    "scrolled": true,
    "slideshow": {
     "slide_type": "fragment"
    }
   },
   "outputs": [
    {
     "data": {
      "text/plain": [
       "1.0"
      ]
     },
     "execution_count": 25,
     "metadata": {},
     "output_type": "execute_result"
    }
   ],
   "source": [
    "np.log(np.e)"
   ]
  },
  {
   "cell_type": "code",
   "execution_count": 26,
   "id": "8ccab7e1",
   "metadata": {
    "slideshow": {
     "slide_type": "fragment"
    }
   },
   "outputs": [
    {
     "data": {
      "text/plain": [
       "1.0"
      ]
     },
     "execution_count": 26,
     "metadata": {},
     "output_type": "execute_result"
    }
   ],
   "source": [
    "np.log10(10)"
   ]
  },
  {
   "cell_type": "code",
   "execution_count": 27,
   "id": "b0b6516e",
   "metadata": {
    "slideshow": {
     "slide_type": "fragment"
    }
   },
   "outputs": [
    {
     "data": {
      "text/plain": [
       "7.38905609893065"
      ]
     },
     "execution_count": 27,
     "metadata": {},
     "output_type": "execute_result"
    }
   ],
   "source": [
    "np.exp(2)"
   ]
  },
  {
   "cell_type": "code",
   "execution_count": 28,
   "id": "f5957ab5",
   "metadata": {
    "slideshow": {
     "slide_type": "fragment"
    }
   },
   "outputs": [
    {
     "data": {
      "text/plain": [
       "1.0"
      ]
     },
     "execution_count": 28,
     "metadata": {},
     "output_type": "execute_result"
    }
   ],
   "source": [
    "np.sin(np.pi / 2)"
   ]
  },
  {
   "cell_type": "code",
   "execution_count": 29,
   "id": "13c011e7",
   "metadata": {
    "slideshow": {
     "slide_type": "fragment"
    }
   },
   "outputs": [
    {
     "data": {
      "text/plain": [
       "6.123233995736766e-17"
      ]
     },
     "execution_count": 29,
     "metadata": {},
     "output_type": "execute_result"
    }
   ],
   "source": [
    "np.cos(np.pi / 2)"
   ]
  },
  {
   "cell_type": "markdown",
   "id": "a438a48c",
   "metadata": {
    "slideshow": {
     "slide_type": "subslide"
    }
   },
   "source": [
    "Estas pueden ser usadas tanto en arrays como en números;"
   ]
  },
  {
   "cell_type": "code",
   "execution_count": 30,
   "id": "d6c2ecc1",
   "metadata": {
    "slideshow": {
     "slide_type": "fragment"
    }
   },
   "outputs": [
    {
     "data": {
      "text/plain": [
       "array([ 0.        ,  0.84147098,  0.90929743,  0.14112001, -0.7568025 ])"
      ]
     },
     "execution_count": 30,
     "metadata": {},
     "output_type": "execute_result"
    }
   ],
   "source": [
    "x = np.array([0, 1, 2, 3, 4])\n",
    "\n",
    "np.sin(x)"
   ]
  },
  {
   "cell_type": "markdown",
   "id": "41495d89",
   "metadata": {
    "slideshow": {
     "slide_type": "subslide"
    }
   },
   "source": [
    "También encontramos funciones estadísticas"
   ]
  },
  {
   "cell_type": "code",
   "execution_count": 31,
   "id": "6f1c0e24",
   "metadata": {
    "slideshow": {
     "slide_type": "fragment"
    }
   },
   "outputs": [
    {
     "data": {
      "text/plain": [
       "10"
      ]
     },
     "execution_count": 31,
     "metadata": {},
     "output_type": "execute_result"
    }
   ],
   "source": [
    "# suma un array\n",
    "\n",
    "np.sum(x)"
   ]
  },
  {
   "cell_type": "code",
   "execution_count": 32,
   "id": "4b3b6f2c",
   "metadata": {
    "slideshow": {
     "slide_type": "fragment"
    }
   },
   "outputs": [
    {
     "data": {
      "text/plain": [
       "2.0"
      ]
     },
     "execution_count": 32,
     "metadata": {},
     "output_type": "execute_result"
    }
   ],
   "source": [
    "# media\n",
    "\n",
    "np.mean(x)"
   ]
  },
  {
   "cell_type": "code",
   "execution_count": 33,
   "id": "fccb5029",
   "metadata": {
    "slideshow": {
     "slide_type": "fragment"
    }
   },
   "outputs": [
    {
     "data": {
      "text/plain": [
       "1.4142135623730951"
      ]
     },
     "execution_count": 33,
     "metadata": {},
     "output_type": "execute_result"
    }
   ],
   "source": [
    "# desviación estándar\n",
    "\n",
    "np.std(x)"
   ]
  },
  {
   "cell_type": "markdown",
   "id": "b519d65d",
   "metadata": {
    "slideshow": {
     "slide_type": "subslide"
    }
   },
   "source": [
    "## Funciones usando numpy\n",
    "\n",
    "Podemos usar **arrays en cualquier función** definida en python por nosotros mientras **solo use funciones de numpy** (o compatibles) y **operaciones aritméticas**\n",
    "\n",
    "Ej:"
   ]
  },
  {
   "cell_type": "code",
   "execution_count": 34,
   "id": "72d14fd5",
   "metadata": {
    "slideshow": {
     "slide_type": "fragment"
    }
   },
   "outputs": [],
   "source": [
    "def onda(x, a, b, c):\n",
    "    y = a * np.sin(b * x) + c\n",
    "    return y"
   ]
  },
  {
   "cell_type": "code",
   "execution_count": 35,
   "id": "b0fb77d5",
   "metadata": {
    "slideshow": {
     "slide_type": "fragment"
    }
   },
   "outputs": [
    {
     "data": {
      "text/plain": [
       "array([ 0.        ,  0.10083842,  0.20064886,  0.2984138 ,  0.39313661,\n",
       "        0.48385164,  0.56963411,  0.64960951,  0.72296256,  0.78894546,\n",
       "        0.84688556,  0.8961922 ,  0.93636273,  0.96698762,  0.98775469,\n",
       "        0.99845223,  0.99897117,  0.98930624,  0.96955595,  0.93992165,\n",
       "        0.90070545,  0.85230712,  0.79522006,  0.73002623,  0.65739025,\n",
       "        0.57805259,  0.49282204,  0.40256749,  0.30820902,  0.21070855,\n",
       "        0.11106004,  0.01027934, -0.09060615, -0.19056796, -0.28858706,\n",
       "       -0.38366419, -0.47483011, -0.56115544, -0.64176014, -0.7158225 ,\n",
       "       -0.7825875 , -0.84137452, -0.89158426, -0.93270486, -0.96431712,\n",
       "       -0.98609877, -0.99782778, -0.99938456, -0.99075324, -0.97202182,\n",
       "       -0.94338126, -0.90512352, -0.85763861, -0.80141062, -0.73701276,\n",
       "       -0.66510151, -0.58640998, -0.50174037, -0.41195583, -0.31797166,\n",
       "       -0.22074597, -0.12126992, -0.0205576 ,  0.0803643 ,  0.18046693,\n",
       "        0.27872982,  0.37415123,  0.46575841,  0.55261747,  0.63384295,\n",
       "        0.7086068 ,  0.77614685,  0.83577457,  0.8868821 ,  0.92894843,\n",
       "        0.96154471,  0.98433866,  0.99709789,  0.99969234,  0.99209556,\n",
       "        0.97438499,  0.94674118,  0.90944594,  0.86287948,  0.8075165 ,\n",
       "        0.74392141,  0.6727425 ,  0.59470541,  0.51060568,  0.42130064,\n",
       "        0.32770071,  0.23076008,  0.13146699,  0.03083368, -0.07011396,\n",
       "       -0.17034683, -0.26884313, -0.36459873, -0.45663749, -0.54402111])"
      ]
     },
     "execution_count": 35,
     "metadata": {},
     "output_type": "execute_result"
    }
   ],
   "source": [
    "x = np.linspace(0, 10, 100)\n",
    "\n",
    "onda(x, 1, 1, 0)"
   ]
  },
  {
   "cell_type": "markdown",
   "id": "5d57710c",
   "metadata": {
    "slideshow": {
     "slide_type": "subslide"
    }
   },
   "source": [
    "## Derivadas numéricas"
   ]
  },
  {
   "cell_type": "markdown",
   "id": "17a039c7",
   "metadata": {
    "slideshow": {
     "slide_type": "fragment"
    }
   },
   "source": [
    "Podemos calcular la derivada numérica (discreta / diferencias finitas) sobre un conjunto de datos podemos usar la función `np.gradient`\n",
    "\n",
    "\n",
    "Por ejemplo:\n",
    "```\n",
    "z = np.gradient(y, z)\n",
    "```\n",
    "\n",
    "Equivale a $z = \\frac{dy}{dx}$ donde `x`, `y` y `z` son arrays"
   ]
  },
  {
   "cell_type": "code",
   "execution_count": 36,
   "id": "09a6744b",
   "metadata": {
    "slideshow": {
     "slide_type": "fragment"
    }
   },
   "outputs": [],
   "source": [
    "x = np.linspace(0, 10, 100)\n",
    "\n",
    "y = np.sin(x)\n",
    "\n",
    "z = np.gradient(y, x)"
   ]
  },
  {
   "cell_type": "code",
   "execution_count": 37,
   "id": "9949fd63",
   "metadata": {
    "slideshow": {
     "slide_type": "fragment"
    }
   },
   "outputs": [
    {
     "data": {
      "text/plain": [
       "array([ 0.99830036,  0.99321184,  0.97799815,  0.95281439,  0.91791729,\n",
       "        0.8736626 ,  0.82050147,  0.75897585,  0.68971295,  0.61341886,\n",
       "        0.53087135,  0.44291195,  0.35043734,  0.25439024,  0.15574979,\n",
       "        0.05552157, -0.04527265, -0.14560535, -0.2444537 , -0.34080999,\n",
       "       -0.43369194, -0.52215268, -0.6052904 , -0.68225756, -0.75226954,\n",
       "       -0.81461261, -0.86865122, -0.91383447, -0.94970177, -0.97588745,\n",
       "       -0.99212457, -0.99824762, -0.99419416, -0.98000551, -0.95582633,\n",
       "       -0.92190311, -0.87858166, -0.82630363, -0.76560196, -0.69709546,\n",
       "       -0.62148251, -0.53953394, -0.45208516, -0.36002765, -0.2642999 ,\n",
       "       -0.16587777, -0.06576463,  0.03501895,  0.13544553,  0.23449132,\n",
       "        0.33114663,  0.4244261 ,  0.51337882,  0.59709797,  0.67473008,\n",
       "        0.74548374,  0.80863767,  0.86354805,  0.9096551 ,  0.94648879,\n",
       "        0.97367362,  0.99093247,  0.99808939,  0.99507142,  0.98190932,\n",
       "        0.95873728,  0.92579151,  0.88340789,  0.83201848,  0.77214717,\n",
       "        0.7044043 ,  0.62948048,  0.54813951,  0.46121059,  0.36957993,\n",
       "        0.27418163,  0.17598823,  0.07600073, -0.02476154, -0.12527139,\n",
       "       -0.22450417, -0.32144828, -0.41511542, -0.50455072, -0.58884245,\n",
       "       -0.6671313 , -0.73861917, -0.80257728, -0.85835363, -0.9053796 ,\n",
       "       -0.9431758 , -0.97135691, -0.98963566, -0.9978257 , -0.99584353,\n",
       "       -0.98370937, -0.96154691, -0.92958209, -0.88814077, -0.86509787])"
      ]
     },
     "execution_count": 37,
     "metadata": {},
     "output_type": "execute_result"
    }
   ],
   "source": [
    "z"
   ]
  },
  {
   "cell_type": "markdown",
   "id": "919cc0de",
   "metadata": {
    "slideshow": {
     "slide_type": "subslide"
    }
   },
   "source": [
    "## Y mucho más\n",
    "\n",
    "Numpy es una librería muy grande y nos permitirá resolver casi cualquier problema matemático que tengamos\n",
    "\n",
    "Tiene una muy buena documentación, recomiendo ver la [guía rápida](https://numpy.org/doc/stable/user/absolute_beginners.html) y la [referencia de completa](https://numpy.org/doc/stable/reference/index.html)"
   ]
  },
  {
   "cell_type": "markdown",
   "id": "ce1d2ee5",
   "metadata": {
    "slideshow": {
     "slide_type": "slide"
    }
   },
   "source": [
    "# Gráficos con Matplotlib"
   ]
  },
  {
   "cell_type": "markdown",
   "id": "400a60c4",
   "metadata": {
    "slideshow": {
     "slide_type": "fragment"
    }
   },
   "source": [
    "Matplotlib es una librería para realizar todo tipo de figuras y gráficos, tiene muy buena compatibilidad con numpy y es fácil de usar.\n",
    "\n",
    "Para instalar:\n",
    "\n",
    "```\n",
    "pip install matplotlib\n",
    "```"
   ]
  },
  {
   "cell_type": "markdown",
   "id": "96f699f5",
   "metadata": {
    "slideshow": {
     "slide_type": "fragment"
    }
   },
   "source": [
    "Tiene muchos módulos (conjuntos de herramientas), pero el más común es pyplot que se importa con el alias plt:"
   ]
  },
  {
   "cell_type": "code",
   "execution_count": 38,
   "id": "c2da2653",
   "metadata": {
    "slideshow": {
     "slide_type": "fragment"
    }
   },
   "outputs": [],
   "source": [
    "from matplotlib import pyplot as plt"
   ]
  },
  {
   "cell_type": "markdown",
   "id": "cab48954",
   "metadata": {
    "slideshow": {
     "slide_type": "subslide"
    }
   },
   "source": [
    "Para crear un gráfico hacemos lo siguiente"
   ]
  },
  {
   "cell_type": "code",
   "execution_count": 39,
   "id": "c7339ad9",
   "metadata": {
    "slideshow": {
     "slide_type": "fragment"
    }
   },
   "outputs": [],
   "source": [
    "x = np.linspace(0, 10, 100)\n",
    "\n",
    "y = np.sin(x)"
   ]
  },
  {
   "cell_type": "code",
   "execution_count": 40,
   "id": "d7159ff3",
   "metadata": {
    "slideshow": {
     "slide_type": "fragment"
    }
   },
   "outputs": [
    {
     "data": {
      "image/png": "[encoded data removed]",
      "text/plain": [
       "<Figure size 432x288 with 1 Axes>"
      ]
     },
     "metadata": {
      "needs_background": "light"
     },
     "output_type": "display_data"
    }
   ],
   "source": [
    "plt.plot(x, y)\n",
    "plt.show()"
   ]
  },
  {
   "cell_type": "markdown",
   "id": "2a91b9cc",
   "metadata": {
    "slideshow": {
     "slide_type": "subslide"
    }
   },
   "source": [
    "Podemos añadir más gráficos juntos"
   ]
  },
  {
   "cell_type": "code",
   "execution_count": 41,
   "id": "981fb4af",
   "metadata": {
    "slideshow": {
     "slide_type": "fragment"
    }
   },
   "outputs": [],
   "source": [
    "z = np.gradient(y, x)"
   ]
  },
  {
   "cell_type": "code",
   "execution_count": 42,
   "id": "682315e5",
   "metadata": {
    "slideshow": {
     "slide_type": "fragment"
    }
   },
   "outputs": [
    {
     "data": {
      "image/png": "[encoded data removed]",
      "text/plain": [
       "<Figure size 432x288 with 1 Axes>"
      ]
     },
     "metadata": {
      "needs_background": "light"
     },
     "output_type": "display_data"
    }
   ],
   "source": [
    "plt.plot(x, y)\n",
    "plt.plot(x, z)\n",
    "plt.show()"
   ]
  },
  {
   "cell_type": "markdown",
   "id": "cf60cb00",
   "metadata": {
    "slideshow": {
     "slide_type": "subslide"
    }
   },
   "source": [
    "Podemos estilizarlo facilmente:"
   ]
  },
  {
   "cell_type": "code",
   "execution_count": 43,
   "id": "aae7869e",
   "metadata": {
    "slideshow": {
     "slide_type": "fragment"
    }
   },
   "outputs": [
    {
     "data": {
      "image/png": "[encoded data removed]",
      "text/plain": [
       "<Figure size 432x288 with 1 Axes>"
      ]
     },
     "metadata": {
      "needs_background": "light"
     },
     "output_type": "display_data"
    }
   ],
   "source": [
    "#              nombres para las curvas\n",
    "plt.plot(x, y, label=\"sin(x)\")\n",
    "plt.plot(x, z, label=\"derivada\")\n",
    "\n",
    "# titulo\n",
    "plt.title(\"Nombre figura\")\n",
    "\n",
    "# nombres de los ejes\n",
    "plt.xlabel(\"x\")\n",
    "plt.ylabel(\"y\")\n",
    "\n",
    "# leyenda\n",
    "plt.legend()\n",
    "\n",
    "plt.show()"
   ]
  },
  {
   "cell_type": "markdown",
   "id": "1b227800",
   "metadata": {
    "slideshow": {
     "slide_type": "subslide"
    }
   },
   "source": [
    "También podemos cambiar el tamaño del texto, también el texto admite matemática en LaTex con $ anteponiendo una r a las comillas del string"
   ]
  },
  {
   "cell_type": "code",
   "execution_count": 44,
   "id": "88012d9c",
   "metadata": {
    "slideshow": {
     "slide_type": "fragment"
    }
   },
   "outputs": [
    {
     "data": {
      "image/png": "[encoded data removed]",
      "text/plain": [
       "<Figure size 432x288 with 1 Axes>"
      ]
     },
     "metadata": {
      "needs_background": "light"
     },
     "output_type": "display_data"
    }
   ],
   "source": [
    "#              nombres para las curvas\n",
    "plt.plot(x, y, label=r\"$sin(x)$\")\n",
    "plt.plot(x, z, label=r\"$\\frac{d sin(x)}{dx}$\")\n",
    "\n",
    "# titulo\n",
    "plt.title(\"Nombre figura\", fontsize=16)\n",
    "\n",
    "# nombres de los ejes\n",
    "plt.xlabel(\"x\", fontsize=12)\n",
    "plt.ylabel(\"y\", fontsize=12)\n",
    "\n",
    "# leyenda               posicion\n",
    "plt.legend(fontsize=14, loc=1)\n",
    "\n",
    "plt.show()"
   ]
  },
  {
   "cell_type": "markdown",
   "id": "d232dec8",
   "metadata": {
    "slideshow": {
     "slide_type": "subslide"
    }
   },
   "source": [
    "Para cambiar el tamaño de todo el grafico debemos crear una figura"
   ]
  },
  {
   "cell_type": "code",
   "execution_count": 45,
   "id": "7e22d799",
   "metadata": {
    "slideshow": {
     "slide_type": "fragment"
    }
   },
   "outputs": [
    {
     "data": {
      "image/png": "[encoded data removed]",
      "text/plain": [
       "<Figure size 720x432 with 1 Axes>"
      ]
     },
     "metadata": {
      "needs_background": "light"
     },
     "output_type": "display_data"
    }
   ],
   "source": [
    "# figura         tamaño\n",
    "fig = plt.figure(figsize=(10, 6))\n",
    "\n",
    "#              nombres para las curvas\n",
    "plt.plot(x, y, label=\"sin(x)\")\n",
    "plt.plot(x, z, label=r\"$\\frac{d sin(x)}{dx}$\")\n",
    "\n",
    "# titulo\n",
    "plt.title(\"Nombre figura\", fontsize=16)\n",
    "\n",
    "# nombres de los ejes\n",
    "plt.xlabel(\"x\", fontsize=12)\n",
    "plt.ylabel(\"y\", fontsize=12)\n",
    "\n",
    "# leyenda               posicion\n",
    "plt.legend(fontsize=14, loc=1)\n",
    "\n",
    "plt.show()"
   ]
  },
  {
   "cell_type": "markdown",
   "id": "87796440",
   "metadata": {
    "slideshow": {
     "slide_type": "subslide"
    }
   },
   "source": [
    "También podemos estilizar las líneas"
   ]
  },
  {
   "cell_type": "code",
   "execution_count": 46,
   "id": "d392267b",
   "metadata": {
    "slideshow": {
     "slide_type": "fragment"
    }
   },
   "outputs": [
    {
     "data": {
      "image/png": "[encoded data removed]",
      "text/plain": [
       "<Figure size 720x432 with 1 Axes>"
      ]
     },
     "metadata": {
      "needs_background": "light"
     },
     "output_type": "display_data"
    }
   ],
   "source": [
    "# figura         tamaño\n",
    "fig = plt.figure(figsize=(10, 6))\n",
    "\n",
    "#             estilos color-tipo\n",
    "plt.plot(x, y, 'k-.', label=\"sin(x)\")\n",
    "plt.plot(x, z, 'r--', label=r\"$\\frac{d sin(x)}{dx}$\")\n",
    "\n",
    "# titulo\n",
    "plt.title(\"Nombre figura\", fontsize=16)\n",
    "\n",
    "# nombres de los ejes\n",
    "plt.xlabel(\"x\", fontsize=12)\n",
    "plt.ylabel(\"y\", fontsize=12)\n",
    "\n",
    "# leyenda               posicion\n",
    "plt.legend(fontsize=14, loc=1)\n",
    "\n",
    "plt.show()"
   ]
  },
  {
   "cell_type": "markdown",
   "id": "054bca8f",
   "metadata": {
    "slideshow": {
     "slide_type": "subslide"
    }
   },
   "source": [
    "Podemos mostrar varios graficos en la misma figura con subplot\n",
    "\n",
    "se usa `plt.subplot(abn)` donde `a` es el número de gráficos en vertical, `b` en horizontal y `n` indica el número del gráfico actual partiendo de 1.\n",
    "\n",
    "Por ejemplo `plt.subplot(221)` es el primer gráfico de una grilla de 2x2"
   ]
  },
  {
   "cell_type": "code",
   "execution_count": 47,
   "id": "06e4353e",
   "metadata": {
    "scrolled": false,
    "slideshow": {
     "slide_type": "fragment"
    }
   },
   "outputs": [
    {
     "data": {
      "image/png": "[encoded data removed]",
      "text/plain": [
       "<Figure size 1008x432 with 2 Axes>"
      ]
     },
     "metadata": {
      "needs_background": "light"
     },
     "output_type": "display_data"
    }
   ],
   "source": [
    "\n",
    "fig = plt.figure(figsize=(14, 6))\n",
    "\n",
    "# grafico 1\n",
    "plt.subplot(121)\n",
    "plt.plot(x, y, label=\"sin(x)\")\n",
    "plt.plot(x, z, label=\"derivada\")\n",
    "\n",
    "plt.title(\"Nombre grafico 1\", fontsize=16)\n",
    "plt.xlabel(\"x\", fontsize=12)\n",
    "plt.ylabel(\"y\", fontsize=12)\n",
    "\n",
    "plt.legend(fontsize=14, loc=1)\n",
    "\n",
    "# grafico 2\n",
    "plt.subplot(122)\n",
    "plt.plot(x, x**2, label=\"$x^2$\")\n",
    "plt.plot(x, x**3, label=\"$x^3$\")\n",
    "\n",
    "plt.title(\"Nombre grafico 2\", fontsize=16)\n",
    "plt.xlabel(\"x\", fontsize=12)\n",
    "plt.ylabel(\"y\", fontsize=12)\n",
    "\n",
    "plt.legend(fontsize=14, loc=1)\n",
    "\n",
    "plt.show()"
   ]
  },
  {
   "cell_type": "markdown",
   "id": "675398c3",
   "metadata": {
    "slideshow": {
     "slide_type": "subslide"
    }
   },
   "source": [
    "también podemos graficar datos experimentales en un *scatter*"
   ]
  },
  {
   "cell_type": "code",
   "execution_count": 48,
   "id": "722ae126",
   "metadata": {
    "slideshow": {
     "slide_type": "fragment"
    }
   },
   "outputs": [],
   "source": [
    "# solo simulo unos datos experimentales\n",
    "\n",
    "datos_x = np.arange(0, 10, 0.5)\n",
    "datos_y = 3.162 * datos_x - 4.1\n",
    "\n",
    "# añado un error aleatorio\n",
    "datos_y += np.random.random(len(datos_y)) * 8"
   ]
  },
  {
   "cell_type": "code",
   "execution_count": 49,
   "id": "2b255e9c",
   "metadata": {
    "slideshow": {
     "slide_type": "fragment"
    }
   },
   "outputs": [
    {
     "data": {
      "image/png": "[encoded data removed]",
      "text/plain": [
       "<Figure size 432x288 with 1 Axes>"
      ]
     },
     "metadata": {
      "needs_background": "light"
     },
     "output_type": "display_data"
    }
   ],
   "source": [
    "plt.scatter(datos_x, datos_y)\n",
    "plt.show()"
   ]
  },
  {
   "cell_type": "markdown",
   "id": "c3bca52b",
   "metadata": {
    "slideshow": {
     "slide_type": "subslide"
    }
   },
   "source": [
    "Para más información ver la [documentación](https://matplotlib.org/stable/index.html)"
   ]
  },
  {
   "cell_type": "markdown",
   "id": "ac580119",
   "metadata": {
    "slideshow": {
     "slide_type": "slide"
    }
   },
   "source": [
    "# Scipy"
   ]
  },
  {
   "cell_type": "markdown",
   "id": "e1013c64",
   "metadata": {
    "slideshow": {
     "slide_type": "fragment"
    }
   },
   "source": [
    "Scipy incluye muchas herramientas científicas avanzadas"
   ]
  },
  {
   "cell_type": "markdown",
   "id": "c07b760b",
   "metadata": {
    "slideshow": {
     "slide_type": "subslide"
    }
   },
   "source": [
    "## Ajustar una recta\n",
    "\n",
    "Para hacer una regresión lineal podemos usar linregress que se encuentra en el módulo de estadísticas (stats)"
   ]
  },
  {
   "cell_type": "code",
   "execution_count": 50,
   "id": "2ea701ca",
   "metadata": {
    "slideshow": {
     "slide_type": "fragment"
    }
   },
   "outputs": [],
   "source": [
    "from scipy.stats import linregress"
   ]
  },
  {
   "cell_type": "code",
   "execution_count": 51,
   "id": "c8fc4edf",
   "metadata": {
    "slideshow": {
     "slide_type": "fragment"
    }
   },
   "outputs": [],
   "source": [
    "regresion = linregress(datos_x, datos_y)"
   ]
  },
  {
   "cell_type": "code",
   "execution_count": 52,
   "id": "9d648ee5",
   "metadata": {
    "slideshow": {
     "slide_type": "fragment"
    }
   },
   "outputs": [
    {
     "data": {
      "text/plain": [
       "LinregressResult(slope=3.0485373471833177, intercept=1.2474992984319933, rvalue=0.9700480405523225, pvalue=1.6529054790996595e-12, stderr=0.17993392454871218, intercept_stderr=0.9998078346152892)"
      ]
     },
     "execution_count": 52,
     "metadata": {},
     "output_type": "execute_result"
    }
   ],
   "source": [
    "regresion"
   ]
  },
  {
   "cell_type": "code",
   "execution_count": 53,
   "id": "281dc001",
   "metadata": {
    "slideshow": {
     "slide_type": "fragment"
    }
   },
   "outputs": [
    {
     "name": "stdout",
     "output_type": "stream",
     "text": [
      "y = 3.0485373471833177 * x + 1.2474992984319933\n"
     ]
    }
   ],
   "source": [
    "print(\"y =\", regresion.slope, \"* x +\", regresion.intercept)"
   ]
  },
  {
   "cell_type": "markdown",
   "id": "80b924ff",
   "metadata": {
    "slideshow": {
     "slide_type": "subslide"
    }
   },
   "source": [
    "Graficamos la recta"
   ]
  },
  {
   "cell_type": "code",
   "execution_count": 54,
   "id": "78170bd4",
   "metadata": {
    "slideshow": {
     "slide_type": "fragment"
    }
   },
   "outputs": [
    {
     "data": {
      "image/png": "[encoded data removed]",
      "text/plain": [
       "<Figure size 432x288 with 1 Axes>"
      ]
     },
     "metadata": {
      "needs_background": "light"
     },
     "output_type": "display_data"
    }
   ],
   "source": [
    "plt.scatter(datos_x, datos_y, label=\"datos\")\n",
    "\n",
    "plt.plot(datos_x, regresion.slope * datos_x + regresion.intercept, \"k--\", label=\"ajuste\")\n",
    "\n",
    "plt.legend(fontsize=14, loc=0)\n",
    "plt.show()"
   ]
  },
  {
   "cell_type": "markdown",
   "id": "ca3d6887",
   "metadata": {
    "slideshow": {
     "slide_type": "subslide"
    }
   },
   "source": [
    "## Integrar"
   ]
  },
  {
   "cell_type": "markdown",
   "id": "cc7ba1bc",
   "metadata": {
    "slideshow": {
     "slide_type": "subslide"
    }
   },
   "source": [
    "### Integrar una función"
   ]
  },
  {
   "cell_type": "markdown",
   "id": "77834f95",
   "metadata": {
    "slideshow": {
     "slide_type": "fragment"
    }
   },
   "source": [
    "Podemos integrar una función entre `a` y `b` con `quad(f, a, b)`, retorna un número correspondiente al valor de la integral y el error:"
   ]
  },
  {
   "cell_type": "code",
   "execution_count": 55,
   "id": "df1037a4",
   "metadata": {
    "slideshow": {
     "slide_type": "fragment"
    }
   },
   "outputs": [],
   "source": [
    "from scipy.integrate import quad"
   ]
  },
  {
   "cell_type": "code",
   "execution_count": 56,
   "id": "d2caba02",
   "metadata": {
    "slideshow": {
     "slide_type": "fragment"
    }
   },
   "outputs": [
    {
     "data": {
      "text/plain": [
       "1.5707963267948966"
      ]
     },
     "execution_count": 56,
     "metadata": {},
     "output_type": "execute_result"
    }
   ],
   "source": [
    "# por ejemplo integrar sin(x)^2 entre 0 y pi\n",
    "def sin2(x):\n",
    "    return np.sin(x)**2\n",
    "\n",
    "integral, error = quad(sin2, 0, np.pi)\n",
    "integral"
   ]
  },
  {
   "cell_type": "markdown",
   "id": "386fbf8d",
   "metadata": {
    "slideshow": {
     "slide_type": "subslide"
    }
   },
   "source": [
    "### Integrar datos"
   ]
  },
  {
   "cell_type": "markdown",
   "id": "d33853bf",
   "metadata": {
    "slideshow": {
     "slide_type": "fragment"
    }
   },
   "source": [
    "Es común tener datos `x`, `y` y querer integrar la curva `y(x)`, para esto podemos usar `trapezoid(y, x)` que usa la regla del trapezoide"
   ]
  },
  {
   "cell_type": "code",
   "execution_count": 57,
   "id": "74ace3de",
   "metadata": {
    "slideshow": {
     "slide_type": "fragment"
    }
   },
   "outputs": [],
   "source": [
    "from scipy.integrate import trapezoid"
   ]
  },
  {
   "cell_type": "code",
   "execution_count": 58,
   "id": "20fe848f",
   "metadata": {
    "slideshow": {
     "slide_type": "fragment"
    }
   },
   "outputs": [
    {
     "data": {
      "text/plain": [
       "1.5707963267948963"
      ]
     },
     "execution_count": 58,
     "metadata": {},
     "output_type": "execute_result"
    }
   ],
   "source": [
    "x = np.linspace(0, np.pi, 100)\n",
    "y = sin2(x)\n",
    "\n",
    "trapezoid(y, x)"
   ]
  },
  {
   "cell_type": "markdown",
   "id": "a7d61c7c",
   "metadata": {
    "slideshow": {
     "slide_type": "slide"
    }
   },
   "source": [
    "# Pandas"
   ]
  },
  {
   "cell_type": "markdown",
   "id": "c0eafd2c",
   "metadata": {
    "slideshow": {
     "slide_type": "fragment"
    }
   },
   "source": [
    "La librería Pandas sirve para trabajar con tablas y bases de datos, permite hacer operaciones similares a tablas Excel o bases SQL.\n",
    "\n",
    "Se instala con\n",
    "\n",
    "```\n",
    "pip install pandas\n",
    "```\n",
    "\n",
    "Se importa con el alias pd"
   ]
  },
  {
   "cell_type": "code",
   "execution_count": 59,
   "id": "c4fe3648",
   "metadata": {
    "slideshow": {
     "slide_type": "fragment"
    }
   },
   "outputs": [],
   "source": [
    "import pandas as pd"
   ]
  },
  {
   "cell_type": "markdown",
   "id": "21052d1c",
   "metadata": {
    "slideshow": {
     "slide_type": "subslide"
    }
   },
   "source": [
    "## Crear tablas"
   ]
  },
  {
   "cell_type": "markdown",
   "id": "48cbf0e1",
   "metadata": {
    "slideshow": {
     "slide_type": "fragment"
    }
   },
   "source": [
    "Podemos crear una tabla con el objeto `DataFrame`"
   ]
  },
  {
   "cell_type": "code",
   "execution_count": 60,
   "id": "09c699e0",
   "metadata": {
    "slideshow": {
     "slide_type": "fragment"
    }
   },
   "outputs": [],
   "source": [
    "tabla = pd.DataFrame()"
   ]
  },
  {
   "cell_type": "markdown",
   "id": "f3241fde",
   "metadata": {
    "slideshow": {
     "slide_type": "fragment"
    }
   },
   "source": [
    "Podemos añadir columnas a la tabla usando un string como encabezado y un array como datos"
   ]
  },
  {
   "cell_type": "code",
   "execution_count": 61,
   "id": "9a7cbb37",
   "metadata": {
    "slideshow": {
     "slide_type": "fragment"
    }
   },
   "outputs": [],
   "source": [
    "x = np.linspace(0, 10, 101)\n",
    "y = 2 * x**2 + 5 "
   ]
  },
  {
   "cell_type": "code",
   "execution_count": 62,
   "id": "f52ddfa0",
   "metadata": {
    "slideshow": {
     "slide_type": "fragment"
    }
   },
   "outputs": [],
   "source": [
    "tabla[\"x\"] = x\n",
    "tabla[\"y\"] = y"
   ]
  },
  {
   "cell_type": "code",
   "execution_count": 63,
   "id": "942d31a1",
   "metadata": {
    "slideshow": {
     "slide_type": "fragment"
    }
   },
   "outputs": [
    {
     "data": {
      "text/html": [
       "<div>\n",
       "<style scoped>\n",
       "    .dataframe tbody tr th:only-of-type {\n",
       "        vertical-align: middle;\n",
       "    }\n",
       "\n",
       "    .dataframe tbody tr th {\n",
       "        vertical-align: top;\n",
       "    }\n",
       "\n",
       "    .dataframe thead th {\n",
       "        text-align: right;\n",
       "    }\n",
       "</style>\n",
       "<table border=\"1\" class=\"dataframe\">\n",
       "  <thead>\n",
       "    <tr style=\"text-align: right;\">\n",
       "      <th></th>\n",
       "      <th>x</th>\n",
       "      <th>y</th>\n",
       "    </tr>\n",
       "  </thead>\n",
       "  <tbody>\n",
       "    <tr>\n",
       "      <th>0</th>\n",
       "      <td>0.0</td>\n",
       "      <td>5.00</td>\n",
       "    </tr>\n",
       "    <tr>\n",
       "      <th>1</th>\n",
       "      <td>0.1</td>\n",
       "      <td>5.02</td>\n",
       "    </tr>\n",
       "    <tr>\n",
       "      <th>2</th>\n",
       "      <td>0.2</td>\n",
       "      <td>5.08</td>\n",
       "    </tr>\n",
       "    <tr>\n",
       "      <th>3</th>\n",
       "      <td>0.3</td>\n",
       "      <td>5.18</td>\n",
       "    </tr>\n",
       "    <tr>\n",
       "      <th>4</th>\n",
       "      <td>0.4</td>\n",
       "      <td>5.32</td>\n",
       "    </tr>\n",
       "    <tr>\n",
       "      <th>...</th>\n",
       "      <td>...</td>\n",
       "      <td>...</td>\n",
       "    </tr>\n",
       "    <tr>\n",
       "      <th>96</th>\n",
       "      <td>9.6</td>\n",
       "      <td>189.32</td>\n",
       "    </tr>\n",
       "    <tr>\n",
       "      <th>97</th>\n",
       "      <td>9.7</td>\n",
       "      <td>193.18</td>\n",
       "    </tr>\n",
       "    <tr>\n",
       "      <th>98</th>\n",
       "      <td>9.8</td>\n",
       "      <td>197.08</td>\n",
       "    </tr>\n",
       "    <tr>\n",
       "      <th>99</th>\n",
       "      <td>9.9</td>\n",
       "      <td>201.02</td>\n",
       "    </tr>\n",
       "    <tr>\n",
       "      <th>100</th>\n",
       "      <td>10.0</td>\n",
       "      <td>205.00</td>\n",
       "    </tr>\n",
       "  </tbody>\n",
       "</table>\n",
       "<p>101 rows × 2 columns</p>\n",
       "</div>"
      ],
      "text/plain": [
       "        x       y\n",
       "0     0.0    5.00\n",
       "1     0.1    5.02\n",
       "2     0.2    5.08\n",
       "3     0.3    5.18\n",
       "4     0.4    5.32\n",
       "..    ...     ...\n",
       "96    9.6  189.32\n",
       "97    9.7  193.18\n",
       "98    9.8  197.08\n",
       "99    9.9  201.02\n",
       "100  10.0  205.00\n",
       "\n",
       "[101 rows x 2 columns]"
      ]
     },
     "execution_count": 63,
     "metadata": {},
     "output_type": "execute_result"
    }
   ],
   "source": [
    "tabla"
   ]
  },
  {
   "cell_type": "markdown",
   "id": "c7de5ba0",
   "metadata": {
    "slideshow": {
     "slide_type": "subslide"
    }
   },
   "source": [
    "Luego podemos acceder fácilmente a las columnas y seguir haciendo operaciones con ellas:"
   ]
  },
  {
   "cell_type": "code",
   "execution_count": 64,
   "id": "99639a5d",
   "metadata": {
    "slideshow": {
     "slide_type": "fragment"
    }
   },
   "outputs": [
    {
     "data": {
      "text/plain": [
       "0        5.00\n",
       "1        5.02\n",
       "2        5.08\n",
       "3        5.18\n",
       "4        5.32\n",
       "        ...  \n",
       "96     189.32\n",
       "97     193.18\n",
       "98     197.08\n",
       "99     201.02\n",
       "100    205.00\n",
       "Name: y, Length: 101, dtype: float64"
      ]
     },
     "execution_count": 64,
     "metadata": {},
     "output_type": "execute_result"
    }
   ],
   "source": [
    "tabla[\"y\"]"
   ]
  },
  {
   "cell_type": "code",
   "execution_count": 65,
   "id": "eb66b053",
   "metadata": {
    "slideshow": {
     "slide_type": "fragment"
    }
   },
   "outputs": [],
   "source": [
    "tabla[\"z\"] = np.exp(x)"
   ]
  },
  {
   "cell_type": "code",
   "execution_count": 66,
   "id": "98e6a67c",
   "metadata": {
    "slideshow": {
     "slide_type": "fragment"
    }
   },
   "outputs": [
    {
     "data": {
      "text/html": [
       "<div>\n",
       "<style scoped>\n",
       "    .dataframe tbody tr th:only-of-type {\n",
       "        vertical-align: middle;\n",
       "    }\n",
       "\n",
       "    .dataframe tbody tr th {\n",
       "        vertical-align: top;\n",
       "    }\n",
       "\n",
       "    .dataframe thead th {\n",
       "        text-align: right;\n",
       "    }\n",
       "</style>\n",
       "<table border=\"1\" class=\"dataframe\">\n",
       "  <thead>\n",
       "    <tr style=\"text-align: right;\">\n",
       "      <th></th>\n",
       "      <th>x</th>\n",
       "      <th>y</th>\n",
       "      <th>z</th>\n",
       "    </tr>\n",
       "  </thead>\n",
       "  <tbody>\n",
       "    <tr>\n",
       "      <th>0</th>\n",
       "      <td>0.0</td>\n",
       "      <td>5.00</td>\n",
       "      <td>1.000000</td>\n",
       "    </tr>\n",
       "    <tr>\n",
       "      <th>1</th>\n",
       "      <td>0.1</td>\n",
       "      <td>5.02</td>\n",
       "      <td>1.105171</td>\n",
       "    </tr>\n",
       "    <tr>\n",
       "      <th>2</th>\n",
       "      <td>0.2</td>\n",
       "      <td>5.08</td>\n",
       "      <td>1.221403</td>\n",
       "    </tr>\n",
       "    <tr>\n",
       "      <th>3</th>\n",
       "      <td>0.3</td>\n",
       "      <td>5.18</td>\n",
       "      <td>1.349859</td>\n",
       "    </tr>\n",
       "    <tr>\n",
       "      <th>4</th>\n",
       "      <td>0.4</td>\n",
       "      <td>5.32</td>\n",
       "      <td>1.491825</td>\n",
       "    </tr>\n",
       "    <tr>\n",
       "      <th>...</th>\n",
       "      <td>...</td>\n",
       "      <td>...</td>\n",
       "      <td>...</td>\n",
       "    </tr>\n",
       "    <tr>\n",
       "      <th>96</th>\n",
       "      <td>9.6</td>\n",
       "      <td>189.32</td>\n",
       "      <td>14764.781566</td>\n",
       "    </tr>\n",
       "    <tr>\n",
       "      <th>97</th>\n",
       "      <td>9.7</td>\n",
       "      <td>193.18</td>\n",
       "      <td>16317.607198</td>\n",
       "    </tr>\n",
       "    <tr>\n",
       "      <th>98</th>\n",
       "      <td>9.8</td>\n",
       "      <td>197.08</td>\n",
       "      <td>18033.744928</td>\n",
       "    </tr>\n",
       "    <tr>\n",
       "      <th>99</th>\n",
       "      <td>9.9</td>\n",
       "      <td>201.02</td>\n",
       "      <td>19930.370438</td>\n",
       "    </tr>\n",
       "    <tr>\n",
       "      <th>100</th>\n",
       "      <td>10.0</td>\n",
       "      <td>205.00</td>\n",
       "      <td>22026.465795</td>\n",
       "    </tr>\n",
       "  </tbody>\n",
       "</table>\n",
       "<p>101 rows × 3 columns</p>\n",
       "</div>"
      ],
      "text/plain": [
       "        x       y             z\n",
       "0     0.0    5.00      1.000000\n",
       "1     0.1    5.02      1.105171\n",
       "2     0.2    5.08      1.221403\n",
       "3     0.3    5.18      1.349859\n",
       "4     0.4    5.32      1.491825\n",
       "..    ...     ...           ...\n",
       "96    9.6  189.32  14764.781566\n",
       "97    9.7  193.18  16317.607198\n",
       "98    9.8  197.08  18033.744928\n",
       "99    9.9  201.02  19930.370438\n",
       "100  10.0  205.00  22026.465795\n",
       "\n",
       "[101 rows x 3 columns]"
      ]
     },
     "execution_count": 66,
     "metadata": {},
     "output_type": "execute_result"
    }
   ],
   "source": [
    "tabla"
   ]
  },
  {
   "cell_type": "markdown",
   "id": "56ac6995",
   "metadata": {
    "slideshow": {
     "slide_type": "subslide"
    }
   },
   "source": [
    "O hacer gráficos"
   ]
  },
  {
   "cell_type": "code",
   "execution_count": 67,
   "id": "b233babb",
   "metadata": {
    "slideshow": {
     "slide_type": "fragment"
    }
   },
   "outputs": [
    {
     "data": {
      "image/png": "[encoded data removed]",
      "text/plain": [
       "<Figure size 432x288 with 1 Axes>"
      ]
     },
     "metadata": {
      "needs_background": "light"
     },
     "output_type": "display_data"
    }
   ],
   "source": [
    "plt.plot(tabla[\"x\"], tabla[\"y\"])\n",
    "plt.show()"
   ]
  },
  {
   "cell_type": "markdown",
   "id": "dfdd7ee2",
   "metadata": {
    "slideshow": {
     "slide_type": "subslide"
    }
   },
   "source": [
    "## Leer y  escribir tablas"
   ]
  },
  {
   "cell_type": "markdown",
   "id": "3e3a1f21",
   "metadata": {
    "slideshow": {
     "slide_type": "fragment"
    }
   },
   "source": [
    "Pandas permite leer tablas en múltiples formatos con las funciones `pd.read_formato()`, en este caso usaremos el formato csv que es muy común (tablas separadas por coma). \n",
    "\n",
    "Por ejemplo podemos leer los datos que generamos a partir de archivos de gaussian"
   ]
  },
  {
   "cell_type": "code",
   "execution_count": 68,
   "id": "0ccf5111",
   "metadata": {
    "slideshow": {
     "slide_type": "fragment"
    }
   },
   "outputs": [],
   "source": [
    "energia = pd.read_csv(\"pandas/energy.csv\")"
   ]
  },
  {
   "cell_type": "code",
   "execution_count": 69,
   "id": "4bd1d2d1",
   "metadata": {
    "slideshow": {
     "slide_type": "fragment"
    }
   },
   "outputs": [
    {
     "data": {
      "text/html": [
       "<div>\n",
       "<style scoped>\n",
       "    .dataframe tbody tr th:only-of-type {\n",
       "        vertical-align: middle;\n",
       "    }\n",
       "\n",
       "    .dataframe tbody tr th {\n",
       "        vertical-align: top;\n",
       "    }\n",
       "\n",
       "    .dataframe thead th {\n",
       "        text-align: right;\n",
       "    }\n",
       "</style>\n",
       "<table border=\"1\" class=\"dataframe\">\n",
       "  <thead>\n",
       "    <tr style=\"text-align: right;\">\n",
       "      <th></th>\n",
       "      <th>RC</th>\n",
       "      <th>E</th>\n",
       "    </tr>\n",
       "  </thead>\n",
       "  <tbody>\n",
       "    <tr>\n",
       "      <th>0</th>\n",
       "      <td>-2.44127</td>\n",
       "      <td>-118455.297687</td>\n",
       "    </tr>\n",
       "    <tr>\n",
       "      <th>1</th>\n",
       "      <td>-2.41030</td>\n",
       "      <td>-118455.270579</td>\n",
       "    </tr>\n",
       "    <tr>\n",
       "      <th>2</th>\n",
       "      <td>-2.37903</td>\n",
       "      <td>-118455.230495</td>\n",
       "    </tr>\n",
       "    <tr>\n",
       "      <th>3</th>\n",
       "      <td>-2.34772</td>\n",
       "      <td>-118455.178783</td>\n",
       "    </tr>\n",
       "    <tr>\n",
       "      <th>4</th>\n",
       "      <td>-2.31642</td>\n",
       "      <td>-118455.115525</td>\n",
       "    </tr>\n",
       "    <tr>\n",
       "      <th>...</th>\n",
       "      <td>...</td>\n",
       "      <td>...</td>\n",
       "    </tr>\n",
       "    <tr>\n",
       "      <th>74</th>\n",
       "      <td>-0.12521</td>\n",
       "      <td>-118406.748170</td>\n",
       "    </tr>\n",
       "    <tr>\n",
       "      <th>75</th>\n",
       "      <td>-0.09391</td>\n",
       "      <td>-118406.280455</td>\n",
       "    </tr>\n",
       "    <tr>\n",
       "      <th>76</th>\n",
       "      <td>-0.06261</td>\n",
       "      <td>-118405.942979</td>\n",
       "    </tr>\n",
       "    <tr>\n",
       "      <th>77</th>\n",
       "      <td>-0.03131</td>\n",
       "      <td>-118405.739112</td>\n",
       "    </tr>\n",
       "    <tr>\n",
       "      <th>78</th>\n",
       "      <td>0.00000</td>\n",
       "      <td>-118405.670895</td>\n",
       "    </tr>\n",
       "  </tbody>\n",
       "</table>\n",
       "<p>79 rows × 2 columns</p>\n",
       "</div>"
      ],
      "text/plain": [
       "         RC              E\n",
       "0  -2.44127 -118455.297687\n",
       "1  -2.41030 -118455.270579\n",
       "2  -2.37903 -118455.230495\n",
       "3  -2.34772 -118455.178783\n",
       "4  -2.31642 -118455.115525\n",
       "..      ...            ...\n",
       "74 -0.12521 -118406.748170\n",
       "75 -0.09391 -118406.280455\n",
       "76 -0.06261 -118405.942979\n",
       "77 -0.03131 -118405.739112\n",
       "78  0.00000 -118405.670895\n",
       "\n",
       "[79 rows x 2 columns]"
      ]
     },
     "execution_count": 69,
     "metadata": {},
     "output_type": "execute_result"
    }
   ],
   "source": [
    "energia"
   ]
  },
  {
   "cell_type": "markdown",
   "id": "73ea1f01",
   "metadata": {
    "slideshow": {
     "slide_type": "subslide"
    }
   },
   "source": [
    "La tabla se compone de la coordenada de reacción (RC) y la energía (E) de la mitad de una reacción"
   ]
  },
  {
   "cell_type": "code",
   "execution_count": 70,
   "id": "e1620672",
   "metadata": {
    "slideshow": {
     "slide_type": "fragment"
    }
   },
   "outputs": [
    {
     "data": {
      "image/png": "[encoded data removed]",
      "text/plain": [
       "<Figure size 432x288 with 1 Axes>"
      ]
     },
     "metadata": {
      "needs_background": "light"
     },
     "output_type": "display_data"
    }
   ],
   "source": [
    "plt.plot(energia[\"RC\"], energia[\"E\"])\n",
    "plt.show()"
   ]
  },
  {
   "cell_type": "markdown",
   "id": "c473546c",
   "metadata": {
    "slideshow": {
     "slide_type": "subslide"
    }
   },
   "source": [
    "Podemos calcular su derivada que corresponde a la fuerza de reaccion"
   ]
  },
  {
   "cell_type": "code",
   "execution_count": 71,
   "id": "1411d604",
   "metadata": {
    "slideshow": {
     "slide_type": "fragment"
    }
   },
   "outputs": [],
   "source": [
    "energia[\"FR\"] = np.gradient(energia[\"E\"], energia[\"RC\"])"
   ]
  },
  {
   "cell_type": "code",
   "execution_count": 72,
   "id": "7db3df93",
   "metadata": {
    "slideshow": {
     "slide_type": "fragment"
    }
   },
   "outputs": [
    {
     "data": {
      "image/png": "[encoded data removed]",
      "text/plain": [
       "<Figure size 432x288 with 1 Axes>"
      ]
     },
     "metadata": {
      "needs_background": "light"
     },
     "output_type": "display_data"
    }
   ],
   "source": [
    "plt.plot(energia[\"RC\"], energia[\"FR\"])\n",
    "plt.show()"
   ]
  },
  {
   "cell_type": "markdown",
   "id": "53810ec3",
   "metadata": {
    "slideshow": {
     "slide_type": "subslide"
    }
   },
   "source": [
    "Otro ejemplo con las energías HOMO y LUMO"
   ]
  },
  {
   "cell_type": "code",
   "execution_count": 73,
   "id": "c07d0d47",
   "metadata": {
    "slideshow": {
     "slide_type": "fragment"
    }
   },
   "outputs": [],
   "source": [
    "orbitales =  pd.read_csv(\"pandas/frontier_orbitals.csv\")"
   ]
  },
  {
   "cell_type": "code",
   "execution_count": 74,
   "id": "18812074",
   "metadata": {
    "slideshow": {
     "slide_type": "fragment"
    }
   },
   "outputs": [
    {
     "data": {
      "text/html": [
       "<div>\n",
       "<style scoped>\n",
       "    .dataframe tbody tr th:only-of-type {\n",
       "        vertical-align: middle;\n",
       "    }\n",
       "\n",
       "    .dataframe tbody tr th {\n",
       "        vertical-align: top;\n",
       "    }\n",
       "\n",
       "    .dataframe thead th {\n",
       "        text-align: right;\n",
       "    }\n",
       "</style>\n",
       "<table border=\"1\" class=\"dataframe\">\n",
       "  <thead>\n",
       "    <tr style=\"text-align: right;\">\n",
       "      <th></th>\n",
       "      <th>RC</th>\n",
       "      <th>HOMO-alpha</th>\n",
       "      <th>LUMO-alpha</th>\n",
       "      <th>HOMO-beta</th>\n",
       "      <th>LUMO-beta</th>\n",
       "    </tr>\n",
       "  </thead>\n",
       "  <tbody>\n",
       "    <tr>\n",
       "      <th>0</th>\n",
       "      <td>-2.44127</td>\n",
       "      <td>292.839858</td>\n",
       "      <td>117.413303</td>\n",
       "      <td>292.839858</td>\n",
       "      <td>117.413303</td>\n",
       "    </tr>\n",
       "    <tr>\n",
       "      <th>1</th>\n",
       "      <td>-2.41030</td>\n",
       "      <td>292.821033</td>\n",
       "      <td>117.444678</td>\n",
       "      <td>292.821033</td>\n",
       "      <td>117.444678</td>\n",
       "    </tr>\n",
       "    <tr>\n",
       "      <th>2</th>\n",
       "      <td>-2.37903</td>\n",
       "      <td>292.839858</td>\n",
       "      <td>117.394477</td>\n",
       "      <td>292.839858</td>\n",
       "      <td>117.394477</td>\n",
       "    </tr>\n",
       "    <tr>\n",
       "      <th>3</th>\n",
       "      <td>-2.34772</td>\n",
       "      <td>292.839858</td>\n",
       "      <td>117.369377</td>\n",
       "      <td>292.839858</td>\n",
       "      <td>117.369377</td>\n",
       "    </tr>\n",
       "    <tr>\n",
       "      <th>4</th>\n",
       "      <td>-2.31642</td>\n",
       "      <td>292.846133</td>\n",
       "      <td>117.325451</td>\n",
       "      <td>292.846133</td>\n",
       "      <td>117.325451</td>\n",
       "    </tr>\n",
       "    <tr>\n",
       "      <th>...</th>\n",
       "      <td>...</td>\n",
       "      <td>...</td>\n",
       "      <td>...</td>\n",
       "      <td>...</td>\n",
       "      <td>...</td>\n",
       "    </tr>\n",
       "    <tr>\n",
       "      <th>74</th>\n",
       "      <td>-0.12521</td>\n",
       "      <td>300.508024</td>\n",
       "      <td>100.759200</td>\n",
       "      <td>300.508024</td>\n",
       "      <td>100.759200</td>\n",
       "    </tr>\n",
       "    <tr>\n",
       "      <th>75</th>\n",
       "      <td>-0.09391</td>\n",
       "      <td>300.577050</td>\n",
       "      <td>100.690174</td>\n",
       "      <td>300.577050</td>\n",
       "      <td>100.690174</td>\n",
       "    </tr>\n",
       "    <tr>\n",
       "      <th>76</th>\n",
       "      <td>-0.06261</td>\n",
       "      <td>300.627251</td>\n",
       "      <td>100.633699</td>\n",
       "      <td>300.627251</td>\n",
       "      <td>100.633699</td>\n",
       "    </tr>\n",
       "    <tr>\n",
       "      <th>77</th>\n",
       "      <td>-0.03131</td>\n",
       "      <td>300.658627</td>\n",
       "      <td>100.608598</td>\n",
       "      <td>300.658627</td>\n",
       "      <td>100.608598</td>\n",
       "    </tr>\n",
       "    <tr>\n",
       "      <th>78</th>\n",
       "      <td>0.00000</td>\n",
       "      <td>300.671177</td>\n",
       "      <td>100.596048</td>\n",
       "      <td>300.671177</td>\n",
       "      <td>100.596048</td>\n",
       "    </tr>\n",
       "  </tbody>\n",
       "</table>\n",
       "<p>79 rows × 5 columns</p>\n",
       "</div>"
      ],
      "text/plain": [
       "         RC  HOMO-alpha  LUMO-alpha   HOMO-beta   LUMO-beta\n",
       "0  -2.44127  292.839858  117.413303  292.839858  117.413303\n",
       "1  -2.41030  292.821033  117.444678  292.821033  117.444678\n",
       "2  -2.37903  292.839858  117.394477  292.839858  117.394477\n",
       "3  -2.34772  292.839858  117.369377  292.839858  117.369377\n",
       "4  -2.31642  292.846133  117.325451  292.846133  117.325451\n",
       "..      ...         ...         ...         ...         ...\n",
       "74 -0.12521  300.508024  100.759200  300.508024  100.759200\n",
       "75 -0.09391  300.577050  100.690174  300.577050  100.690174\n",
       "76 -0.06261  300.627251  100.633699  300.627251  100.633699\n",
       "77 -0.03131  300.658627  100.608598  300.658627  100.608598\n",
       "78  0.00000  300.671177  100.596048  300.671177  100.596048\n",
       "\n",
       "[79 rows x 5 columns]"
      ]
     },
     "execution_count": 74,
     "metadata": {},
     "output_type": "execute_result"
    }
   ],
   "source": [
    "orbitales"
   ]
  },
  {
   "cell_type": "code",
   "execution_count": 75,
   "id": "35e997fd",
   "metadata": {
    "slideshow": {
     "slide_type": "fragment"
    }
   },
   "outputs": [
    {
     "data": {
      "image/png": "[encoded data removed]",
      "text/plain": [
       "<Figure size 432x288 with 1 Axes>"
      ]
     },
     "metadata": {
      "needs_background": "light"
     },
     "output_type": "display_data"
    }
   ],
   "source": [
    "plt.plot(orbitales[\"RC\"], orbitales[\"HOMO-alpha\"], label=\"HOMO\")\n",
    "plt.plot(orbitales[\"RC\"], orbitales[\"LUMO-alpha\"], label=\"LUMO\")\n",
    "plt.legend()\n",
    "plt.show()"
   ]
  },
  {
   "cell_type": "markdown",
   "id": "a7849b54",
   "metadata": {
    "slideshow": {
     "slide_type": "subslide"
    }
   },
   "source": [
    "podemos calcular el potencial químico\n",
    "$$\\mu = \\frac{E_{HOMO} + E_{LUMO}}{2}$$\n",
    "y la dureza química\n",
    "$$\\eta = \\frac{E_{LUMO} - E_{HOMO}}{2}$$"
   ]
  },
  {
   "cell_type": "code",
   "execution_count": 76,
   "id": "e7aeb476",
   "metadata": {
    "slideshow": {
     "slide_type": "fragment"
    }
   },
   "outputs": [],
   "source": [
    "orbitales[\"potencial\"] = (orbitales[\"HOMO-alpha\"] + orbitales[\"LUMO-beta\"]) / 2\n",
    "orbitales[\"dureza\"] = (orbitales[\"LUMO-beta\"] - orbitales[\"HOMO-alpha\"] ) / 2"
   ]
  },
  {
   "cell_type": "code",
   "execution_count": 77,
   "id": "12df1ecc",
   "metadata": {
    "slideshow": {
     "slide_type": "fragment"
    }
   },
   "outputs": [
    {
     "data": {
      "image/png": "[encoded data removed]",
      "text/plain": [
       "<Figure size 432x288 with 1 Axes>"
      ]
     },
     "metadata": {
      "needs_background": "light"
     },
     "output_type": "display_data"
    }
   ],
   "source": [
    "plt.plot(orbitales[\"RC\"], orbitales[\"potencial\"], label=r\"$\\mu$\")\n",
    "plt.legend()\n",
    "plt.show()"
   ]
  },
  {
   "cell_type": "code",
   "execution_count": 78,
   "id": "f7479df5",
   "metadata": {
    "slideshow": {
     "slide_type": "fragment"
    }
   },
   "outputs": [
    {
     "data": {
      "image/png": "[encoded data removed]",
      "text/plain": [
       "<Figure size 432x288 with 1 Axes>"
      ]
     },
     "metadata": {
      "needs_background": "light"
     },
     "output_type": "display_data"
    }
   ],
   "source": [
    "plt.plot(orbitales[\"RC\"], orbitales[\"dureza\"], label=r\"$\\eta$\")\n",
    "plt.legend()\n",
    "plt.show()"
   ]
  },
  {
   "cell_type": "markdown",
   "id": "6ad902bd",
   "metadata": {
    "slideshow": {
     "slide_type": "subslide"
    }
   },
   "source": [
    "Para guardar la nueva tabla como csv usamos el método `tabla.to_csv()`"
   ]
  },
  {
   "cell_type": "code",
   "execution_count": 79,
   "id": "3ea778a2",
   "metadata": {
    "slideshow": {
     "slide_type": "fragment"
    }
   },
   "outputs": [],
   "source": [
    "orbitales.to_csv(\"pandas/frontier_orbitals_new.csv\")"
   ]
  },
  {
   "cell_type": "markdown",
   "id": "3a08f9f3",
   "metadata": {
    "slideshow": {
     "slide_type": "slide"
    }
   },
   "source": [
    "# Extra: Más sobre Python"
   ]
  },
  {
   "cell_type": "markdown",
   "id": "8bff7bdd",
   "metadata": {
    "slideshow": {
     "slide_type": "subslide"
    }
   },
   "source": [
    "##  ¿Cómo resolver problemas en Python?\n",
    "\n",
    "Algunos tips para cuando tengamos errores u otros problemas en Python"
   ]
  },
  {
   "cell_type": "markdown",
   "id": "1f4a6f57",
   "metadata": {
    "slideshow": {
     "slide_type": "subslide"
    }
   },
   "source": [
    "### Leer el tipo de error y la traza\n",
    "\n",
    "ejemplo:"
   ]
  },
  {
   "cell_type": "code",
   "execution_count": 80,
   "id": "6959fbae",
   "metadata": {
    "slideshow": {
     "slide_type": "fragment"
    }
   },
   "outputs": [
    {
     "name": "stdout",
     "output_type": "stream",
     "text": [
      "0 H\n",
      "1 o\n",
      "2 l\n",
      "3 a\n"
     ]
    },
    {
     "ename": "IndexError",
     "evalue": "string index out of range",
     "output_type": "error",
     "traceback": [
      "\u001b[0;31m---------------------------------------------------------------------------\u001b[0m",
      "\u001b[0;31mIndexError\u001b[0m                                Traceback (most recent call last)",
      "\u001b[0;32m/tmp/ipykernel_88022/202169303.py\u001b[0m in \u001b[0;36m<module>\u001b[0;34m\u001b[0m\n\u001b[1;32m      3\u001b[0m \u001b[0;34m\u001b[0m\u001b[0m\n\u001b[1;32m      4\u001b[0m \u001b[0;32mfor\u001b[0m \u001b[0mi\u001b[0m \u001b[0;32min\u001b[0m \u001b[0mrange\u001b[0m\u001b[0;34m(\u001b[0m\u001b[0;36m5\u001b[0m\u001b[0;34m)\u001b[0m\u001b[0;34m:\u001b[0m\u001b[0;34m\u001b[0m\u001b[0;34m\u001b[0m\u001b[0m\n\u001b[0;32m----> 5\u001b[0;31m     \u001b[0menumera_letra\u001b[0m\u001b[0;34m(\u001b[0m\u001b[0mi\u001b[0m\u001b[0;34m,\u001b[0m \u001b[0;34m\"Hola\"\u001b[0m\u001b[0;34m)\u001b[0m\u001b[0;34m\u001b[0m\u001b[0;34m\u001b[0m\u001b[0m\n\u001b[0m",
      "\u001b[0;32m/tmp/ipykernel_88022/202169303.py\u001b[0m in \u001b[0;36menumera_letra\u001b[0;34m(i, p)\u001b[0m\n\u001b[1;32m      1\u001b[0m \u001b[0;32mdef\u001b[0m \u001b[0menumera_letra\u001b[0m\u001b[0;34m(\u001b[0m\u001b[0mi\u001b[0m\u001b[0;34m,\u001b[0m \u001b[0mp\u001b[0m\u001b[0;34m)\u001b[0m\u001b[0;34m:\u001b[0m\u001b[0;34m\u001b[0m\u001b[0;34m\u001b[0m\u001b[0m\n\u001b[0;32m----> 2\u001b[0;31m     \u001b[0mprint\u001b[0m\u001b[0;34m(\u001b[0m\u001b[0mi\u001b[0m\u001b[0;34m,\u001b[0m \u001b[0mp\u001b[0m\u001b[0;34m[\u001b[0m\u001b[0mi\u001b[0m\u001b[0;34m]\u001b[0m\u001b[0;34m)\u001b[0m\u001b[0;34m\u001b[0m\u001b[0;34m\u001b[0m\u001b[0m\n\u001b[0m\u001b[1;32m      3\u001b[0m \u001b[0;34m\u001b[0m\u001b[0m\n\u001b[1;32m      4\u001b[0m \u001b[0;32mfor\u001b[0m \u001b[0mi\u001b[0m \u001b[0;32min\u001b[0m \u001b[0mrange\u001b[0m\u001b[0;34m(\u001b[0m\u001b[0;36m5\u001b[0m\u001b[0;34m)\u001b[0m\u001b[0;34m:\u001b[0m\u001b[0;34m\u001b[0m\u001b[0;34m\u001b[0m\u001b[0m\n\u001b[1;32m      5\u001b[0m     \u001b[0menumera_letra\u001b[0m\u001b[0;34m(\u001b[0m\u001b[0mi\u001b[0m\u001b[0;34m,\u001b[0m \u001b[0;34m\"Hola\"\u001b[0m\u001b[0;34m)\u001b[0m\u001b[0;34m\u001b[0m\u001b[0;34m\u001b[0m\u001b[0m\n",
      "\u001b[0;31mIndexError\u001b[0m: string index out of range"
     ]
    }
   ],
   "source": [
    "def enumera_letra(i, p):\n",
    "    print(i, p[i])\n",
    "\n",
    "for i in range(5):\n",
    "    enumera_letra(i, \"Hola\")"
   ]
  },
  {
   "cell_type": "markdown",
   "id": "ba6fba3d",
   "metadata": {
    "slideshow": {
     "slide_type": "fragment"
    }
   },
   "source": [
    "Por ejemplo en este caso el tipo de error es `IndexError` que se debe a un índice incorrecto.\n",
    "\n",
    "La traza señala dónde ocurre el error, vemos que primero indica la línea 5 donde se ejecuta la función `enumera_letra`, luego entra en la definición de `enumera_letra` y el error ocurre en la línea 2 al imprimir p[i]\n",
    "\n",
    "En este caso el error ocurre porque \"Hola\" tiene 4 letras pero pedimos imprimir 5 al usar `range(5)`"
   ]
  },
  {
   "cell_type": "markdown",
   "id": "a893e03b",
   "metadata": {
    "slideshow": {
     "slide_type": "subslide"
    }
   },
   "source": [
    "### Googlear de la manera correcta\n",
    "\n",
    "* Buscar en inglés\n",
    "* Generalizar y abstraer el problema\n",
    "* No usar nombres que definimos nosotros\n",
    "* Mejor página para problemas de programación: [Stack Overflow](https://stackoverflow.com/)"
   ]
  },
  {
   "cell_type": "markdown",
   "id": "8838d9d2",
   "metadata": {
    "slideshow": {
     "slide_type": "fragment"
    }
   },
   "source": [
    "Ejemplo mala búsqueda:\n",
    "\n",
    "error python en funcion enumera_letra(i, \"Hola\") aparece error IndexError: string index out of range después de imprimir"
   ]
  },
  {
   "cell_type": "markdown",
   "id": "89f5af28",
   "metadata": {
    "slideshow": {
     "slide_type": "fragment"
    }
   },
   "source": [
    "Ejemplo de buena búsqueda:\n",
    "\n",
    "python IndexError string index out of range stackoverflow"
   ]
  },
  {
   "cell_type": "markdown",
   "id": "abaf34e4",
   "metadata": {
    "slideshow": {
     "slide_type": "fragment"
    }
   },
   "source": [
    "También en ocasiones las tareas que buscamos ya están resueltas:\n",
    "\n",
    "how to find the nth prime number with python stackoverflow\n",
    "\n",
    "En este caso no olvides citar el código"
   ]
  },
  {
   "cell_type": "markdown",
   "id": "4bb47665",
   "metadata": {
    "slideshow": {
     "slide_type": "subslide"
    }
   },
   "source": [
    "### Buscar en la documentación"
   ]
  },
  {
   "cell_type": "markdown",
   "id": "5e491929",
   "metadata": {
    "slideshow": {
     "slide_type": "subslide"
    }
   },
   "source": [
    "## ¿Qué más puedo aprender?\n",
    "\n",
    "* Módulos: cómo escribir mis propios módulos [docs](https://docs.python.org/3/tutorial/modules.html), [tutorial](https://realpython.com/python-modules-packages/)\n",
    "* Estructuras de datos: listas, tuplas, diccionarios, sets, colas, stacks. [docs](https://docs.python.org/3/tutorial/datastructures.html), [tutorial](https://realpython.com/python-data-structures/)\n",
    "* Más sobre funciones: valores por defecto, keywords y kwargs, [tutorial](https://python.plainenglish.io/using-default-arguments-args-and-kwargs-in-python-functions-6dc60fcc2fb8)\n",
    "* Clases y Programación orientada a objetos (OOP): crear nuestros propios tipos de objetos [docs](https://docs.python.org/3/tutorial/classes.html), [tutorial](https://realpython.com/python3-object-oriented-programming/)\n",
    "* A medida que avanzemos encontraremos qué herramientas necesitamos y las podemos aprender por nuestra cuenta"
   ]
  },
  {
   "cell_type": "markdown",
   "id": "cbd61a92",
   "metadata": {
    "slideshow": {
     "slide_type": "slide"
    }
   },
   "source": [
    "# Gracias!"
   ]
  }
 ],
 "metadata": {
  "hide_input": false,
  "kernelspec": {
   "display_name": "Python 3 (ipykernel)",
   "language": "python",
   "name": "python3"
  },
  "language_info": {
   "codemirror_mode": {
    "name": "ipython",
    "version": 3
   },
   "file_extension": ".py",
   "mimetype": "text/x-python",
   "name": "python",
   "nbconvert_exporter": "python",
   "pygments_lexer": "ipython3",
   "version": "3.9.12"
  },
  "toc": {
   "base_numbering": 1,
   "nav_menu": {},
   "number_sections": true,
   "sideBar": true,
   "skip_h1_title": false,
   "title_cell": "Table of Contents",
   "title_sidebar": "Contents",
   "toc_cell": false,
   "toc_position": {},
   "toc_section_display": true,
   "toc_window_display": false
  }
 },
 "nbformat": 4,
 "nbformat_minor": 5
}
