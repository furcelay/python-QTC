{
 "cells": [
  {
   "cell_type": "markdown",
   "id": "7e08e666",
   "metadata": {
    "slideshow": {
     "slide_type": "slide"
    }
   },
   "source": [
    "# Clase 3: Loops y Funciones"
   ]
  },
  {
   "cell_type": "markdown",
   "id": "b750fe68",
   "metadata": {
    "slideshow": {
     "slide_type": "slide"
    }
   },
   "source": [
    "## Control de flujo 2: Loops"
   ]
  },
  {
   "cell_type": "markdown",
   "id": "4367534b",
   "metadata": {
    "slideshow": {
     "slide_type": "fragment"
    }
   },
   "source": [
    "Comúnmente tenemos acciones que queremos que se repitan un número determinado de veces o hasta cumplir una condición.\n",
    "\n",
    "Ejemplos\n",
    "* saltar 10 veces\n",
    "* camina hasta llegar a la avenida\n",
    "* Comer hasta no poder más"
   ]
  },
  {
   "cell_type": "markdown",
   "id": "cbe9b6e2",
   "metadata": {},
   "source": [
    "Esto see logra con **loops**"
   ]
  },
  {
   "cell_type": "markdown",
   "id": "41ac1c7f",
   "metadata": {
    "slideshow": {
     "slide_type": "slide"
    }
   },
   "source": [
    "### Loop while"
   ]
  },
  {
   "cell_type": "markdown",
   "id": "462150c1",
   "metadata": {
    "slideshow": {
     "slide_type": "fragment"
    }
   },
   "source": [
    "Un loop while permite repetir un bloque de código mientras una condición se cumpla, cuando la condición es falsa deja de repetirse.\n",
    "\n",
    "Se usa la siguiente notación (similar a la de if):\n",
    "\n",
    "```python\n",
    "while condicion:\n",
    "    codigo que se repite mientras condicion sea True\n",
    "    (...)\n",
    "    \n",
    "esto se ejecuta cuando el loop se acaba porque condicion es False\n",
    "(...)\n",
    "```"
   ]
  },
  {
   "cell_type": "markdown",
   "id": "63980615",
   "metadata": {
    "slideshow": {
     "slide_type": "subslide"
    }
   },
   "source": [
    "Veamos un ejemplo:"
   ]
  },
  {
   "cell_type": "code",
   "execution_count": null,
   "id": "f90e1f45",
   "metadata": {
    "slideshow": {
     "slide_type": "fragment"
    }
   },
   "outputs": [],
   "source": [
    "x = 0\n",
    "\n",
    "while x < 10:\n",
    "    print(x)\n",
    "    x += 1\n",
    "\n",
    "\n",
    "print(\"termina el loop\")\n",
    "print(x)"
   ]
  },
  {
   "cell_type": "markdown",
   "id": "ce81dc2f",
   "metadata": {},
   "source": [
    "Podemos usarlo para que se pida una entrada de usuario hasta que sea válida:"
   ]
  },
  {
   "cell_type": "code",
   "execution_count": null,
   "id": "747234d1",
   "metadata": {
    "scrolled": false,
    "slideshow": {
     "slide_type": "fragment"
    }
   },
   "outputs": [],
   "source": [
    "print(\"Su gato está maullando, que hacer:\\n\")\n",
    "print(\"opciones:\\n- A: Alimentaro\\n- B: Acariciarlo\\n- C: Bañarlo\\n\")\n",
    "\n",
    "valida = False\n",
    "\n",
    "while not valida:\n",
    "    \n",
    "    eleccion = input(\"elija una opción (A, B o C): \")\n",
    "    print()\n",
    "\n",
    "    if eleccion == \"A\":\n",
    "        valida = True\n",
    "        print(\"Alimentando al gato...\")\n",
    "        print(\"El gato come como si no hubiera un mañana\")\n",
    "\n",
    "    elif eleccion == \"B\":\n",
    "        valida = True\n",
    "        print(\"Acariciando al gato\")\n",
    "        print(\"ronroneos\")\n",
    "\n",
    "    elif eleccion == \"C\":\n",
    "        valida = True\n",
    "        print(\"Usted intenta bañar al gato\")\n",
    "        print(\"El gato huye despavorido\")\n",
    "    \n",
    "    else:\n",
    "        print(\"Opcion inválida, intente nuevamente\")\n",
    "    \n",
    "print(\"\\nmiau\")"
   ]
  },
  {
   "cell_type": "markdown",
   "id": "ae740aef",
   "metadata": {
    "slideshow": {
     "slide_type": "slide"
    }
   },
   "source": [
    "### Loop for"
   ]
  },
  {
   "cell_type": "markdown",
   "id": "68e59bd9",
   "metadata": {
    "slideshow": {
     "slide_type": "fragment"
    }
   },
   "source": [
    "Un loop for permite iterar sobre los elementos de una secuencia (en python se llaman **iterables**)\n",
    "\n",
    "Hasta el momento conocemos un iterable y son los string (secuencia de caracteres), próximamente veremos más secuencias y será muy útil este loop.\n",
    "\n",
    "La sintaxis es la siguiente:\n",
    "\n",
    "```python\n",
    "for elemento in secuencia:\n",
    "    se repite variando elemento dentro de la secuencia\n",
    "    (...)\n",
    "    \n",
    "esto se ejecuta cuando la secuencia se acaba\n",
    "(...)\n",
    "```\n",
    "\n",
    "`elemento` es una variable que se crea al momento de hacer el loop for y varía su valor a lo largo de la secuencia."
   ]
  },
  {
   "cell_type": "code",
   "execution_count": null,
   "id": "354d3ff8",
   "metadata": {
    "slideshow": {
     "slide_type": "subslide"
    }
   },
   "outputs": [],
   "source": [
    "for letra in \"Hola Mundo\":\n",
    "    print(letra)"
   ]
  },
  {
   "cell_type": "markdown",
   "id": "e9c8e4c6",
   "metadata": {
    "slideshow": {
     "slide_type": "subslide"
    }
   },
   "source": [
    "#### Función range"
   ]
  },
  {
   "cell_type": "markdown",
   "id": "6eb31ac8",
   "metadata": {
    "slideshow": {
     "slide_type": "fragment"
    }
   },
   "source": [
    "* `range` es una función que permite crear una secuencia de números\n",
    "* Es muy útil para usarlo en un loop for, así podemos controlar el número de veces que se repite "
   ]
  },
  {
   "cell_type": "markdown",
   "id": "62c8c660",
   "metadata": {
    "slideshow": {
     "slide_type": "fragment"
    }
   },
   "source": [
    "Con un argumento range funciona de la siguiente manera:\n",
    "\n",
    "```python\n",
    "range(stop)\n",
    "```\n",
    "\n",
    "donde `stop` es un `int`, se genera la secuenacia desde `0` hasta `stop - 1`"
   ]
  },
  {
   "cell_type": "code",
   "execution_count": null,
   "id": "575f19d1",
   "metadata": {
    "slideshow": {
     "slide_type": "fragment"
    }
   },
   "outputs": [],
   "source": [
    "for x in range(5):\n",
    "    print(x)"
   ]
  },
  {
   "cell_type": "markdown",
   "id": "afe4ba7f",
   "metadata": {
    "slideshow": {
     "slide_type": "subslide"
    }
   },
   "source": [
    "Opcionalmente se le pueden dar un segundo argumento `start`:\n",
    "    \n",
    "```python\n",
    "range(start, stop)\n",
    "```\n",
    "\n",
    "En este caso la secuencia va desde `start` hasta `stop - 1`"
   ]
  },
  {
   "cell_type": "code",
   "execution_count": null,
   "id": "1f2846d5",
   "metadata": {
    "slideshow": {
     "slide_type": "fragment"
    }
   },
   "outputs": [],
   "source": [
    "for x in range(3, 9):\n",
    "    print(x)"
   ]
  },
  {
   "cell_type": "markdown",
   "id": "908e5e33",
   "metadata": {
    "slideshow": {
     "slide_type": "fragment"
    }
   },
   "source": [
    "Para ver más opciones de range pueden ver la [documentación](https://docs.python.org/3/library/functions.html#func-range)"
   ]
  },
  {
   "cell_type": "markdown",
   "id": "70bfe18a",
   "metadata": {
    "slideshow": {
     "slide_type": "subslide"
    }
   },
   "source": [
    "Veamos un ejemplo de for en que sumamos números enteros hasta 10:"
   ]
  },
  {
   "cell_type": "code",
   "execution_count": null,
   "id": "032b5f48",
   "metadata": {
    "slideshow": {
     "slide_type": "fragment"
    }
   },
   "outputs": [],
   "source": [
    "suma = 0\n",
    "\n",
    "for n in range(10):\n",
    "    suma += n\n",
    "    \n",
    "suma"
   ]
  },
  {
   "cell_type": "markdown",
   "id": "017afcfc",
   "metadata": {
    "slideshow": {
     "slide_type": "slide"
    }
   },
   "source": [
    "## Funciones"
   ]
  },
  {
   "cell_type": "markdown",
   "id": "332db296",
   "metadata": {
    "slideshow": {
     "slide_type": "fragment"
    }
   },
   "source": [
    "* Es muy común que queramos repetir un fragmento de código con distintas entradas. \n",
    "* Las funciones en python funcionan de forma similar a las funciones en matemáticas.\n",
    "\n",
    "Por ejemplo si definimos la siguiente función:\n",
    "\n",
    "$f(x) = 5x^2 - x + 1$\n",
    "\n",
    "Luego podemos \"llamar\" a esta función con distintos argumentos y obtener el resultado:\n",
    "\n",
    "$f(0) = 1$\n",
    "\n",
    "$f(1) = 5$\n",
    "\n",
    "$f(-1) = 7$"
   ]
  },
  {
   "cell_type": "markdown",
   "id": "1ecdbfe8",
   "metadata": {
    "slideshow": {
     "slide_type": "fragment"
    }
   },
   "source": [
    "En python podemos escribir funciones de la siguiente manera:\n",
    "\n",
    "```python\n",
    "def mi_funcion(argumento):\n",
    "    cuerpo de la funcion\n",
    "    (...)\n",
    "```\n",
    "\n",
    "No solo son funciones matemáticas sino que pueden hacer todo tipo de operaciones\n",
    "\n",
    "De hecho ya conocemos algunas funciones: `print()`, `input()`, `int()`, ..., `range()`"
   ]
  },
  {
   "cell_type": "markdown",
   "id": "1045c30c",
   "metadata": {
    "slideshow": {
     "slide_type": "subslide"
    }
   },
   "source": [
    "Ejemplo"
   ]
  },
  {
   "cell_type": "code",
   "execution_count": null,
   "id": "86a4d5c0",
   "metadata": {
    "slideshow": {
     "slide_type": "fragment"
    }
   },
   "outputs": [],
   "source": [
    "def print_double(x):\n",
    "    print(\"el doble de x es:\", 2 * x)"
   ]
  },
  {
   "cell_type": "markdown",
   "id": "a45ba025",
   "metadata": {
    "slideshow": {
     "slide_type": "fragment"
    }
   },
   "source": [
    "Una vez definida podemos usarla cuantas veces queramos:"
   ]
  },
  {
   "cell_type": "code",
   "execution_count": null,
   "id": "238883b6",
   "metadata": {
    "scrolled": true,
    "slideshow": {
     "slide_type": "fragment"
    }
   },
   "outputs": [],
   "source": [
    "print_double(1)\n",
    "print_double(6)"
   ]
  },
  {
   "cell_type": "markdown",
   "id": "f77e9a4b",
   "metadata": {
    "slideshow": {
     "slide_type": "subslide"
    }
   },
   "source": [
    "### return"
   ]
  },
  {
   "cell_type": "markdown",
   "id": "dbad02bf",
   "metadata": {
    "slideshow": {
     "slide_type": "fragment"
    }
   },
   "source": [
    "En general queremos que una función entregue un valor de vuelta, esto se logra con return:\n",
    "\n",
    "\n",
    "```python\n",
    "def mi_funcion(argumento):\n",
    "    cuerpo de la funcion\n",
    "    (...)\n",
    "    return resultado\n",
    "```"
   ]
  },
  {
   "cell_type": "markdown",
   "id": "fdeccd27",
   "metadata": {
    "slideshow": {
     "slide_type": "subslide"
    }
   },
   "source": [
    "De este modo podemos simular la función $f(x) = 5x^2 - x + 1$"
   ]
  },
  {
   "cell_type": "code",
   "execution_count": null,
   "id": "8c3af497",
   "metadata": {
    "slideshow": {
     "slide_type": "fragment"
    }
   },
   "outputs": [],
   "source": [
    "def f(x):\n",
    "    y = 5 * x**2 - x + 1\n",
    "    return y"
   ]
  },
  {
   "cell_type": "code",
   "execution_count": null,
   "id": "25947520",
   "metadata": {
    "slideshow": {
     "slide_type": "fragment"
    }
   },
   "outputs": [],
   "source": [
    "f(1)"
   ]
  },
  {
   "cell_type": "markdown",
   "id": "bc9ebe58",
   "metadata": {
    "slideshow": {
     "slide_type": "fragment"
    }
   },
   "source": [
    "Ahora podemos guardar el resultado:"
   ]
  },
  {
   "cell_type": "code",
   "execution_count": null,
   "id": "6687a683",
   "metadata": {
    "slideshow": {
     "slide_type": "fragment"
    }
   },
   "outputs": [],
   "source": [
    "a = f(5)\n",
    "\n",
    "a"
   ]
  },
  {
   "cell_type": "markdown",
   "id": "9953594f",
   "metadata": {
    "slideshow": {
     "slide_type": "subslide"
    }
   },
   "source": [
    "### Múltiples argumentos"
   ]
  },
  {
   "cell_type": "markdown",
   "id": "ba05506f",
   "metadata": {
    "slideshow": {
     "slide_type": "fragment"
    }
   },
   "source": [
    "Una función puede tener más de un argumento, de hecho puede tener cuantos argumentos uno desee:\n",
    "    \n",
    "    \n",
    " ```python\n",
    "def mi_funcion(argumento_1, argumento_2, ...):\n",
    "    cuerpo de la funcion\n",
    "    (...)\n",
    "    return resultado\n",
    "```"
   ]
  },
  {
   "cell_type": "markdown",
   "id": "1139915c",
   "metadata": {
    "slideshow": {
     "slide_type": "subslide"
    }
   },
   "source": [
    "Veamos un ejemplo:"
   ]
  },
  {
   "cell_type": "code",
   "execution_count": null,
   "id": "6ae8ae76",
   "metadata": {
    "slideshow": {
     "slide_type": "fragment"
    }
   },
   "outputs": [],
   "source": [
    "def calculadora(numero_1, numero_2, operacion):\n",
    "    \n",
    "    if operacion == '+':\n",
    "        return numero_1 + numero_2\n",
    "    \n",
    "    elif operacion == '-':\n",
    "        return numero_1 - numero_2\n",
    "    \n",
    "    elif operacion == '*':\n",
    "        return numero_1 * numero_2\n",
    "    \n",
    "    elif (operacion == '/') and (numero_2 != 0):\n",
    "        return numero_1 / numero_2\n",
    "    \n",
    "    elif operacion == '^':\n",
    "        return numero_1 ** numero_2"
   ]
  },
  {
   "cell_type": "code",
   "execution_count": null,
   "id": "4c985af1",
   "metadata": {
    "slideshow": {
     "slide_type": "fragment"
    }
   },
   "outputs": [],
   "source": [
    "calculadora(2, 3, '+')"
   ]
  },
  {
   "cell_type": "code",
   "execution_count": null,
   "id": "05f748f8",
   "metadata": {
    "slideshow": {
     "slide_type": "fragment"
    }
   },
   "outputs": [],
   "source": [
    "calculadora(5, 3, '-')"
   ]
  },
  {
   "cell_type": "code",
   "execution_count": null,
   "id": "cbbf1aa0",
   "metadata": {
    "slideshow": {
     "slide_type": "fragment"
    }
   },
   "outputs": [],
   "source": [
    "calculadora(4, 5, '*')"
   ]
  },
  {
   "cell_type": "code",
   "execution_count": null,
   "id": "b806d332",
   "metadata": {
    "slideshow": {
     "slide_type": "fragment"
    }
   },
   "outputs": [],
   "source": [
    "calculadora(3, 2, '/')"
   ]
  },
  {
   "cell_type": "markdown",
   "id": "6453cfaa",
   "metadata": {
    "slideshow": {
     "slide_type": "subslide"
    }
   },
   "source": [
    "### Variables globales y locales"
   ]
  },
  {
   "cell_type": "markdown",
   "id": "5159b121",
   "metadata": {
    "slideshow": {
     "slide_type": "fragment"
    }
   },
   "source": [
    "* Es importante saber que tanto los argumentos como las variables definidas dentro de una función sólo existen dentro de esta\n",
    "* a este tipo de variables se les llama **variables locales**\n",
    "* mientras que las variables definidas fuera de funciones (en el cuerpo del programa) serían **variables globales**"
   ]
  },
  {
   "cell_type": "markdown",
   "id": "ddf8793c",
   "metadata": {
    "slideshow": {
     "slide_type": "subslide"
    }
   },
   "source": [
    "Variables globales:\n",
    "* variables definidas fuera de una función\n",
    "* son accesibles dentro de cualquier parte del programa\n",
    "* pero no deben usarse en el interior de las funciones\n",
    "* la forma correcta es pasarlas como argumento\n",
    "\n",
    "Variables locales:\n",
    "* variables definidas dentro de una función\n",
    "* solo existen dentro de ella"
   ]
  },
  {
   "cell_type": "markdown",
   "id": "a5058e71",
   "metadata": {
    "slideshow": {
     "slide_type": "subslide"
    }
   },
   "source": [
    "Ejemplo de uso **incorrecto** de variables globales\n",
    "\n",
    "\n",
    "```python\n",
    "factor = 2\n",
    "\n",
    "def mi_funcion(x):\n",
    "    # factor viene \"de afuera\"\n",
    "    y = factor * x\n",
    "    return y\n",
    "\n",
    "mi_funcion(3)\n",
    "```\n",
    "\n",
    "Aquí `factor` es una variable global y `x` e `y` son locales.\n",
    "\n",
    "Ejemplo de uso **correcto** de variables globales\n",
    "\n",
    "\n",
    "```python\n",
    "factor = 2\n",
    "\n",
    "def mi_funcion(x, c):\n",
    "    y = c * x\n",
    "    return y\n",
    "\n",
    "# pasamos el factor como argumento\n",
    "mi_funcion(3, factor)\n",
    "```\n"
   ]
  },
  {
   "cell_type": "markdown",
   "id": "9ee35995",
   "metadata": {
    "slideshow": {
     "slide_type": "slide"
    }
   },
   "source": [
    "## Ejercicios\n",
    "\n",
    "vamos a [Mimir](https://www.mimirhq.com/)!"
   ]
  }
 ],
 "metadata": {
  "hide_input": false,
  "kernelspec": {
   "display_name": "astro",
   "language": "python",
   "name": "astro"
  },
  "language_info": {
   "codemirror_mode": {
    "name": "ipython",
    "version": 3
   },
   "file_extension": ".py",
   "mimetype": "text/x-python",
   "name": "python",
   "nbconvert_exporter": "python",
   "pygments_lexer": "ipython3",
   "version": "3.9.12"
  },
  "toc": {
   "base_numbering": 1,
   "nav_menu": {},
   "number_sections": true,
   "sideBar": true,
   "skip_h1_title": false,
   "title_cell": "Table of Contents",
   "title_sidebar": "Contents",
   "toc_cell": false,
   "toc_position": {},
   "toc_section_display": true,
   "toc_window_display": false
  }
 },
 "nbformat": 4,
 "nbformat_minor": 5
}
