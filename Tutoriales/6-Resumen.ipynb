{
 "cells": [
  {
   "cell_type": "code",
   "execution_count": null,
   "id": "2ab0cb05",
   "metadata": {
    "slideshow": {
     "slide_type": "skip"
    }
   },
   "outputs": [],
   "source": [
    "%cd archivos"
   ]
  },
  {
   "cell_type": "markdown",
   "id": "51c3a183",
   "metadata": {
    "slideshow": {
     "slide_type": "slide"
    }
   },
   "source": [
    "# Resumen"
   ]
  },
  {
   "cell_type": "markdown",
   "id": "abdc56cc",
   "metadata": {
    "slideshow": {
     "slide_type": "slide"
    }
   },
   "source": [
    "# Variables"
   ]
  },
  {
   "cell_type": "markdown",
   "id": "5d33b62e",
   "metadata": {
    "slideshow": {
     "slide_type": "fragment"
    }
   },
   "source": [
    "* El nombre de la variable debe tener solo caracteres alfanuméricos o ‘_’ y no puede comenzar con un número\n",
    "* No debe incluir acentos (á, ü, ñ, etc)\n",
    "* Por consenso se usan solo minúsculas y ‘_’ en vez de espacios (snake_case)\n",
    "* No usar nombres de variables o funciones predefinidas en Python (veremos algunos más adelante)"
   ]
  },
  {
   "cell_type": "markdown",
   "id": "f8dbaba7",
   "metadata": {
    "slideshow": {
     "slide_type": "subslide"
    }
   },
   "source": [
    "## Tipos de Variables\n",
    "\n",
    "* **int**: números enteros <br>\n",
    "    ej: `-51`\n",
    "* **float**: números con punto flotante (decimales) <br>\n",
    "    ej: `1.431`\n",
    "* **str** (strings): texto <br>\n",
    "    ej: `\"Hola Mundo\"`\n",
    "* **bool** (booleanas): variables lógicas <br>\n",
    "    ej: `True`, `False`\n",
    "* **list** (lista): contiene elementos de cualquier tipo de forma ordenada <br>\n",
    "    ej: `[3, 5, 12, 51]`"
   ]
  },
  {
   "cell_type": "markdown",
   "id": "c707fe30",
   "metadata": {
    "slideshow": {
     "slide_type": "subslide"
    }
   },
   "source": [
    "### Operaciones aritméticas (int y float)\n",
    "\n",
    "* suma: `+`\n",
    "* resta: `-`\n",
    "* multiplicación: `*`\n",
    "* división: `/`\n",
    "* potencia: `**`\n",
    "* división entera: `//`\n",
    "* resto: `%`\n",
    "\n",
    "El orden sigue las reglas de aritmética, se puede alterar con paréntesis redondos `()`"
   ]
  },
  {
   "cell_type": "markdown",
   "id": "46e17acd",
   "metadata": {
    "slideshow": {
     "slide_type": "fragment"
    }
   },
   "source": [
    "Ejemplo:"
   ]
  },
  {
   "cell_type": "code",
   "execution_count": null,
   "id": "f8a7ac80",
   "metadata": {
    "slideshow": {
     "slide_type": "fragment"
    }
   },
   "outputs": [],
   "source": [
    "((6 + 7) * 2) ** 3"
   ]
  },
  {
   "cell_type": "markdown",
   "id": "b54c3ca7",
   "metadata": {
    "slideshow": {
     "slide_type": "subslide"
    }
   },
   "source": [
    "### Operaciones lógicas\n",
    "\n",
    "Para booleanos `True / False`:\n",
    "* `and`: True si ambos son True\n",
    "* `or`: True si al menos uno es True\n",
    "* `not`: Invierte el valor"
   ]
  },
  {
   "cell_type": "markdown",
   "id": "dad4730d",
   "metadata": {
    "slideshow": {
     "slide_type": "fragment"
    }
   },
   "source": [
    "Ejemplo:"
   ]
  },
  {
   "cell_type": "code",
   "execution_count": null,
   "id": "d4b7ba06",
   "metadata": {
    "scrolled": true,
    "slideshow": {
     "slide_type": "fragment"
    }
   },
   "outputs": [],
   "source": [
    "not ((True and False) or True)"
   ]
  },
  {
   "cell_type": "markdown",
   "id": "c1da3559",
   "metadata": {
    "slideshow": {
     "slide_type": "subslide"
    }
   },
   "source": [
    "Para otros tipos, resultan en un booleano:\n",
    "* `==` igual lógico: `True` si ambos contienen el mismo valor\n",
    "* `!=` desigualdad lógica: `True` si ambos contienen valores distintos\n",
    "* `<` / `>`: menor / mayor\n",
    "* `<=` / `>=`: menor o igual/ mayor o igual\n",
    "* `in`: `True` si el elemento está contenido en la secuencia (string o lista)"
   ]
  },
  {
   "cell_type": "markdown",
   "id": "e895b5ff",
   "metadata": {
    "slideshow": {
     "slide_type": "fragment"
    }
   },
   "source": [
    "Ejemplo:"
   ]
  },
  {
   "cell_type": "code",
   "execution_count": null,
   "id": "1667a880",
   "metadata": {
    "slideshow": {
     "slide_type": "fragment"
    }
   },
   "outputs": [],
   "source": [
    "a = 3\n",
    "\n",
    "1 < a < 5"
   ]
  },
  {
   "cell_type": "code",
   "execution_count": null,
   "id": "92a6108e",
   "metadata": {
    "slideshow": {
     "slide_type": "fragment"
    }
   },
   "outputs": [],
   "source": [
    "b = \"Hola Mundo\"\n",
    "\n",
    "b != \"python\""
   ]
  },
  {
   "cell_type": "code",
   "execution_count": null,
   "id": "65179158",
   "metadata": {
    "slideshow": {
     "slide_type": "fragment"
    }
   },
   "outputs": [],
   "source": [
    "\"chocolate\" in [\"crema\", \"manjar\", \"vainilla\", \"chocolate\", \"bizcocho\"]"
   ]
  },
  {
   "cell_type": "markdown",
   "id": "dbfd40bc",
   "metadata": {
    "slideshow": {
     "slide_type": "subslide"
    }
   },
   "source": [
    "### Conversión de Tipos"
   ]
  },
  {
   "cell_type": "markdown",
   "id": "5326f2b1",
   "metadata": {
    "slideshow": {
     "slide_type": "fragment"
    }
   },
   "source": [
    "* `int()`: convierte un float o string a un int\n",
    "* `float()`: convierte un int o string a un float\n",
    "* `str()`: convierte cualquier tipo a un string\n",
    "* `list()`: convierte un iterable (ej: string) a una lista"
   ]
  },
  {
   "cell_type": "markdown",
   "id": "a1e0d005",
   "metadata": {
    "slideshow": {
     "slide_type": "fragment"
    }
   },
   "source": [
    "Además `type()` nos dice el tipo de archivo"
   ]
  },
  {
   "cell_type": "markdown",
   "id": "b610d833",
   "metadata": {
    "slideshow": {
     "slide_type": "slide"
    }
   },
   "source": [
    "# Input y Output"
   ]
  },
  {
   "cell_type": "markdown",
   "id": "8bf24ed4",
   "metadata": {
    "slideshow": {
     "slide_type": "subslide"
    }
   },
   "source": [
    "`print()`\n",
    "* Función de salida desde el programa al terminal\n",
    "* Puede tomar varias entradas separadas por coma y las imprime separadas por espacios "
   ]
  },
  {
   "cell_type": "code",
   "execution_count": null,
   "id": "e866ba6a",
   "metadata": {
    "slideshow": {
     "slide_type": "fragment"
    }
   },
   "outputs": [],
   "source": [
    "a = 3.14\n",
    "b = a\n",
    "a *= 2\n",
    "\n",
    "print(\"al inicio a es\", b, \"y luego es\", a)"
   ]
  },
  {
   "cell_type": "markdown",
   "id": "11461475",
   "metadata": {
    "slideshow": {
     "slide_type": "subslide"
    }
   },
   "source": [
    "`input()`\n",
    "* Función de entrada desde el terminal al programa\n",
    "* Toda la entrada se convierte a un string\n",
    "* Se queda esperando hasta recibir la entrada del usuario"
   ]
  },
  {
   "cell_type": "code",
   "execution_count": null,
   "id": "d2c0c610",
   "metadata": {
    "slideshow": {
     "slide_type": "fragment"
    }
   },
   "outputs": [],
   "source": [
    "# recibir la entrada\n",
    "b = input()\n",
    "\n",
    "# convertir tipo a int\n",
    "b = int(b)\n",
    "\n",
    "# imprimir\n",
    "print(\"el tipo de b es\", type(b), \"con valor\", b)"
   ]
  },
  {
   "cell_type": "markdown",
   "id": "d0784d5e",
   "metadata": {
    "slideshow": {
     "slide_type": "slide"
    }
   },
   "source": [
    "# Condicionales"
   ]
  },
  {
   "cell_type": "markdown",
   "id": "aae59377",
   "metadata": {
    "slideshow": {
     "slide_type": "fragment"
    }
   },
   "source": [
    "Podemos imponer condiciones al código de forma que las secciones se ejecuten solo si se cumplen las condiciones dadas.\n",
    "\n",
    "Un bloque de condiciones está compuesto por una sentencia `if` y puede tener una o más sentencias `elif` y una `else`\n",
    "\n",
    "* `if`: Primera condición, se ejecuta si es verdadera\n",
    "* `elif`: Debe ir después de una condición `if` o `elif`, se ejecuta si es verdadera y las anteriores no\n",
    "* `else`: No lleva condición, se ejecuta si todas las anteriores son falsas"
   ]
  },
  {
   "cell_type": "markdown",
   "id": "dfd715d8",
   "metadata": {
    "slideshow": {
     "slide_type": "subslide"
    }
   },
   "source": [
    "Sintaxis:\n",
    "\n",
    "```python\n",
    "if condicion_1:\n",
    "    solo si condicion_1 es True\n",
    "    (...)\n",
    "elif condicion_2:\n",
    "    solo si condicion_1 es False y condicion_2 es True\n",
    "    (...)\n",
    "elif condicion_3:\n",
    "    solo si condicion_1 y condicion_2 son False y condicion_3 es True\n",
    "    (...)\n",
    "else:\n",
    "    si condicion_1, condicion_2 y condicion_3 son False\n",
    "    (...)\n",
    "\n",
    "codigo no condicionado\n",
    "(...)\n",
    "```"
   ]
  },
  {
   "cell_type": "code",
   "execution_count": null,
   "id": "451358d2",
   "metadata": {
    "slideshow": {
     "slide_type": "subslide"
    }
   },
   "outputs": [],
   "source": [
    "print(\"Su gato está maullando, que hacer:\\n\")\n",
    "print(\"opciones:\\n* A: Alimentaro\\n* B: Acariciarlo\\n* C: Bañarlo\\n\")\n",
    "\n",
    "eleccion = input(\"elija una opción (A, B o C): \")\n",
    "print()\n",
    "\n",
    "if eleccion == \"A\":\n",
    "    print(\"Alimentando al gato...\")\n",
    "    print(\"El gato come como si no hubiera un mañana\")\n",
    "    \n",
    "elif eleccion == \"B\":\n",
    "    print(\"Acariciando al gato\")\n",
    "    print(\"ronroneos\")\n",
    "    \n",
    "elif eleccion == \"C\":\n",
    "    print(\"Usted intenta bañar al gato\")\n",
    "    print(\"El gato huye despavorido\")\n",
    "    \n",
    "else:\n",
    "    print(\"Has ignorado al gato\")\n",
    "    \n",
    "print(\"\\nmiau\")"
   ]
  },
  {
   "cell_type": "markdown",
   "id": "c79da67d",
   "metadata": {
    "slideshow": {
     "slide_type": "subslide"
    }
   },
   "source": [
    "# Loops"
   ]
  },
  {
   "cell_type": "markdown",
   "id": "4207a260",
   "metadata": {
    "slideshow": {
     "slide_type": "fragment"
    }
   },
   "source": [
    "Comúnmente tenemos acciones que queremos que se repitan un número determinado de veces o hasta cumplir una condición.\n",
    "\n",
    "Ejemplos\n",
    "* saltar 10 veces\n",
    "* camina hasta llegar a la avenida\n",
    "* Comer hasta no poder más\n",
    "\n",
    "Esto se logra con loops"
   ]
  },
  {
   "cell_type": "markdown",
   "id": "d6d146c5",
   "metadata": {
    "slideshow": {
     "slide_type": "subslide"
    }
   },
   "source": [
    "## Loop while"
   ]
  },
  {
   "cell_type": "markdown",
   "id": "462150c1",
   "metadata": {
    "slideshow": {
     "slide_type": "fragment"
    }
   },
   "source": [
    "Un loop while permite repetir un bloque de código mientras una condición se cumpla, cuando la condición es falsa deja de repetirse.\n",
    "\n",
    "Se usa la siguiente notación (similar a la de if):\n",
    "\n",
    "```python\n",
    "while condicion:\n",
    "    codigo que se repite mientras condicion sea True\n",
    "    (...)\n",
    "    \n",
    "esto se ejecuta cuando el loop se acaba porque condicion es False\n",
    "(...)\n",
    "```"
   ]
  },
  {
   "cell_type": "code",
   "execution_count": null,
   "id": "f90e1f45",
   "metadata": {
    "slideshow": {
     "slide_type": "fragment"
    }
   },
   "outputs": [],
   "source": [
    "x = 0\n",
    "\n",
    "while x < 10:\n",
    "    print(x)\n",
    "    x += 1\n",
    "\n",
    "\n",
    "print(\"termina el loop\")\n",
    "print(x)"
   ]
  },
  {
   "cell_type": "markdown",
   "id": "1e1933c8",
   "metadata": {
    "slideshow": {
     "slide_type": "subslide"
    }
   },
   "source": [
    "## Loop for"
   ]
  },
  {
   "cell_type": "markdown",
   "id": "68e59bd9",
   "metadata": {
    "slideshow": {
     "slide_type": "fragment"
    }
   },
   "source": [
    "Un loop for permite iterar sobre los elementos de una secuencia (en python se llaman **iterables**)\n",
    "\n",
    "Los iterables que conocemos son strings (secuencias de caracteres) y listas.\n",
    "\n",
    "La sintaxis es la siguiente:\n",
    "\n",
    "```python\n",
    "for elemento in secuencia:\n",
    "    se repite variando elemento dentro de la secuencia\n",
    "    (...)\n",
    "    \n",
    "esto se ejecuta cuando la secuencia se acaba\n",
    "(...)\n",
    "```\n",
    "\n",
    "`elemento` es una variable que se crea al momento de hacer el loop for y varía su valor a lo largo de la secuencia."
   ]
  },
  {
   "cell_type": "code",
   "execution_count": null,
   "id": "354d3ff8",
   "metadata": {
    "slideshow": {
     "slide_type": "fragment"
    }
   },
   "outputs": [],
   "source": [
    "for letra in \"Hola Mundo\":\n",
    "    if letra != 'o':\n",
    "        print(letra)"
   ]
  },
  {
   "cell_type": "code",
   "execution_count": null,
   "id": "7298a06a",
   "metadata": {
    "slideshow": {
     "slide_type": "fragment"
    }
   },
   "outputs": [],
   "source": [
    "lista_texto = [\"Hola\", \"mundo\", \"esto\", \"es\", \"una\", \"lista\"]\n",
    "\n",
    "for palabra in lista_texto:\n",
    "    print(palabra)"
   ]
  },
  {
   "cell_type": "markdown",
   "id": "e9c8e4c6",
   "metadata": {
    "slideshow": {
     "slide_type": "subslide"
    }
   },
   "source": [
    "### Función range"
   ]
  },
  {
   "cell_type": "markdown",
   "id": "6eb31ac8",
   "metadata": {
    "slideshow": {
     "slide_type": "fragment"
    }
   },
   "source": [
    "* `range` es una función que permite crear una secuencia de números\n",
    "* Es muy útil para usarlo en un loop for, así podemos controlar el número de veces que se repite "
   ]
  },
  {
   "cell_type": "markdown",
   "id": "62c8c660",
   "metadata": {
    "slideshow": {
     "slide_type": "fragment"
    }
   },
   "source": [
    "Con un argumento range funciona de la siguiente manera:\n",
    "\n",
    "```python\n",
    "range(stop)\n",
    "```\n",
    "\n",
    "donde `stop` es un `int`, se genera la secuenacia desde `0` hasta `stop - 1`"
   ]
  },
  {
   "cell_type": "code",
   "execution_count": null,
   "id": "575f19d1",
   "metadata": {
    "slideshow": {
     "slide_type": "fragment"
    }
   },
   "outputs": [],
   "source": [
    "for x in range(5):\n",
    "    print(x)"
   ]
  },
  {
   "cell_type": "markdown",
   "id": "afe4ba7f",
   "metadata": {
    "slideshow": {
     "slide_type": "subslide"
    }
   },
   "source": [
    "Opcionalmente se le pueden dar un segundo argumento `start`:\n",
    "    \n",
    "```python\n",
    "range(start, stop)\n",
    "```\n",
    "\n",
    "En este caso la secuencia va desde `start` hasta `stop - 1`"
   ]
  },
  {
   "cell_type": "code",
   "execution_count": null,
   "id": "1f2846d5",
   "metadata": {
    "slideshow": {
     "slide_type": "fragment"
    }
   },
   "outputs": [],
   "source": [
    "for x in range(3, 9):\n",
    "    print(x)"
   ]
  },
  {
   "cell_type": "markdown",
   "id": "d730f8c5",
   "metadata": {
    "slideshow": {
     "slide_type": "subslide"
    }
   },
   "source": [
    "## Break"
   ]
  },
  {
   "cell_type": "markdown",
   "id": "cf24e9fa",
   "metadata": {
    "slideshow": {
     "slide_type": "fragment"
    }
   },
   "source": [
    "La sentencia `break` sirve para terminar un loop anticipadamente, apenas llega a esta líena el loop se termina de inmediato\n",
    "\n",
    "Se suele usar dentro de alguna condición (if/elif/else)"
   ]
  },
  {
   "cell_type": "code",
   "execution_count": null,
   "id": "024cc534",
   "metadata": {
    "slideshow": {
     "slide_type": "fragment"
    }
   },
   "outputs": [],
   "source": [
    "for x in range(10):\n",
    "    print(x)\n",
    "    if x == 7:\n",
    "        break"
   ]
  },
  {
   "cell_type": "markdown",
   "id": "66f33f78",
   "metadata": {
    "slideshow": {
     "slide_type": "slide"
    }
   },
   "source": [
    "# Funciones"
   ]
  },
  {
   "cell_type": "markdown",
   "id": "e2cbe624",
   "metadata": {
    "slideshow": {
     "slide_type": "fragment"
    }
   },
   "source": [
    "En python podemos escribir funciones de la siguiente manera:\n",
    "\n",
    "```python\n",
    "def mi_funcion(argumento):\n",
    "    cuerpo de la funcion\n",
    "    (...)\n",
    "```"
   ]
  },
  {
   "cell_type": "code",
   "execution_count": null,
   "id": "a7d656c0",
   "metadata": {
    "slideshow": {
     "slide_type": "fragment"
    }
   },
   "outputs": [],
   "source": [
    "def hola():\n",
    "    print(\"hola mundo!\")"
   ]
  },
  {
   "cell_type": "code",
   "execution_count": null,
   "id": "d8ff8464",
   "metadata": {
    "scrolled": true,
    "slideshow": {
     "slide_type": "fragment"
    }
   },
   "outputs": [],
   "source": [
    "hola()"
   ]
  },
  {
   "cell_type": "markdown",
   "id": "dbad02bf",
   "metadata": {
    "slideshow": {
     "slide_type": "subslide"
    }
   },
   "source": [
    "En general queremos que una función entregue un valor de vuelta, esto se logra con return:\n",
    "\n",
    "\n",
    "```python\n",
    "def mi_funcion(argumento):\n",
    "    cuerpo de la funcion\n",
    "    (...)\n",
    "    return resultado\n",
    "```"
   ]
  },
  {
   "cell_type": "code",
   "execution_count": null,
   "id": "83cc3710",
   "metadata": {
    "slideshow": {
     "slide_type": "fragment"
    }
   },
   "outputs": [],
   "source": [
    "def f(x):\n",
    "    y = 5 * x**2 - x + 1\n",
    "    return y"
   ]
  },
  {
   "cell_type": "code",
   "execution_count": null,
   "id": "34b1dd47",
   "metadata": {
    "slideshow": {
     "slide_type": "fragment"
    }
   },
   "outputs": [],
   "source": [
    "f(0)"
   ]
  },
  {
   "cell_type": "code",
   "execution_count": null,
   "id": "a9e30e08",
   "metadata": {
    "slideshow": {
     "slide_type": "fragment"
    }
   },
   "outputs": [],
   "source": [
    "f(1)"
   ]
  },
  {
   "cell_type": "markdown",
   "id": "f1175d07",
   "metadata": {
    "slideshow": {
     "slide_type": "fragment"
    }
   },
   "source": [
    "Al usar return podemos guardar el resultado en una variable"
   ]
  },
  {
   "cell_type": "code",
   "execution_count": null,
   "id": "fb391319",
   "metadata": {
    "slideshow": {
     "slide_type": "fragment"
    }
   },
   "outputs": [],
   "source": [
    "a = f(5)\n",
    "\n",
    "a"
   ]
  },
  {
   "cell_type": "markdown",
   "id": "682f3453",
   "metadata": {
    "slideshow": {
     "slide_type": "subslide"
    }
   },
   "source": [
    "Una función puede tener más de un argumento, de hecho puede tener cuantos argumentos uno desee:\n",
    "    \n",
    "    \n",
    " ```python\n",
    "def mi_funcion(argumento_1, argumento_2, ...):\n",
    "    cuerpo de la funcion\n",
    "    (...)\n",
    "    return resultado\n",
    "```"
   ]
  },
  {
   "cell_type": "code",
   "execution_count": null,
   "id": "b5d7ef3a",
   "metadata": {
    "code_folding": [],
    "slideshow": {
     "slide_type": "fragment"
    }
   },
   "outputs": [],
   "source": [
    "def calculadora(numero_1, numero_2, operacion):\n",
    "    \n",
    "    if operacion == '+':\n",
    "        return numero_1 + numero_2\n",
    "    \n",
    "    elif operacion == '-':\n",
    "        return numero_1 - numero_2\n",
    "    \n",
    "    elif operacion == '*':\n",
    "        return numero_1 * numero_2\n",
    "    \n",
    "    elif (operacion == '/') and (numero_2 != 0):\n",
    "        return numero_1 / numero_2\n",
    "    \n",
    "    elif operacion == '^':\n",
    "        return numero_1 ** numero_2"
   ]
  },
  {
   "cell_type": "code",
   "execution_count": null,
   "id": "be6cb01a",
   "metadata": {
    "slideshow": {
     "slide_type": "fragment"
    }
   },
   "outputs": [],
   "source": [
    "calculadora(2, 3, '+')"
   ]
  },
  {
   "cell_type": "code",
   "execution_count": null,
   "id": "850d46cf",
   "metadata": {
    "slideshow": {
     "slide_type": "fragment"
    }
   },
   "outputs": [],
   "source": [
    "calculadora(5, 3, '-')"
   ]
  },
  {
   "cell_type": "markdown",
   "id": "90c6d822",
   "metadata": {
    "slideshow": {
     "slide_type": "slide"
    }
   },
   "source": [
    "# Strings y Listas"
   ]
  },
  {
   "cell_type": "markdown",
   "id": "1ccbad47",
   "metadata": {
    "slideshow": {
     "slide_type": "subslide"
    }
   },
   "source": [
    "## Listas"
   ]
  },
  {
   "cell_type": "markdown",
   "id": "3fe5300d",
   "metadata": {
    "slideshow": {
     "slide_type": "fragment"
    }
   },
   "source": [
    "* Las listas se crean con corchetes cuadrados [ ] y separando cada elemento por coma (y un espacio)\n",
    "* Cada elemento puede ser cualquier tipo de objeto, no es necesario que sean del mismo tipo\n",
    "* No hay límite para el tamaño de las listas"
   ]
  },
  {
   "cell_type": "code",
   "execution_count": null,
   "id": "64ca6931",
   "metadata": {
    "slideshow": {
     "slide_type": "fragment"
    }
   },
   "outputs": [],
   "source": [
    "lista_compras = [\"huevos\", \"azúcar\", \"harina\", \"chocolate\"]\n",
    "\n",
    "type(lista_compras)"
   ]
  },
  {
   "cell_type": "markdown",
   "id": "e9360862",
   "metadata": {
    "slideshow": {
     "slide_type": "fragment"
    }
   },
   "source": [
    "Las listas son objetos iterables, por lo que podemos iterar sobre sus elementos en un loop `for`\n",
    "\n",
    "\n",
    "```python\n",
    "for elemento in lista:\n",
    "    hacemos algo con elemento \n",
    "    (...)\n",
    "```"
   ]
  },
  {
   "cell_type": "code",
   "execution_count": null,
   "id": "ac572536",
   "metadata": {
    "slideshow": {
     "slide_type": "fragment"
    }
   },
   "outputs": [],
   "source": [
    "lista_compras = [\"huevos\", \"azúcar\", \"harina\", \"chocolate\"]\n",
    "\n",
    "for elemento in lista_compras:\n",
    "    print(elemento)"
   ]
  },
  {
   "cell_type": "markdown",
   "id": "9ef65455",
   "metadata": {
    "slideshow": {
     "slide_type": "fragment"
    }
   },
   "source": [
    "Las listas también pueden contener listas, esto permite por ejemplo representar una matriz"
   ]
  },
  {
   "cell_type": "code",
   "execution_count": null,
   "id": "cc99208d",
   "metadata": {
    "slideshow": {
     "slide_type": "fragment"
    }
   },
   "outputs": [],
   "source": [
    "matriz = [[1, 2, 3],  # fila 1\n",
    "          [4, 5, 6],  # fila 2\n",
    "          [7, 8, 9]]  # fila 3"
   ]
  },
  {
   "cell_type": "markdown",
   "id": "0b5011df",
   "metadata": {
    "slideshow": {
     "slide_type": "subslide"
    }
   },
   "source": [
    "## Función len()"
   ]
  },
  {
   "cell_type": "markdown",
   "id": "189dfc87",
   "metadata": {
    "slideshow": {
     "slide_type": "fragment"
    }
   },
   "source": [
    "La función `len()` nos da el largo de un iterable (ej: listas, strings)"
   ]
  },
  {
   "cell_type": "code",
   "execution_count": null,
   "id": "584cd158",
   "metadata": {
    "slideshow": {
     "slide_type": "fragment"
    }
   },
   "outputs": [],
   "source": [
    "secuencia = [0, 1, 1, 2, 3, 5, 8, 13, 21, 34]\n",
    "len(secuencia)"
   ]
  },
  {
   "cell_type": "code",
   "execution_count": null,
   "id": "d460b9a0",
   "metadata": {
    "slideshow": {
     "slide_type": "fragment"
    }
   },
   "outputs": [],
   "source": [
    "matriz = [[1, 2, 3], [4, 5, 6], [7, 8, 9, 10], []]\n",
    "len(matriz)"
   ]
  },
  {
   "cell_type": "code",
   "execution_count": null,
   "id": "bd6acd2d",
   "metadata": {
    "slideshow": {
     "slide_type": "fragment"
    }
   },
   "outputs": [],
   "source": [
    "len(\"hola\")"
   ]
  },
  {
   "cell_type": "markdown",
   "id": "ea210b8e",
   "metadata": {
    "slideshow": {
     "slide_type": "subslide"
    }
   },
   "source": [
    "## Indexación"
   ]
  },
  {
   "cell_type": "markdown",
   "id": "7e58e56f",
   "metadata": {
    "slideshow": {
     "slide_type": "fragment"
    }
   },
   "source": [
    "* Las listas y los strings son secuencias ordenadas\n",
    "* A cada elemento podemos asignarle un número entero\n",
    "* Este número se llama índice (index)\n",
    "* En Python los índices parten de cero (como en range)\n",
    "\n",
    "Ejemplo indices lista:\n",
    "\n",
    "```\n",
    "indices:     0    1    2    3\n",
    "elementos: ['a', 'b', 'c', 'd']\n",
    "```\n",
    "\n",
    "Ejemplo indices string:\n",
    "\n",
    "```\n",
    "indices:    0123456789\n",
    "elementos: 'hola mundo'\n",
    "```"
   ]
  },
  {
   "cell_type": "markdown",
   "id": "a1aaa6f7",
   "metadata": {
    "slideshow": {
     "slide_type": "fragment"
    }
   },
   "source": [
    "Podemos acceder al elemento con índice `i` de un iterable con el operador de indexación `[i]`:\n",
    "\n",
    "```python\n",
    "iterable[i]\n",
    "```"
   ]
  },
  {
   "cell_type": "markdown",
   "id": "1be4cdcf",
   "metadata": {
    "slideshow": {
     "slide_type": "subslide"
    }
   },
   "source": [
    "Ejemplos:"
   ]
  },
  {
   "cell_type": "code",
   "execution_count": null,
   "id": "72a86004",
   "metadata": {
    "slideshow": {
     "slide_type": "fragment"
    }
   },
   "outputs": [],
   "source": [
    "#              0    1    2    3\n",
    "abecedario = ['a', 'b', 'c', 'd']"
   ]
  },
  {
   "cell_type": "code",
   "execution_count": null,
   "id": "3fd15635",
   "metadata": {
    "slideshow": {
     "slide_type": "fragment"
    }
   },
   "outputs": [],
   "source": [
    "abecedario[0]"
   ]
  },
  {
   "cell_type": "code",
   "execution_count": null,
   "id": "4a3407c1",
   "metadata": {
    "slideshow": {
     "slide_type": "fragment"
    }
   },
   "outputs": [],
   "source": [
    "abecedario[2]"
   ]
  },
  {
   "cell_type": "code",
   "execution_count": null,
   "id": "98fe5cb3",
   "metadata": {
    "slideshow": {
     "slide_type": "fragment"
    }
   },
   "outputs": [],
   "source": [
    "matriz = [[1, 2, 3],  # fila 1\n",
    "          [4, 5, 6],  # fila 2\n",
    "          [7, 8, 9]]  # fila 3"
   ]
  },
  {
   "cell_type": "code",
   "execution_count": null,
   "id": "860781a1",
   "metadata": {
    "slideshow": {
     "slide_type": "fragment"
    }
   },
   "outputs": [],
   "source": [
    "matriz[0]"
   ]
  },
  {
   "cell_type": "code",
   "execution_count": null,
   "id": "f3d83047",
   "metadata": {
    "slideshow": {
     "slide_type": "fragment"
    }
   },
   "outputs": [],
   "source": [
    "matriz[2][0]"
   ]
  },
  {
   "cell_type": "markdown",
   "id": "5bb403ca",
   "metadata": {
    "slideshow": {
     "slide_type": "subslide"
    }
   },
   "source": [
    "### Índices negativos\n",
    "\n",
    "* también podemos usar índices negativos\n",
    "* Si usamos índices negativos se cuenta de el final hacia el principio\n",
    "* El último elemento tiene índice `-1`\n",
    "\n",
    "Ejemplo:\n",
    "```\n",
    "indices:    -4   -3   -2   -1\n",
    "elementos: ['a', 'b', 'c', 'd']\n",
    "```"
   ]
  },
  {
   "cell_type": "code",
   "execution_count": null,
   "id": "576e0f16",
   "metadata": {
    "slideshow": {
     "slide_type": "fragment"
    }
   },
   "outputs": [],
   "source": [
    "#             -4   -3   -2   -1\n",
    "abecedario = ['a', 'b', 'c', 'd']"
   ]
  },
  {
   "cell_type": "markdown",
   "id": "30a71c78",
   "metadata": {
    "slideshow": {
     "slide_type": "subslide"
    }
   },
   "source": [
    "## Slicing"
   ]
  },
  {
   "cell_type": "markdown",
   "id": "f61e707c",
   "metadata": {
    "slideshow": {
     "slide_type": "fragment"
    }
   },
   "source": [
    "* Un slice corresponde a un *trozo* o fragmento de un iterable\n",
    "* La operación de slicing nos permite obtener un fragmento\n",
    "* Para esto usamos el operador de slicing `[start:stop]`\n",
    "\n",
    "```python\n",
    "iterable[start:stop]\n",
    "```\n",
    "\n",
    "* Esto nos entrega el fragmento desde el índice `start` hasta el índice `stop - 1` (no incluye stop al igual que range)"
   ]
  },
  {
   "cell_type": "code",
   "execution_count": null,
   "id": "adcf9b3d",
   "metadata": {
    "slideshow": {
     "slide_type": "fragment"
    }
   },
   "outputs": [],
   "source": [
    "numeros = [0, 1, 2, 3, 4, 5, 6]"
   ]
  },
  {
   "cell_type": "code",
   "execution_count": null,
   "id": "fa5faa84",
   "metadata": {
    "scrolled": true,
    "slideshow": {
     "slide_type": "fragment"
    }
   },
   "outputs": [],
   "source": [
    "numeros[0:3]"
   ]
  },
  {
   "cell_type": "code",
   "execution_count": null,
   "id": "cd844bf7",
   "metadata": {
    "slideshow": {
     "slide_type": "fragment"
    }
   },
   "outputs": [],
   "source": [
    "numeros[3:7]"
   ]
  },
  {
   "cell_type": "markdown",
   "id": "3392459b",
   "metadata": {
    "slideshow": {
     "slide_type": "subslide"
    }
   },
   "source": [
    "* podemos omitir `start` o `stop` en un slice\n",
    "* si se omite `start` partirá desde el comienzo (ídice 0)\n",
    "* si se omite `stop` llegará hasta el final (índice `len(iterable)`)"
   ]
  },
  {
   "cell_type": "code",
   "execution_count": null,
   "id": "65dbb36b",
   "metadata": {
    "slideshow": {
     "slide_type": "fragment"
    }
   },
   "outputs": [],
   "source": [
    "numeros = [0, 1, 2, 3, 4, 5, 6]"
   ]
  },
  {
   "cell_type": "code",
   "execution_count": null,
   "id": "2ed6a6c7",
   "metadata": {
    "slideshow": {
     "slide_type": "fragment"
    }
   },
   "outputs": [],
   "source": [
    "numeros[:3]"
   ]
  },
  {
   "cell_type": "code",
   "execution_count": null,
   "id": "142e3aba",
   "metadata": {
    "slideshow": {
     "slide_type": "fragment"
    }
   },
   "outputs": [],
   "source": [
    "numeros[4:]"
   ]
  },
  {
   "cell_type": "code",
   "execution_count": null,
   "id": "861279cb",
   "metadata": {
    "slideshow": {
     "slide_type": "fragment"
    }
   },
   "outputs": [],
   "source": [
    "numeros[:]"
   ]
  },
  {
   "cell_type": "markdown",
   "id": "061389ff",
   "metadata": {
    "slideshow": {
     "slide_type": "subslide"
    }
   },
   "source": [
    "## \"Álgebra\" de strings y listas"
   ]
  },
  {
   "cell_type": "markdown",
   "id": "ab5dc418",
   "metadata": {
    "slideshow": {
     "slide_type": "subslide"
    }
   },
   "source": [
    "### suma (+):\n",
    "\n",
    "la suma de dos strings o listas corresponde a la concatenación de estos"
   ]
  },
  {
   "cell_type": "code",
   "execution_count": null,
   "id": "a8eb2662",
   "metadata": {
    "scrolled": true,
    "slideshow": {
     "slide_type": "fragment"
    }
   },
   "outputs": [],
   "source": [
    "\"Hola\" + \"Mundo\""
   ]
  },
  {
   "cell_type": "code",
   "execution_count": null,
   "id": "c90f9254",
   "metadata": {
    "slideshow": {
     "slide_type": "fragment"
    }
   },
   "outputs": [],
   "source": [
    "\"Hola\" + \" \" + \"Mundo\""
   ]
  },
  {
   "cell_type": "code",
   "execution_count": null,
   "id": "ec764c9d",
   "metadata": {
    "slideshow": {
     "slide_type": "fragment"
    }
   },
   "outputs": [],
   "source": [
    "lista_1 = [1, 2, 3]\n",
    "lista_2 = [4, 5, 6]\n",
    "\n",
    "lista_1 + lista_2"
   ]
  },
  {
   "cell_type": "markdown",
   "id": "b94e02e3",
   "metadata": {
    "slideshow": {
     "slide_type": "subslide"
    }
   },
   "source": [
    "### producto (*):\n",
    "\n",
    "el producto de **un int por un string o lista** es el string o lista repetido n veces"
   ]
  },
  {
   "cell_type": "code",
   "execution_count": null,
   "id": "412ce770",
   "metadata": {
    "scrolled": true,
    "slideshow": {
     "slide_type": "fragment"
    }
   },
   "outputs": [],
   "source": [
    "5 * \"Hola \""
   ]
  },
  {
   "cell_type": "code",
   "execution_count": null,
   "id": "88562f88",
   "metadata": {
    "slideshow": {
     "slide_type": "fragment"
    }
   },
   "outputs": [],
   "source": [
    "3 * [1, 2, 3]"
   ]
  },
  {
   "cell_type": "markdown",
   "id": "d64512df",
   "metadata": {
    "slideshow": {
     "slide_type": "subslide"
    }
   },
   "source": [
    "## Modificando listas"
   ]
  },
  {
   "cell_type": "markdown",
   "id": "0be5c0b2",
   "metadata": {
    "slideshow": {
     "slide_type": "fragment"
    }
   },
   "source": [
    "Las listas son similares a tener una serie de variables, podemos cambiar el valor de las variables contenidas en la lista sin cambiar de una lista a otra.\n",
    "\n",
    "Una forma de hacerlo es con indexación, pensemos en `lista[indice]` como una variable, podemos hacer lo mismo que con ellas."
   ]
  },
  {
   "cell_type": "code",
   "execution_count": null,
   "id": "06200aa3",
   "metadata": {
    "slideshow": {
     "slide_type": "fragment"
    }
   },
   "outputs": [],
   "source": [
    "numeros = [1, 2, 3, 4]"
   ]
  },
  {
   "cell_type": "code",
   "execution_count": null,
   "id": "d43d71a8",
   "metadata": {
    "slideshow": {
     "slide_type": "fragment"
    }
   },
   "outputs": [],
   "source": [
    "# cambiamos el valor en la posición 0\n",
    "numeros[0] = 5\n",
    "numeros"
   ]
  },
  {
   "cell_type": "code",
   "execution_count": null,
   "id": "aa7f7e0a",
   "metadata": {
    "slideshow": {
     "slide_type": "fragment"
    }
   },
   "outputs": [],
   "source": [
    "# multiplicamos el elemento en posición 2 por 4\n",
    "numeros[2] *= 4\n",
    "numeros"
   ]
  },
  {
   "cell_type": "markdown",
   "id": "e24f8ec0",
   "metadata": {
    "slideshow": {
     "slide_type": "subslide"
    }
   },
   "source": [
    "Para modificar todos los elementos de una lista conviene hacerlo en un **loop for sobre los índices**\n",
    "\n",
    "```python\n",
    "for i in range(len(lista)):\n",
    "    lista[i] = algo\n",
    "```"
   ]
  },
  {
   "cell_type": "code",
   "execution_count": null,
   "id": "ac8d5113",
   "metadata": {
    "slideshow": {
     "slide_type": "fragment"
    }
   },
   "outputs": [],
   "source": [
    "numeros = [1, 2, 3, 4]\n",
    "\n",
    "for i in range(len(numeros)):\n",
    "    numeros[i] *= 10\n",
    "    \n",
    "numeros"
   ]
  },
  {
   "cell_type": "markdown",
   "id": "61307d5d",
   "metadata": {
    "slideshow": {
     "slide_type": "subslide"
    }
   },
   "source": [
    "## Métodos"
   ]
  },
  {
   "cell_type": "markdown",
   "id": "92e5217d",
   "metadata": {
    "slideshow": {
     "slide_type": "fragment"
    }
   },
   "source": [
    "* **Un método es una función** que se aplica internamente sobre un objeto. \n",
    "* Cada tipo de objeto tiene métodos propios de su tipo\n",
    "\n",
    "Se usan de la siguiente manera:\n",
    "\n",
    "```python\n",
    "variable.metodo(argumentos)\n",
    "```\n",
    "\n",
    "A continuación veremos algunos métodos de strings y listas"
   ]
  },
  {
   "cell_type": "markdown",
   "id": "c1d70951",
   "metadata": {
    "slideshow": {
     "slide_type": "subslide"
    }
   },
   "source": [
    "### Métodos de strings\n",
    "\n",
    "A continuación veremos algunos métodos comúnes"
   ]
  },
  {
   "cell_type": "markdown",
   "id": "334d0de3",
   "metadata": {
    "slideshow": {
     "slide_type": "subslide"
    }
   },
   "source": [
    "#### upper y lower\n",
    "\n",
    "Estos métodos cambian un string a mayúsculas o minúsculas, estas son funciones sin argumentos"
   ]
  },
  {
   "cell_type": "code",
   "execution_count": null,
   "id": "6554f3ff",
   "metadata": {
    "slideshow": {
     "slide_type": "fragment"
    }
   },
   "outputs": [],
   "source": [
    "a = \"Hola Mundo\""
   ]
  },
  {
   "cell_type": "code",
   "execution_count": null,
   "id": "ee0be808",
   "metadata": {
    "slideshow": {
     "slide_type": "fragment"
    }
   },
   "outputs": [],
   "source": [
    "a.upper()"
   ]
  },
  {
   "cell_type": "code",
   "execution_count": null,
   "id": "2ca452ec",
   "metadata": {
    "slideshow": {
     "slide_type": "fragment"
    }
   },
   "outputs": [],
   "source": [
    "a.lower()"
   ]
  },
  {
   "cell_type": "markdown",
   "id": "67e198f0",
   "metadata": {
    "slideshow": {
     "slide_type": "fragment"
    }
   },
   "source": [
    "Es importante notar que los strings son **inmutables**, esto quiere decir que **el string original no cambia** sino que los **métodos retornan un nuevo string modificados**"
   ]
  },
  {
   "cell_type": "code",
   "execution_count": null,
   "id": "b88d0c62",
   "metadata": {
    "slideshow": {
     "slide_type": "fragment"
    }
   },
   "outputs": [],
   "source": [
    "a"
   ]
  },
  {
   "cell_type": "markdown",
   "id": "348f0e40",
   "metadata": {
    "slideshow": {
     "slide_type": "subslide"
    }
   },
   "source": [
    "#### strip\n",
    "\n",
    "* Se usa para remover caracteres al comienzo y al final de un string\n",
    "* El uso que le daremos es el estandar que es sin argumentos\n",
    "* Remueve saltos de líneas y espacios\n",
    "* **Se usa al leer archivos**"
   ]
  },
  {
   "cell_type": "code",
   "execution_count": null,
   "id": "f5b4146d",
   "metadata": {
    "slideshow": {
     "slide_type": "fragment"
    }
   },
   "outputs": [],
   "source": [
    "\"   Hola Mundo  \\n\".strip()"
   ]
  },
  {
   "cell_type": "markdown",
   "id": "fcf57026",
   "metadata": {
    "slideshow": {
     "slide_type": "subslide"
    }
   },
   "source": [
    "#### split\n",
    "\n",
    "* **Convierte un string en una lista** usando un separador `sep` que es otro string\n",
    "* El argumento corresponde al separador `texto.split(sep)`\n",
    "* Sin argumentos usa espacios como separador `texto.split()`\n",
    "* Útil para **separar las palabras de un texto**\n",
    "* También para **leer tablas**"
   ]
  },
  {
   "cell_type": "code",
   "execution_count": null,
   "id": "0c0f9ef7",
   "metadata": {
    "scrolled": false,
    "slideshow": {
     "slide_type": "fragment"
    }
   },
   "outputs": [],
   "source": [
    "texto = \"Este es un texto que quiero convertir a una lista de palabras\"\n",
    "texto.split()"
   ]
  },
  {
   "cell_type": "code",
   "execution_count": null,
   "id": "31f15266",
   "metadata": {
    "slideshow": {
     "slide_type": "fragment"
    }
   },
   "outputs": [],
   "source": [
    "numeros = \"123.1123, 41.1234, 5.1233, -3.2411\"\n",
    "numeros.split(', ')"
   ]
  },
  {
   "cell_type": "markdown",
   "id": "e4d2567c",
   "metadata": {
    "slideshow": {
     "slide_type": "subslide"
    }
   },
   "source": [
    "#### join\n",
    "\n",
    "* Éste método es la operación inversa de split\n",
    "* El string es el separador y toma una lista como argumento\n",
    "* **Une los elementos de la lista usando el separador** `sep.join(lista)`\n",
    "* **Los elementos de la lista deben ser strings**"
   ]
  },
  {
   "cell_type": "code",
   "execution_count": null,
   "id": "2e3564fb",
   "metadata": {
    "slideshow": {
     "slide_type": "fragment"
    }
   },
   "outputs": [],
   "source": [
    "lista = [\"Hola\", \"Mundo\"]\n",
    "\n",
    "' '.join(lista)"
   ]
  },
  {
   "cell_type": "code",
   "execution_count": null,
   "id": "45ca59c6",
   "metadata": {
    "slideshow": {
     "slide_type": "fragment"
    }
   },
   "outputs": [],
   "source": [
    "fila_numeros = [12.124, 64.145, 1.525]\n",
    "\n",
    "# convertimos los elementos a string\n",
    "for i in range(len(fila_numeros)):\n",
    "    fila_numeros[i] = str(fila_numeros[i])\n",
    "\n",
    "','.join(fila_numeros)"
   ]
  },
  {
   "cell_type": "markdown",
   "id": "150df73b",
   "metadata": {
    "slideshow": {
     "slide_type": "subslide"
    }
   },
   "source": [
    "### Métodos de listas\n",
    "\n",
    "Ya que las listas son **mutables**, algunos métodos no retornan nada porque modifican la lista internamente"
   ]
  },
  {
   "cell_type": "markdown",
   "id": "912184ba",
   "metadata": {
    "slideshow": {
     "slide_type": "subslide"
    }
   },
   "source": [
    "#### append\n",
    "\n",
    "`lista.append(valor)` añade el valor al final de la lista"
   ]
  },
  {
   "cell_type": "code",
   "execution_count": null,
   "id": "c2f90e10",
   "metadata": {
    "slideshow": {
     "slide_type": "fragment"
    }
   },
   "outputs": [],
   "source": [
    "numeros = [1, 2, 3, 4]"
   ]
  },
  {
   "cell_type": "code",
   "execution_count": null,
   "id": "fca45701",
   "metadata": {
    "slideshow": {
     "slide_type": "fragment"
    }
   },
   "outputs": [],
   "source": [
    "numeros.append(5)"
   ]
  },
  {
   "cell_type": "code",
   "execution_count": null,
   "id": "869e6adf",
   "metadata": {
    "slideshow": {
     "slide_type": "fragment"
    }
   },
   "outputs": [],
   "source": [
    "numeros"
   ]
  },
  {
   "cell_type": "markdown",
   "id": "452249fa",
   "metadata": {
    "slideshow": {
     "slide_type": "subslide"
    }
   },
   "source": [
    "Podemos partir de una lista vacía e ir añadiendo elementos:"
   ]
  },
  {
   "cell_type": "code",
   "execution_count": null,
   "id": "1fb80eb2",
   "metadata": {
    "slideshow": {
     "slide_type": "fragment"
    }
   },
   "outputs": [],
   "source": [
    "lista = []\n",
    "\n",
    "while True:\n",
    "    \n",
    "    entrada = input()\n",
    "    \n",
    "    if entrada == \"end\":\n",
    "        break\n",
    "    \n",
    "    lista.append(entrada)\n",
    "        \n",
    "lista"
   ]
  },
  {
   "cell_type": "markdown",
   "id": "68b9216e",
   "metadata": {
    "slideshow": {
     "slide_type": "slide"
    }
   },
   "source": [
    "# Archivos"
   ]
  },
  {
   "cell_type": "markdown",
   "id": "f946bfad",
   "metadata": {
    "slideshow": {
     "slide_type": "subslide"
    }
   },
   "source": [
    "## Abrir archivos"
   ]
  },
  {
   "cell_type": "markdown",
   "id": "06927445",
   "metadata": {
    "slideshow": {
     "slide_type": "fragment"
    }
   },
   "source": [
    "Podemos abrir un archivo con la función `open()` que recibe el nombre del archivo (o ruta completa a este) y el modo en que se abre el archivo.\n",
    "\n",
    "```python\n",
    "mi_archivo = open(\"ruta/archivo.formato\", 'modo')\n",
    "```\n",
    "\n",
    "El modo puede ser uno de los siguientes:\n",
    "* `'r'`: lectura (read), **solo permite leer el archivo**\n",
    "* `'w'`: escritura (write): **crea un archivo en blanco** (borrando el anterior si es que existía) y **permite escribir** en él\n",
    "* `'a'`: añadir (append): **abre un archivo ya existente** y **permite escribir** añadiendo líneas al final"
   ]
  },
  {
   "cell_type": "markdown",
   "id": "2e73d2ba",
   "metadata": {
    "slideshow": {
     "slide_type": "subslide"
    }
   },
   "source": [
    "## Cerrar archivos"
   ]
  },
  {
   "cell_type": "markdown",
   "id": "db245f71",
   "metadata": {
    "slideshow": {
     "slide_type": "fragment"
    }
   },
   "source": [
    "Una vez terminamos de usar el archivo debemos cerrarlo (por ejemplo para que otras aplicaciones puedan acceder a él)\n",
    "\n",
    "Esto se hace con el método `close`\n",
    "\n",
    "```python\n",
    "# cerramos el archivo\n",
    "mi_archivo.close()\n",
    "```"
   ]
  },
  {
   "cell_type": "markdown",
   "id": "acd1ca4e",
   "metadata": {
    "slideshow": {
     "slide_type": "fragment"
    }
   },
   "source": [
    "El esquema general al trabajar con archivos es el siguiente:\n",
    "\n",
    "```python\n",
    "\n",
    "mi_archivo = open(\"ruta/archivo.formato\", 'modo')\n",
    "\n",
    "# leemos o escribimos en mi_archivo\n",
    "...\n",
    "\n",
    "mi_archivo.close()\n",
    "```"
   ]
  },
  {
   "cell_type": "markdown",
   "id": "048d2b30",
   "metadata": {
    "slideshow": {
     "slide_type": "slide"
    }
   },
   "source": [
    "## Leer archivos"
   ]
  },
  {
   "cell_type": "markdown",
   "id": "c8b2b071",
   "metadata": {
    "slideshow": {
     "slide_type": "fragment"
    }
   },
   "source": [
    "Para leer un archivo debemos abrirlo en modo lectura (`'r'`):\n",
    "\n",
    "```python\n",
    "mi_archivo = open(\"ruta/archivo.formato\", 'r')\n",
    "```\n",
    "\n",
    "Luego podemos acceder al contenido del archivo de muchas maneras, para resumir veremos solo una:\n",
    "\n",
    "* `mi_archivo.readlines()`: lee todo el archivo y lo retorna como una lista. Cada elemento de la lista es una línea como string.\n",
    "\n",
    "* Para más formas de leer un archivo ver la [documentación](https://docs.python.org/3/tutorial/inputoutput.html#methods-of-file-objects)"
   ]
  },
  {
   "cell_type": "code",
   "execution_count": null,
   "id": "2f202910",
   "metadata": {
    "slideshow": {
     "slide_type": "subslide"
    }
   },
   "outputs": [],
   "source": [
    "ejemplo_1 = open(\"ejemplos/ejemplo_1.txt\", 'r')\n",
    "\n",
    "lineas_archivo = ejemplo_1.readlines()"
   ]
  },
  {
   "cell_type": "code",
   "execution_count": null,
   "id": "551bc7f8",
   "metadata": {
    "slideshow": {
     "slide_type": "fragment"
    }
   },
   "outputs": [],
   "source": [
    "lineas_archivo"
   ]
  },
  {
   "cell_type": "code",
   "execution_count": null,
   "id": "fb0d8d35",
   "metadata": {
    "slideshow": {
     "slide_type": "fragment"
    }
   },
   "outputs": [],
   "source": [
    "lineas_archivo[0]"
   ]
  },
  {
   "cell_type": "markdown",
   "id": "b8a49463",
   "metadata": {
    "slideshow": {
     "slide_type": "fragment"
    }
   },
   "source": [
    "Todas las líneas del archivo terminan con un salto de línea `\\n`, si queremos quitarla usamos el método `strip()` de los string:"
   ]
  },
  {
   "cell_type": "code",
   "execution_count": null,
   "id": "728b4b03",
   "metadata": {
    "slideshow": {
     "slide_type": "fragment"
    }
   },
   "outputs": [],
   "source": [
    "lineas_archivo[0].strip()"
   ]
  },
  {
   "cell_type": "markdown",
   "id": "23956ee0",
   "metadata": {
    "slideshow": {
     "slide_type": "fragment"
    }
   },
   "source": [
    "También remueve espacios al comienzo y al final"
   ]
  },
  {
   "cell_type": "code",
   "execution_count": null,
   "id": "66c071f0",
   "metadata": {
    "slideshow": {
     "slide_type": "fragment"
    }
   },
   "outputs": [],
   "source": [
    "lineas_archivo[-1]"
   ]
  },
  {
   "cell_type": "code",
   "execution_count": null,
   "id": "12fc8454",
   "metadata": {
    "scrolled": true,
    "slideshow": {
     "slide_type": "fragment"
    }
   },
   "outputs": [],
   "source": [
    "lineas_archivo[-1].strip()"
   ]
  },
  {
   "cell_type": "markdown",
   "id": "2b653aa3",
   "metadata": {
    "slideshow": {
     "slide_type": "fragment"
    }
   },
   "source": [
    "**no debemos olvidarnos de cerrar el archivo**"
   ]
  },
  {
   "cell_type": "code",
   "execution_count": null,
   "id": "d21edfde",
   "metadata": {
    "slideshow": {
     "slide_type": "fragment"
    }
   },
   "outputs": [],
   "source": [
    "ejemplo_1.close()"
   ]
  },
  {
   "cell_type": "markdown",
   "id": "688c5e38",
   "metadata": {
    "slideshow": {
     "slide_type": "subslide"
    }
   },
   "source": [
    "Luego podemos por ejemplo trabajar con esta lista en un loop for:"
   ]
  },
  {
   "cell_type": "code",
   "execution_count": null,
   "id": "a22c20fc",
   "metadata": {
    "slideshow": {
     "slide_type": "fragment"
    }
   },
   "outputs": [],
   "source": [
    "for linea in lineas_archivo:\n",
    "    # quitamos \\n y espacios\n",
    "    linea = linea.strip()\n",
    "    print(linea)"
   ]
  },
  {
   "cell_type": "markdown",
   "id": "040c77bb",
   "metadata": {
    "slideshow": {
     "slide_type": "subslide"
    }
   },
   "source": [
    "## Escribir archivos"
   ]
  },
  {
   "cell_type": "markdown",
   "id": "b86f9ed1",
   "metadata": {
    "slideshow": {
     "slide_type": "fragment"
    }
   },
   "source": [
    "Para crear un archivo nuevo abrimos un archivo en modo escritura (`'w'`):\n",
    "\n",
    "```python\n",
    "mi_archivo = open(\"ruta/archivo.formato\", 'w')\n",
    "```\n",
    "\n",
    "Luego podemos escribir un string en el archivo con \n",
    "\n",
    "```python\n",
    "mi_archivo.write(string)\n",
    "```\n",
    "\n",
    "El string debe terminar con '\\n' para poder escribir una nueva línea después"
   ]
  },
  {
   "cell_type": "code",
   "execution_count": null,
   "id": "ffe7e44a",
   "metadata": {
    "slideshow": {
     "slide_type": "subslide"
    }
   },
   "outputs": [],
   "source": [
    "ejemplo_2 = open(\"ejemplos/ejemplo_2.txt\", 'w')"
   ]
  },
  {
   "cell_type": "code",
   "execution_count": null,
   "id": "2ae45c13",
   "metadata": {
    "slideshow": {
     "slide_type": "fragment"
    }
   },
   "outputs": [],
   "source": [
    "texto = \"vamos a escribir un archivo\"\n",
    "\n",
    "ejemplo_2.write(texto + \"\\n\")"
   ]
  },
  {
   "cell_type": "code",
   "execution_count": null,
   "id": "30206edb",
   "metadata": {
    "scrolled": true,
    "slideshow": {
     "slide_type": "fragment"
    }
   },
   "outputs": [],
   "source": [
    "texto = \"cada vez que usamos write se genera una nueva línea\"\n",
    "\n",
    "ejemplo_2.write(texto + \"\\n\")"
   ]
  },
  {
   "cell_type": "code",
   "execution_count": null,
   "id": "5145110f",
   "metadata": {
    "slideshow": {
     "slide_type": "fragment"
    }
   },
   "outputs": [],
   "source": [
    "ejemplo_2.close()"
   ]
  },
  {
   "cell_type": "markdown",
   "id": "648361bc",
   "metadata": {
    "slideshow": {
     "slide_type": "subslide"
    }
   },
   "source": [
    "Por ejemplo si queremos escribir datos de una tabla:"
   ]
  },
  {
   "cell_type": "code",
   "execution_count": null,
   "id": "a6b1e43a",
   "metadata": {
    "slideshow": {
     "slide_type": "fragment"
    }
   },
   "outputs": [],
   "source": [
    "tabla = [[0.651, 0.071, 0.803],\n",
    "         [0.751, 0.086, 0.498],\n",
    "         [0.668, 0.943, 0.304],\n",
    "         [0.080, 0.936, 0.797],\n",
    "         [0.777, 0.035, 0.350]]"
   ]
  },
  {
   "cell_type": "markdown",
   "id": "217b53b2",
   "metadata": {
    "slideshow": {
     "slide_type": "fragment"
    }
   },
   "source": [
    "En este caso debemos trabajar más los datos para convertirlos a un string, tomemos como ejemplo una fila y luego lo haremos para toda la tabla"
   ]
  },
  {
   "cell_type": "code",
   "execution_count": null,
   "id": "a8abc677",
   "metadata": {
    "slideshow": {
     "slide_type": "fragment"
    }
   },
   "outputs": [],
   "source": [
    "fila = tabla[0]\n",
    "\n",
    "fila"
   ]
  },
  {
   "cell_type": "markdown",
   "id": "6535b447",
   "metadata": {
    "slideshow": {
     "slide_type": "fragment"
    }
   },
   "source": [
    "primero convertimos los datos a string"
   ]
  },
  {
   "cell_type": "code",
   "execution_count": null,
   "id": "ca3757ee",
   "metadata": {
    "scrolled": true,
    "slideshow": {
     "slide_type": "fragment"
    }
   },
   "outputs": [],
   "source": [
    "# hacemos un loop en los índices de la fila para poder modificarla\n",
    "for i in range(len(fila)):\n",
    "    # convertimos los números a str\n",
    "    fila[i] = str(fila[i])\n",
    "    \n",
    "fila"
   ]
  },
  {
   "cell_type": "markdown",
   "id": "b3056698",
   "metadata": {
    "slideshow": {
     "slide_type": "fragment"
    }
   },
   "source": [
    "luego convertimos la fila en un string separando los elementos por coma"
   ]
  },
  {
   "cell_type": "code",
   "execution_count": null,
   "id": "fcb1e3d4",
   "metadata": {
    "slideshow": {
     "slide_type": "fragment"
    }
   },
   "outputs": [],
   "source": [
    "fila = ','.join(fila)\n",
    "\n",
    "fila"
   ]
  },
  {
   "cell_type": "markdown",
   "id": "dcad65e0",
   "metadata": {
    "slideshow": {
     "slide_type": "fragment"
    }
   },
   "source": [
    "Este es un string que podría escribirse en un archivo"
   ]
  },
  {
   "cell_type": "markdown",
   "id": "c194ecc9",
   "metadata": {
    "slideshow": {
     "slide_type": "subslide"
    }
   },
   "source": [
    "Hagámoslo con todas las filas en on loop:"
   ]
  },
  {
   "cell_type": "code",
   "execution_count": null,
   "id": "5e1ac17c",
   "metadata": {
    "slideshow": {
     "slide_type": "fragment"
    }
   },
   "outputs": [],
   "source": [
    "# abrimos el archivo en modo escritura\n",
    "ejemplo_4 = open(\"ejemplos/ejemplo_4.txt\", 'w')\n",
    "    \n",
    "# recorremos las filas en un loop y las convertimos a string\n",
    "for fila in tabla:\n",
    "    # convertimos los números a string\n",
    "    for i in range(len(fila)):\n",
    "        fila[i] = str(fila[i])\n",
    "\n",
    "    # convertimos la línea a un string de números separados por coma\n",
    "    fila = '\\t'.join(fila)\n",
    "\n",
    "    # escribimos la línea en el archivo\n",
    "    ejemplo_4.write(fila + \"\\n\")\n",
    "\n",
    "ejemplo_4.close()"
   ]
  },
  {
   "cell_type": "markdown",
   "id": "e7e6772e",
   "metadata": {
    "slideshow": {
     "slide_type": "slide"
    }
   },
   "source": [
    "# Gracias"
   ]
  }
 ],
 "metadata": {
  "hide_input": false,
  "kernelspec": {
   "display_name": "Python 3 (ipykernel)",
   "language": "python",
   "name": "python3"
  },
  "language_info": {
   "codemirror_mode": {
    "name": "ipython",
    "version": 3
   },
   "file_extension": ".py",
   "mimetype": "text/x-python",
   "name": "python",
   "nbconvert_exporter": "python",
   "pygments_lexer": "ipython3",
   "version": "3.9.12"
  },
  "toc": {
   "base_numbering": 1,
   "nav_menu": {},
   "number_sections": true,
   "sideBar": true,
   "skip_h1_title": false,
   "title_cell": "Table of Contents",
   "title_sidebar": "Contents",
   "toc_cell": false,
   "toc_position": {},
   "toc_section_display": true,
   "toc_window_display": false
  }
 },
 "nbformat": 4,
 "nbformat_minor": 5
}
