{
 "cells": [
  {
   "cell_type": "markdown",
   "id": "7e08e666",
   "metadata": {
    "slideshow": {
     "slide_type": "slide"
    }
   },
   "source": [
    "# Clase 2: Control de Flujo 1"
   ]
  },
  {
   "cell_type": "markdown",
   "id": "b750fe68",
   "metadata": {
    "slideshow": {
     "slide_type": "slide"
    }
   },
   "source": [
    "## Condicionales"
   ]
  },
  {
   "cell_type": "markdown",
   "id": "4367534b",
   "metadata": {
    "slideshow": {
     "slide_type": "fragment"
    }
   },
   "source": [
    "Comúnmente tenemos acciones que son condicionadas por una situación previa.\n",
    "\n",
    "*Si haces esto, ocurre esto*"
   ]
  },
  {
   "cell_type": "markdown",
   "id": "a9d4d1c8",
   "metadata": {
    "slideshow": {
     "slide_type": "fragment"
    }
   },
   "source": [
    "Ejemplos:\n",
    "    \n",
    "* Si apretas este botón, se enciende el computador\n",
    "* Si no riegas la planta, se seca\n",
    "* etc"
   ]
  },
  {
   "cell_type": "markdown",
   "id": "41ac1c7f",
   "metadata": {
    "slideshow": {
     "slide_type": "slide"
    }
   },
   "source": [
    "### Condición if"
   ]
  },
  {
   "cell_type": "markdown",
   "id": "462150c1",
   "metadata": {
    "slideshow": {
     "slide_type": "fragment"
    }
   },
   "source": [
    "Podemos lograr esto en programación con condicionales, en Python tiene la siguiente sintaxis:\n",
    "\n",
    "```python\n",
    "if condicion:\n",
    "    codigo condicionado\n",
    "    (...)\n",
    "    \n",
    "codigo no condicionado\n",
    "(...)\n",
    "```\n",
    "\n",
    "Donde `condicion` es una varible booleana y el bloque `codigo condicionado` solo se ejecuta si `condicion` es `True`, luego continua con el `codigo no condicionado`\n",
    "\n",
    "Nota: un bloque de código es una sección identada (desplazada a la derecha 4 espacios), esto se logra con la tecla tab"
   ]
  },
  {
   "cell_type": "markdown",
   "id": "63980615",
   "metadata": {
    "slideshow": {
     "slide_type": "subslide"
    }
   },
   "source": [
    "Veamos un ejemplo:"
   ]
  },
  {
   "cell_type": "code",
   "execution_count": null,
   "id": "f90e1f45",
   "metadata": {
    "slideshow": {
     "slide_type": "fragment"
    }
   },
   "outputs": [],
   "source": [
    "x = -7\n",
    "\n",
    "if x > 0:\n",
    "    print(\"x es positivo\")\n",
    "    print(\"esto solo aparece si la condición es verdadera\\n\")\n",
    "    \n",
    "print(\"continua el codigo\")\n",
    "print(\"esto siempre se imprime\")"
   ]
  },
  {
   "cell_type": "markdown",
   "id": "726aa6c5",
   "metadata": {
    "slideshow": {
     "slide_type": "fragment"
    }
   },
   "source": [
    "* si `x` es positivo se ejecuta el código identado y además el código que viene después\n",
    "* si `x` no es positivo no se ejecuta el código identado, solo el que viene después"
   ]
  },
  {
   "cell_type": "markdown",
   "id": "438720d9",
   "metadata": {
    "slideshow": {
     "slide_type": "slide"
    }
   },
   "source": [
    "### Condición elif"
   ]
  },
  {
   "cell_type": "markdown",
   "id": "165fbc3a",
   "metadata": {
    "slideshow": {
     "slide_type": "fragment"
    }
   },
   "source": [
    "En muchas ocasiones queremos probar varias condiciones **excluyentes**, ej:\n",
    "\n",
    "* si presionas el botón verde se apaga el reactor, si apretas el botón rojo explota la planta\n"
   ]
  },
  {
   "cell_type": "markdown",
   "id": "bc1f4f2c",
   "metadata": {
    "slideshow": {
     "slide_type": "fragment"
    }
   },
   "source": [
    "Para esto usamos la condición `elif` con la siguiente sintaxis:\n",
    "\n",
    "```python\n",
    "if condicion_1:\n",
    "    solo si condicion_1 es True\n",
    "    (...)\n",
    "elif condicion_2:\n",
    "    solo si condicion_1 es False y condicion_2 es True\n",
    "    (...)\n",
    "elif condicion_3:\n",
    "    solo si condicion_1 y condicion_2 son False y condicion_3 es True\n",
    "    (...)\n",
    "\n",
    "codigo no condicionado\n",
    "(...)\n",
    "```"
   ]
  },
  {
   "cell_type": "markdown",
   "id": "7ac387d5",
   "metadata": {},
   "source": [
    "La declaración `elif` debe ir siempre después de una declaración `if` u otro `elif`"
   ]
  },
  {
   "cell_type": "markdown",
   "id": "8f6805b4",
   "metadata": {
    "slideshow": {
     "slide_type": "subslide"
    }
   },
   "source": [
    "Veamos un ejemplo que simula un menú de opciones:"
   ]
  },
  {
   "cell_type": "code",
   "execution_count": null,
   "id": "747234d1",
   "metadata": {
    "slideshow": {
     "slide_type": "fragment"
    }
   },
   "outputs": [],
   "source": [
    "print(\"Su gato está maullando, que hacer:\\n\")\n",
    "print(\"opciones:\\n* A: Alimentaro\\n* B: Acariciarlo\\n* C: Bañarlo\\n\")\n",
    "\n",
    "eleccion = input(\"elija una opción (A, B o C): \")\n",
    "print()\n",
    "\n",
    "if eleccion == \"A\":\n",
    "    print(\"Alimentando al gato...\")\n",
    "    print(\"El gato come como si no hubiera un mañana\")\n",
    "    \n",
    "elif eleccion == \"B\":\n",
    "    print(\"Acariciando al gato\")\n",
    "    print(\"ronroneos\")\n",
    "    \n",
    "elif eleccion == \"C\":\n",
    "    print(\"Usted intenta bañar al gato\")\n",
    "    print(\"El gato huye despavorido\")\n",
    "    \n",
    "print(\"\\nmiau\")"
   ]
  },
  {
   "cell_type": "markdown",
   "id": "26759f9b",
   "metadata": {
    "slideshow": {
     "slide_type": "slide"
    }
   },
   "source": [
    "### Condición Else"
   ]
  },
  {
   "cell_type": "markdown",
   "id": "7151923b",
   "metadata": {
    "slideshow": {
     "slide_type": "fragment"
    }
   },
   "source": [
    "* La condición `else` captura cualquier caso que no corresponda a la condición `if` o `elif` previas\n",
    "* Equivale a \"*en otro caso ...*\"\n",
    "* No requiere una condición explícita\n",
    "* Una vez usamos la declaración `else` ya no podemos usar otras condiciones `elif`\n",
    "\n",
    "Se usa con la siguiente sintaxis:\n",
    "\n",
    "```python\n",
    "if condicion_1:\n",
    "    solo si condicion_1 es True\n",
    "    (...)\n",
    "elif condicion_2:\n",
    "    solo si condicion_1 es False y condicion_2 es True\n",
    "    (...)\n",
    "elif condicion_3:\n",
    "    solo si condicion_1 y condicion_2 son False y condicion_3 es True\n",
    "    (...)\n",
    "else:\n",
    "    si condicion_1, condicion_2 y condicion_3 son False\n",
    "    (...)\n",
    "\n",
    "codigo no condicionado\n",
    "(...)\n",
    "```"
   ]
  },
  {
   "cell_type": "markdown",
   "id": "8ffd88e8",
   "metadata": {
    "slideshow": {
     "slide_type": "subslide"
    }
   },
   "source": [
    "Veamos un ejemplo:"
   ]
  },
  {
   "cell_type": "code",
   "execution_count": null,
   "id": "d1f21ca8",
   "metadata": {
    "slideshow": {
     "slide_type": "fragment"
    }
   },
   "outputs": [],
   "source": [
    "clima = \"soleado\"\n",
    "\n",
    "if clima == \"lluvioso\":\n",
    "    print(\"me quedo en la casa\")\n",
    "    \n",
    "else:\n",
    "    print(\"salgo a trabajar\")"
   ]
  },
  {
   "cell_type": "markdown",
   "id": "d70923f4",
   "metadata": {
    "slideshow": {
     "slide_type": "subslide"
    }
   },
   "source": [
    "Otro ejemplo"
   ]
  },
  {
   "cell_type": "code",
   "execution_count": null,
   "id": "ce96ba42",
   "metadata": {
    "slideshow": {
     "slide_type": "fragment"
    }
   },
   "outputs": [],
   "source": [
    "print(\"Su gato está maullando, que hacer:\\n\")\n",
    "print(\"opciones:\\n* A: Alimentaro\\n* B: Acariciarlo\\n* C: Bañarlo\\n\")\n",
    "\n",
    "eleccion = input(\"elija una opción (A, B o C): \")\n",
    "print()\n",
    "\n",
    "if eleccion == \"A\":\n",
    "    print(\"Alimentando al gato...\")\n",
    "    print(\"El gato come como si no hubiera un mañana\")\n",
    "    \n",
    "elif eleccion == \"B\":\n",
    "    print(\"Acariciando al gato\")\n",
    "    print(\"ronroneos\")\n",
    "    \n",
    "elif eleccion == \"C\":\n",
    "    print(\"Usted intenta bañar al gato\")\n",
    "    print(\"El gato huye despavorido\")\n",
    "    \n",
    "else:\n",
    "    print(\"Has ignorado al gato\")\n",
    "    \n",
    "print(\"\\nmiau\")"
   ]
  },
  {
   "cell_type": "markdown",
   "id": "5975dfa4",
   "metadata": {
    "slideshow": {
     "slide_type": "slide"
    }
   },
   "source": [
    "### Condiciones anidadas"
   ]
  },
  {
   "cell_type": "markdown",
   "id": "55da7428",
   "metadata": {
    "slideshow": {
     "slide_type": "fragment"
    }
   },
   "source": [
    "Una condición anidada es una condición dentro de otra, para esto repetimos la misma sintaxis pero dentro del bloque identado:\n",
    "\n",
    "```python\n",
    "if condicion_A:\n",
    "    if condicion_A1:\n",
    "        solo si condicion_A1 es True y condicion_A1 es True\n",
    "    else:\n",
    "        solo si condicion_A1 es True y condicion_A1 es False\n",
    "elif condicion_B:\n",
    "    if condicion_B1:\n",
    "        solo si condicion_B1 es True y condicion_B1 es True\n",
    "    else:\n",
    "        solo si condicion_B1 es True y condicion_B1 es False\n",
    "else:\n",
    "    si condicion_A y condicion_B son False\n",
    "    (...)\n",
    "\n",
    "codigo no condicionado\n",
    "(...)\n",
    "```"
   ]
  },
  {
   "cell_type": "markdown",
   "id": "bf1066dc",
   "metadata": {
    "slideshow": {
     "slide_type": "subslide"
    }
   },
   "source": [
    "Ejemplo"
   ]
  },
  {
   "cell_type": "code",
   "execution_count": null,
   "id": "3afc98e7",
   "metadata": {
    "slideshow": {
     "slide_type": "fragment"
    }
   },
   "outputs": [],
   "source": [
    "print(\"Bienvenido al banco QTC, el banco de seguridad mundial\")\n",
    "print()\n",
    "\n",
    "clave_correcta = \"miau\"\n",
    "saldo = 3000\n",
    "\n",
    "clave = input(\"Ingrese su clave: \")\n",
    "print()\n",
    "\n",
    "if clave == clave_correcta:\n",
    "    print(\"¿Qué desea hacer?\")\n",
    "    print(\"1) Ver saldo\")\n",
    "    print(\"2) Retirar dinero\")\n",
    "    \n",
    "    opcion = input(\"Elija una opción (1 o 2):\")\n",
    "    print()\n",
    "    \n",
    "    if opcion == \"1\":\n",
    "        print(\"Su saldo es:\", saldo)\n",
    "        \n",
    "    elif opcion == \"2\":\n",
    "        monto = int(input(\"Indique el monto a retirar: \"))\n",
    "        print()\n",
    "        if monto <= saldo:\n",
    "            saldo -= monto\n",
    "            print(\"Ha retirado:\", monto) \n",
    "            print(\"Su saldo es:\", saldo)\n",
    "        else:\n",
    "            print(\"No tiene suficiente saldo para este retiro, intente nuevamente\")\n",
    "    \n",
    "    else:\n",
    "        print(\"Opción inválida, intente nuevamente\")\n",
    "    \n",
    "else:\n",
    "    print(\"Clave incorrecta, vuelva a intentarlo\")"
   ]
  },
  {
   "cell_type": "markdown",
   "id": "e7dab3d1",
   "metadata": {
    "slideshow": {
     "slide_type": "slide"
    }
   },
   "source": [
    "#### Ejercicios en conjunto"
   ]
  },
  {
   "cell_type": "markdown",
   "id": "eebd3f92",
   "metadata": {
    "slideshow": {
     "slide_type": "fragment"
    }
   },
   "source": [
    "**Ejercicio: Calculadora**\n",
    "\n",
    "* Queremos hacer una calculadora que tome dos números y una operación y entregue el resultado\n",
    "* Debe aceptar números que sean enteros o decimales\n",
    "* Debe aceptar las siguientes operaciones:\n",
    "  * suma\n",
    "  * resta\n",
    "  * multiplicación\n",
    "  * potencia\n",
    "* Si se ingresa una operación no inválida se debe avisar al usuario\n",
    "* Debe imprimir la operación como una ecuación\n",
    "\n",
    "Ejemplo de input:\n",
    "```\n",
    "7\n",
    "9\n",
    "+\n",
    "```\n",
    "\n",
    "Ejemplo de output:\n",
    "```\n",
    "7 + 9 = 16\n",
    "```"
   ]
  },
  {
   "cell_type": "markdown",
   "id": "9ee35995",
   "metadata": {
    "slideshow": {
     "slide_type": "slide"
    }
   },
   "source": [
    "## Ejercicio\n",
    "\n",
    "vamos a [Mimir](https://www.mimirhq.com/)!"
   ]
  }
 ],
 "metadata": {
  "kernelspec": {
   "display_name": "astro",
   "language": "python",
   "name": "astro"
  },
  "language_info": {
   "codemirror_mode": {
    "name": "ipython",
    "version": 3
   },
   "file_extension": ".py",
   "mimetype": "text/x-python",
   "name": "python",
   "nbconvert_exporter": "python",
   "pygments_lexer": "ipython3",
   "version": "3.9.12"
  }
 },
 "nbformat": 4,
 "nbformat_minor": 5
}
